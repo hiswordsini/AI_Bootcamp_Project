{
  "nbformat": 4,
  "nbformat_minor": 0,
  "metadata": {
    "colab": {
      "name": "Section2.ipynb",
      "provenance": [],
      "authorship_tag": "ABX9TyO317eajTAFgHX5pwXRrtdO",
      "include_colab_link": true
    },
    "kernelspec": {
      "name": "python3",
      "display_name": "Python 3"
    },
    "language_info": {
      "name": "python"
    }
  },
  "cells": [
    {
      "cell_type": "markdown",
      "metadata": {
        "id": "view-in-github",
        "colab_type": "text"
      },
      "source": [
        "<a href=\"https://colab.research.google.com/github/hiswordsini/AI_Bootcamp_Project/blob/main/Section2.ipynb\" target=\"_parent\"><img src=\"https://colab.research.google.com/assets/colab-badge.svg\" alt=\"Open In Colab\"/></a>"
      ]
    },
    {
      "cell_type": "code",
      "metadata": {
        "id": "_bIU3NR4FtpZ"
      },
      "source": [
        "from sklearn.linear_model import LinearRegression, LogisticRegression\n",
        "import pandas as pd\n",
        "import pandas_profiling\n",
        "import numpy as np\n",
        "from sklearn.utils import resample\n",
        "from sklearn.preprocessing import LabelEncoder,OrdinalEncoder\n",
        "from sklearn.pipeline import make_pipeline\n",
        "from sklearn.metrics import f1_score, accuracy_score, confusion_matrix, roc_curve, roc_auc_score, auc, classification_report\n",
        "from matplotlib import pyplot as plt\n",
        "import seaborn as sns\n",
        "from scipy import stats\n",
        "from scipy.stats import chi2_contingency\n",
        "from sklearn.model_selection import train_test_split, GridSearchCV"
      ],
      "execution_count": 1,
      "outputs": []
    },
    {
      "cell_type": "code",
      "metadata": {
        "colab": {
          "base_uri": "https://localhost:8080/",
          "height": 1000
        },
        "id": "IrR56W6JC4tK",
        "outputId": "3ffab49e-846c-47e7-ddb6-0a891d12afbe"
      },
      "source": [
        "pip install -U pandas-profiling"
      ],
      "execution_count": 2,
      "outputs": [
        {
          "output_type": "stream",
          "text": [
            "Collecting pandas-profiling\n",
            "\u001b[?25l  Downloading https://files.pythonhosted.org/packages/3b/a3/34519d16e5ebe69bad30c5526deea2c3912634ced7f9b5e6e0bb9dbbd567/pandas_profiling-3.0.0-py2.py3-none-any.whl (248kB)\n",
            "\u001b[K     |████████████████████████████████| 256kB 4.8MB/s \n",
            "\u001b[?25hCollecting tqdm>=4.48.2\n",
            "\u001b[?25l  Downloading https://files.pythonhosted.org/packages/b4/20/9f1e974bb4761128fc0d0a32813eaa92827309b1756c4b892d28adfb4415/tqdm-4.61.1-py2.py3-none-any.whl (75kB)\n",
            "\u001b[K     |████████████████████████████████| 81kB 9.5MB/s \n",
            "\u001b[?25hRequirement already satisfied, skipping upgrade: scipy>=1.4.1 in /usr/local/lib/python3.7/dist-packages (from pandas-profiling) (1.4.1)\n",
            "Requirement already satisfied, skipping upgrade: pandas!=1.0.0,!=1.0.1,!=1.0.2,!=1.1.0,>=0.25.3 in /usr/local/lib/python3.7/dist-packages (from pandas-profiling) (1.1.5)\n",
            "Collecting htmlmin>=0.1.12\n",
            "  Downloading https://files.pythonhosted.org/packages/b3/e7/fcd59e12169de19f0131ff2812077f964c6b960e7c09804d30a7bf2ab461/htmlmin-0.1.12.tar.gz\n",
            "Collecting requests>=2.24.0\n",
            "\u001b[?25l  Downloading https://files.pythonhosted.org/packages/29/c1/24814557f1d22c56d50280771a17307e6bf87b70727d975fd6b2ce6b014a/requests-2.25.1-py2.py3-none-any.whl (61kB)\n",
            "\u001b[K     |████████████████████████████████| 61kB 7.0MB/s \n",
            "\u001b[?25hRequirement already satisfied, skipping upgrade: matplotlib>=3.2.0 in /usr/local/lib/python3.7/dist-packages (from pandas-profiling) (3.2.2)\n",
            "Collecting tangled-up-in-unicode==0.1.0\n",
            "\u001b[?25l  Downloading https://files.pythonhosted.org/packages/93/3e/cb354fb2097fcf2fd5b5a342b10ae2a6e9363ba435b64e3e00c414064bc7/tangled_up_in_unicode-0.1.0-py3-none-any.whl (3.1MB)\n",
            "\u001b[K     |████████████████████████████████| 3.1MB 39.4MB/s \n",
            "\u001b[?25hRequirement already satisfied, skipping upgrade: jinja2>=2.11.1 in /usr/local/lib/python3.7/dist-packages (from pandas-profiling) (2.11.3)\n",
            "Requirement already satisfied, skipping upgrade: numpy>=1.16.0 in /usr/local/lib/python3.7/dist-packages (from pandas-profiling) (1.19.5)\n",
            "Collecting phik>=0.11.1\n",
            "\u001b[?25l  Downloading https://files.pythonhosted.org/packages/b7/ce/193e8ddf62d4be643b9b4b20e8e9c63b2f6a20f92778c0410c629f89bdaa/phik-0.11.2.tar.gz (1.1MB)\n",
            "\u001b[K     |████████████████████████████████| 1.1MB 38.3MB/s \n",
            "\u001b[?25hRequirement already satisfied, skipping upgrade: seaborn>=0.10.1 in /usr/local/lib/python3.7/dist-packages (from pandas-profiling) (0.11.1)\n",
            "Collecting PyYAML>=5.0.0\n",
            "\u001b[?25l  Downloading https://files.pythonhosted.org/packages/7a/a5/393c087efdc78091afa2af9f1378762f9821c9c1d7a22c5753fb5ac5f97a/PyYAML-5.4.1-cp37-cp37m-manylinux1_x86_64.whl (636kB)\n",
            "\u001b[K     |████████████████████████████████| 645kB 37.7MB/s \n",
            "\u001b[?25hCollecting pydantic>=1.8.1\n",
            "\u001b[?25l  Downloading https://files.pythonhosted.org/packages/9f/f2/2d5425efe57f6c4e06cbe5e587c1fd16929dcf0eb90bd4d3d1e1c97d1151/pydantic-1.8.2-cp37-cp37m-manylinux2014_x86_64.whl (10.1MB)\n",
            "\u001b[K     |████████████████████████████████| 10.1MB 40.1MB/s \n",
            "\u001b[?25hCollecting visions[type_image_path]==0.7.1\n",
            "\u001b[?25l  Downloading https://files.pythonhosted.org/packages/80/96/01e4ba22cef96ae5035dbcf0451c2f4f859f8f17393b98406b23f0034279/visions-0.7.1-py3-none-any.whl (102kB)\n",
            "\u001b[K     |████████████████████████████████| 112kB 45.8MB/s \n",
            "\u001b[?25hRequirement already satisfied, skipping upgrade: missingno>=0.4.2 in /usr/local/lib/python3.7/dist-packages (from pandas-profiling) (0.4.2)\n",
            "Requirement already satisfied, skipping upgrade: joblib in /usr/local/lib/python3.7/dist-packages (from pandas-profiling) (1.0.1)\n",
            "Requirement already satisfied, skipping upgrade: python-dateutil>=2.7.3 in /usr/local/lib/python3.7/dist-packages (from pandas!=1.0.0,!=1.0.1,!=1.0.2,!=1.1.0,>=0.25.3->pandas-profiling) (2.8.1)\n",
            "Requirement already satisfied, skipping upgrade: pytz>=2017.2 in /usr/local/lib/python3.7/dist-packages (from pandas!=1.0.0,!=1.0.1,!=1.0.2,!=1.1.0,>=0.25.3->pandas-profiling) (2018.9)\n",
            "Requirement already satisfied, skipping upgrade: certifi>=2017.4.17 in /usr/local/lib/python3.7/dist-packages (from requests>=2.24.0->pandas-profiling) (2021.5.30)\n",
            "Requirement already satisfied, skipping upgrade: idna<3,>=2.5 in /usr/local/lib/python3.7/dist-packages (from requests>=2.24.0->pandas-profiling) (2.10)\n",
            "Requirement already satisfied, skipping upgrade: chardet<5,>=3.0.2 in /usr/local/lib/python3.7/dist-packages (from requests>=2.24.0->pandas-profiling) (3.0.4)\n",
            "Requirement already satisfied, skipping upgrade: urllib3<1.27,>=1.21.1 in /usr/local/lib/python3.7/dist-packages (from requests>=2.24.0->pandas-profiling) (1.24.3)\n",
            "Requirement already satisfied, skipping upgrade: cycler>=0.10 in /usr/local/lib/python3.7/dist-packages (from matplotlib>=3.2.0->pandas-profiling) (0.10.0)\n",
            "Requirement already satisfied, skipping upgrade: pyparsing!=2.0.4,!=2.1.2,!=2.1.6,>=2.0.1 in /usr/local/lib/python3.7/dist-packages (from matplotlib>=3.2.0->pandas-profiling) (2.4.7)\n",
            "Requirement already satisfied, skipping upgrade: kiwisolver>=1.0.1 in /usr/local/lib/python3.7/dist-packages (from matplotlib>=3.2.0->pandas-profiling) (1.3.1)\n",
            "Requirement already satisfied, skipping upgrade: MarkupSafe>=0.23 in /usr/local/lib/python3.7/dist-packages (from jinja2>=2.11.1->pandas-profiling) (2.0.1)\n",
            "Requirement already satisfied, skipping upgrade: typing-extensions>=3.7.4.3 in /usr/local/lib/python3.7/dist-packages (from pydantic>=1.8.1->pandas-profiling) (3.7.4.3)\n",
            "Requirement already satisfied, skipping upgrade: bottleneck in /usr/local/lib/python3.7/dist-packages (from visions[type_image_path]==0.7.1->pandas-profiling) (1.3.2)\n",
            "Collecting multimethod==1.4\n",
            "  Downloading https://files.pythonhosted.org/packages/7a/d0/ce5ad0392aa12645b7ad91a5983d6b625b704b021d9cd48c587630c1a9ac/multimethod-1.4-py2.py3-none-any.whl\n",
            "Requirement already satisfied, skipping upgrade: attrs>=19.3.0 in /usr/local/lib/python3.7/dist-packages (from visions[type_image_path]==0.7.1->pandas-profiling) (21.2.0)\n",
            "Requirement already satisfied, skipping upgrade: networkx>=2.4 in /usr/local/lib/python3.7/dist-packages (from visions[type_image_path]==0.7.1->pandas-profiling) (2.5.1)\n",
            "Collecting imagehash; extra == \"type_image_path\"\n",
            "\u001b[?25l  Downloading https://files.pythonhosted.org/packages/8e/18/9dbb772b5ef73a3069c66bb5bf29b9fb4dd57af0d5790c781c3f559bcca6/ImageHash-4.2.0-py2.py3-none-any.whl (295kB)\n",
            "\u001b[K     |████████████████████████████████| 296kB 28.7MB/s \n",
            "\u001b[?25hRequirement already satisfied, skipping upgrade: Pillow; extra == \"type_image_path\" in /usr/local/lib/python3.7/dist-packages (from visions[type_image_path]==0.7.1->pandas-profiling) (7.1.2)\n",
            "Requirement already satisfied, skipping upgrade: six>=1.5 in /usr/local/lib/python3.7/dist-packages (from python-dateutil>=2.7.3->pandas!=1.0.0,!=1.0.1,!=1.0.2,!=1.1.0,>=0.25.3->pandas-profiling) (1.15.0)\n",
            "Requirement already satisfied, skipping upgrade: decorator<5,>=4.3 in /usr/local/lib/python3.7/dist-packages (from networkx>=2.4->visions[type_image_path]==0.7.1->pandas-profiling) (4.4.2)\n",
            "Requirement already satisfied, skipping upgrade: PyWavelets in /usr/local/lib/python3.7/dist-packages (from imagehash; extra == \"type_image_path\"->visions[type_image_path]==0.7.1->pandas-profiling) (1.1.1)\n",
            "Building wheels for collected packages: htmlmin, phik\n",
            "  Building wheel for htmlmin (setup.py) ... \u001b[?25l\u001b[?25hdone\n",
            "  Created wheel for htmlmin: filename=htmlmin-0.1.12-cp37-none-any.whl size=27099 sha256=7d2ed40782bbc45da29ef37860b0811b1c8b0d58a90c99a27b09d17c2e55b4b4\n",
            "  Stored in directory: /root/.cache/pip/wheels/43/07/ac/7c5a9d708d65247ac1f94066cf1db075540b85716c30255459\n",
            "  Building wheel for phik (setup.py) ... \u001b[?25l\u001b[?25hdone\n",
            "  Created wheel for phik: filename=phik-0.11.2-cp37-none-any.whl size=1107437 sha256=f55cfeea0dd421e6be00df52656adfa0ff512044820a5092474fc19e2460d9b8\n",
            "  Stored in directory: /root/.cache/pip/wheels/c0/a3/b0/f27b1cfe32ea131a3715169132ff6d85653789e80e966c3bf6\n",
            "Successfully built htmlmin phik\n",
            "\u001b[31mERROR: google-colab 1.0.0 has requirement requests~=2.23.0, but you'll have requests 2.25.1 which is incompatible.\u001b[0m\n",
            "\u001b[31mERROR: datascience 0.10.6 has requirement folium==0.2.1, but you'll have folium 0.8.3 which is incompatible.\u001b[0m\n",
            "\u001b[31mERROR: phik 0.11.2 has requirement scipy>=1.5.2, but you'll have scipy 1.4.1 which is incompatible.\u001b[0m\n",
            "Installing collected packages: tqdm, htmlmin, requests, tangled-up-in-unicode, phik, PyYAML, pydantic, multimethod, imagehash, visions, pandas-profiling\n",
            "  Found existing installation: tqdm 4.41.1\n",
            "    Uninstalling tqdm-4.41.1:\n",
            "      Successfully uninstalled tqdm-4.41.1\n",
            "  Found existing installation: requests 2.23.0\n",
            "    Uninstalling requests-2.23.0:\n",
            "      Successfully uninstalled requests-2.23.0\n",
            "  Found existing installation: PyYAML 3.13\n",
            "    Uninstalling PyYAML-3.13:\n",
            "      Successfully uninstalled PyYAML-3.13\n",
            "  Found existing installation: pandas-profiling 1.4.1\n",
            "    Uninstalling pandas-profiling-1.4.1:\n",
            "      Successfully uninstalled pandas-profiling-1.4.1\n",
            "Successfully installed PyYAML-5.4.1 htmlmin-0.1.12 imagehash-4.2.0 multimethod-1.4 pandas-profiling-3.0.0 phik-0.11.2 pydantic-1.8.2 requests-2.25.1 tangled-up-in-unicode-0.1.0 tqdm-4.61.1 visions-0.7.1\n"
          ],
          "name": "stdout"
        },
        {
          "output_type": "display_data",
          "data": {
            "application/vnd.colab-display-data+json": {
              "pip_warning": {
                "packages": [
                  "pandas_profiling"
                ]
              }
            }
          },
          "metadata": {
            "tags": []
          }
        }
      ]
    },
    {
      "cell_type": "code",
      "metadata": {
        "id": "dxJGZb_qBHtC",
        "colab": {
          "base_uri": "https://localhost:8080/"
        },
        "outputId": "1413956a-e133-4d25-d7ba-caf7b358673b"
      },
      "source": [
        "from google.colab import drive\n",
        "\n",
        "drive.mount('/content/gdrive')"
      ],
      "execution_count": 2,
      "outputs": [
        {
          "output_type": "stream",
          "text": [
            "Drive already mounted at /content/gdrive; to attempt to forcibly remount, call drive.mount(\"/content/gdrive\", force_remount=True).\n"
          ],
          "name": "stdout"
        }
      ]
    },
    {
      "cell_type": "code",
      "metadata": {
        "id": "H75VyHoJthBF"
      },
      "source": [
        "#https://www.kaggle.com/arashnic/hr-analytics-job-change-of-data-scientists\n",
        "#HR Analytics: Job Change of Data Scientists\n",
        "\n",
        "\n",
        "train = pd.read_csv('/content/gdrive/MyDrive/Kaggle/DS_Job_Change/aug_train.csv')\n",
        "test = pd.read_csv('/content/gdrive/MyDrive/Kaggle/DS_Job_Change/aug_test.csv')"
      ],
      "execution_count": 3,
      "outputs": []
    },
    {
      "cell_type": "markdown",
      "metadata": {
        "id": "2mfPl1LKDVna"
      },
      "source": [
        "#**초기 탐색**"
      ]
    },
    {
      "cell_type": "code",
      "metadata": {
        "colab": {
          "base_uri": "https://localhost:8080/"
        },
        "id": "kIMGU16PDiuj",
        "outputId": "51f44838-aec8-47b7-f040-239ef1f4cbef"
      },
      "source": [
        "train.shape, test.shape"
      ],
      "execution_count": 4,
      "outputs": [
        {
          "output_type": "execute_result",
          "data": {
            "text/plain": [
              "((19158, 14), (2129, 13))"
            ]
          },
          "metadata": {
            "tags": []
          },
          "execution_count": 4
        }
      ]
    },
    {
      "cell_type": "code",
      "metadata": {
        "colab": {
          "base_uri": "https://localhost:8080/"
        },
        "id": "DpjgvFMmDpNL",
        "outputId": "c70c10ce-981b-426b-a2eb-f671fda85b6a"
      },
      "source": [
        "train.columns"
      ],
      "execution_count": 5,
      "outputs": [
        {
          "output_type": "execute_result",
          "data": {
            "text/plain": [
              "Index(['enrollee_id', 'city', 'city_development_index', 'gender',\n",
              "       'relevent_experience', 'enrolled_university', 'education_level',\n",
              "       'major_discipline', 'experience', 'company_size', 'company_type',\n",
              "       'last_new_job', 'training_hours', 'target'],\n",
              "      dtype='object')"
            ]
          },
          "metadata": {
            "tags": []
          },
          "execution_count": 5
        }
      ]
    },
    {
      "cell_type": "code",
      "metadata": {
        "colab": {
          "base_uri": "https://localhost:8080/"
        },
        "id": "P2X0c4ApDw3G",
        "outputId": "d4f528f3-ab9b-43df-e161-5b72d02ea803"
      },
      "source": [
        "train.info()"
      ],
      "execution_count": 6,
      "outputs": [
        {
          "output_type": "stream",
          "text": [
            "<class 'pandas.core.frame.DataFrame'>\n",
            "RangeIndex: 19158 entries, 0 to 19157\n",
            "Data columns (total 14 columns):\n",
            " #   Column                  Non-Null Count  Dtype  \n",
            "---  ------                  --------------  -----  \n",
            " 0   enrollee_id             19158 non-null  int64  \n",
            " 1   city                    19158 non-null  object \n",
            " 2   city_development_index  19158 non-null  float64\n",
            " 3   gender                  14650 non-null  object \n",
            " 4   relevent_experience     19158 non-null  object \n",
            " 5   enrolled_university     18772 non-null  object \n",
            " 6   education_level         18698 non-null  object \n",
            " 7   major_discipline        16345 non-null  object \n",
            " 8   experience              19093 non-null  object \n",
            " 9   company_size            13220 non-null  object \n",
            " 10  company_type            13018 non-null  object \n",
            " 11  last_new_job            18735 non-null  object \n",
            " 12  training_hours          19158 non-null  int64  \n",
            " 13  target                  19158 non-null  float64\n",
            "dtypes: float64(2), int64(2), object(10)\n",
            "memory usage: 2.0+ MB\n"
          ],
          "name": "stdout"
        }
      ]
    },
    {
      "cell_type": "markdown",
      "metadata": {
        "id": "BXRW4BrfEmqu"
      },
      "source": [
        "*   ID와 타겟을 제외하고 2가지 특성만 수치형이고 나머지는 모두 범주형 특성이다. 이 중에서 last_new_job와 experience 같은 특성은 수치형으로 변환 할 것이다. 그래서 총 4가지 수치형 특성이 있는 자료가 될 것이다."
      ]
    },
    {
      "cell_type": "code",
      "metadata": {
        "colab": {
          "base_uri": "https://localhost:8080/"
        },
        "id": "ASEwMzofGFPx",
        "outputId": "b54fd8c9-c25b-4f31-f476-91f9677fd10e"
      },
      "source": [
        "train.isnull().sum()"
      ],
      "execution_count": 7,
      "outputs": [
        {
          "output_type": "execute_result",
          "data": {
            "text/plain": [
              "enrollee_id                  0\n",
              "city                         0\n",
              "city_development_index       0\n",
              "gender                    4508\n",
              "relevent_experience          0\n",
              "enrolled_university        386\n",
              "education_level            460\n",
              "major_discipline          2813\n",
              "experience                  65\n",
              "company_size              5938\n",
              "company_type              6140\n",
              "last_new_job               423\n",
              "training_hours               0\n",
              "target                       0\n",
              "dtype: int64"
            ]
          },
          "metadata": {
            "tags": []
          },
          "execution_count": 7
        }
      ]
    },
    {
      "cell_type": "markdown",
      "metadata": {
        "id": "BHDph8HnGgUm"
      },
      "source": [
        "*   절반 이상의 특성들이 결측치를 포함하고 있음을 알 수 있다. 각각의 컬럼을 분석하면서 처리해 나갈 것이다."
      ]
    },
    {
      "cell_type": "code",
      "metadata": {
        "colab": {
          "base_uri": "https://localhost:8080/"
        },
        "id": "m39VJBMx8HAt",
        "outputId": "b8be13d7-55b8-4179-9e0c-c753623f3ce2"
      },
      "source": [
        "train.target.value_counts()"
      ],
      "execution_count": 8,
      "outputs": [
        {
          "output_type": "execute_result",
          "data": {
            "text/plain": [
              "0.0    14381\n",
              "1.0     4777\n",
              "Name: target, dtype: int64"
            ]
          },
          "metadata": {
            "tags": []
          },
          "execution_count": 8
        }
      ]
    },
    {
      "cell_type": "code",
      "metadata": {
        "colab": {
          "base_uri": "https://localhost:8080/"
        },
        "id": "vNB062PG8frv",
        "outputId": "04472e5a-3bc6-471f-e06d-d1bbdea00a0e"
      },
      "source": [
        "train.target.value_counts(normalize=True)"
      ],
      "execution_count": 9,
      "outputs": [
        {
          "output_type": "execute_result",
          "data": {
            "text/plain": [
              "0.0    0.750652\n",
              "1.0    0.249348\n",
              "Name: target, dtype: float64"
            ]
          },
          "metadata": {
            "tags": []
          },
          "execution_count": 9
        }
      ]
    },
    {
      "cell_type": "markdown",
      "metadata": {
        "id": "-Yg1i6OX8iDk"
      },
      "source": [
        "\n",
        "\n",
        "*   데이터가 불균형임을 알 수 있다.\n",
        "*   데이터 불균형 문제 부터 처리할 것이다.\n",
        "\n"
      ]
    },
    {
      "cell_type": "markdown",
      "metadata": {
        "id": "7yLhIdj98hU1"
      },
      "source": [
        "*   target 0: 직장을 옮기지 않는다와 target 1:직장을 옮긴다 간의 차이가 많은 불균형 데이터 셋이므로 데이터가 적은 target 1의 데이터를 늘리는 업샘플링으로 데이터셋의 균형을 맞춰 볼 것입니다."
      ]
    },
    {
      "cell_type": "markdown",
      "metadata": {
        "id": "gjDOmaFJ-L7D"
      },
      "source": [
        " \n",
        "\n",
        "* 그전에 데이터 Leakage 방지를 위해 훈련세트와 검증 세트로 먼저 데이터를 나눈 후 업샘플링을 할 것입니다. \n"
      ]
    },
    {
      "cell_type": "code",
      "metadata": {
        "colab": {
          "base_uri": "https://localhost:8080/"
        },
        "id": "wTXKR7PCEF73",
        "outputId": "86b69faf-5394-419d-989d-9837be8efa2a"
      },
      "source": [
        "train, val = train_test_split(train, test_size=0.2, random_state=2)\n",
        "train.shape, val.shape"
      ],
      "execution_count": 10,
      "outputs": [
        {
          "output_type": "execute_result",
          "data": {
            "text/plain": [
              "((15326, 14), (3832, 14))"
            ]
          },
          "metadata": {
            "tags": []
          },
          "execution_count": 10
        }
      ]
    },
    {
      "cell_type": "markdown",
      "metadata": {
        "id": "aN4La5mOVYI3"
      },
      "source": [
        "훈련 데이터와 검증 데이터에 대해서 업샘플링을 합니다."
      ]
    },
    {
      "cell_type": "code",
      "metadata": {
        "colab": {
          "base_uri": "https://localhost:8080/"
        },
        "id": "Wz8y6emS6J9y",
        "outputId": "0183127b-4305-44ef-8d25-319a0a75d4d2"
      },
      "source": [
        "#타겟 다수와 소수로 훈련과 검증 세트를 나눕니다.\n",
        "train_majority = train[train.target == 0]\n",
        "train_minority = train[train.target == 1]\n",
        "val_majority = val[val.target == 0]\n",
        "val_minority = val[val.target == 1]\n",
        "train_majority.shape, train_minority.shape, val_majority.shape, val_minority.shape"
      ],
      "execution_count": 11,
      "outputs": [
        {
          "output_type": "execute_result",
          "data": {
            "text/plain": [
              "((11513, 14), (3813, 14), (2868, 14), (964, 14))"
            ]
          },
          "metadata": {
            "tags": []
          },
          "execution_count": 11
        }
      ]
    },
    {
      "cell_type": "code",
      "metadata": {
        "colab": {
          "base_uri": "https://localhost:8080/"
        },
        "id": "CY2zyTii7R6z",
        "outputId": "8e1098b1-a376-438b-fb13-b6f13b842fca"
      },
      "source": [
        "# Resample function을 사용하여 minority dataframe의 갯수를 majority dataframe의 데이터 갯수만큼 증가시킵니다.\n",
        "train_minority_upsampled = resample(train_minority, replace=True, n_samples=train_majority.shape[0], random_state=123)\n",
        "val_minority_upsampled = resample(val_minority, replace=True, n_samples=val_majority.shape[0], random_state=123)\n",
        "train_minority_upsampled.shape, val_minority_upsampled.shape"
      ],
      "execution_count": 12,
      "outputs": [
        {
          "output_type": "execute_result",
          "data": {
            "text/plain": [
              "((11513, 14), (2868, 14))"
            ]
          },
          "metadata": {
            "tags": []
          },
          "execution_count": 12
        }
      ]
    },
    {
      "cell_type": "code",
      "metadata": {
        "colab": {
          "base_uri": "https://localhost:8080/"
        },
        "id": "XbCOK4iG_ezD",
        "outputId": "71877257-1e96-456a-a603-8be0e57ecaef"
      },
      "source": [
        "# 증가시킨 minority dataframe과 majority dataframe을 다시 합쳐줍니다.\n",
        "train_upsampled = pd.concat([train_majority, train_minority_upsampled])\n",
        "val_upsampled = pd.concat([val_majority, val_minority_upsampled])\n",
        "train_upsampled.shape, val_upsampled.shape"
      ],
      "execution_count": 13,
      "outputs": [
        {
          "output_type": "execute_result",
          "data": {
            "text/plain": [
              "((23026, 14), (5736, 14))"
            ]
          },
          "metadata": {
            "tags": []
          },
          "execution_count": 13
        }
      ]
    },
    {
      "cell_type": "markdown",
      "metadata": {
        "id": "0Bnt7icwHXvg"
      },
      "source": [
        "# **범주형 변수(Categorical Variables)**"
      ]
    },
    {
      "cell_type": "markdown",
      "metadata": {
        "id": "HtqKozWRH1Pd"
      },
      "source": [
        "**City**"
      ]
    },
    {
      "cell_type": "code",
      "metadata": {
        "colab": {
          "base_uri": "https://localhost:8080/"
        },
        "id": "vouOPrG6GFVU",
        "outputId": "29852e8e-6cab-4534-8396-1f72077fa433"
      },
      "source": [
        "train_upsampled['city'].value_counts()"
      ],
      "execution_count": 14,
      "outputs": [
        {
          "output_type": "execute_result",
          "data": {
            "text/plain": [
              "city_103    4889\n",
              "city_21     4657\n",
              "city_16     1508\n",
              "city_114    1294\n",
              "city_160    1026\n",
              "            ... \n",
              "city_31        3\n",
              "city_111       3\n",
              "city_121       2\n",
              "city_25        2\n",
              "city_171       1\n",
              "Name: city, Length: 122, dtype: int64"
            ]
          },
          "metadata": {
            "tags": []
          },
          "execution_count": 14
        }
      ]
    },
    {
      "cell_type": "markdown",
      "metadata": {
        "id": "5SRFr1CoIA4x"
      },
      "source": [
        "*   122개의 서로 다른 도시들이 있다."
      ]
    },
    {
      "cell_type": "code",
      "metadata": {
        "colab": {
          "base_uri": "https://localhost:8080/",
          "height": 458
        },
        "id": "LyLsKu56bta3",
        "outputId": "7ea416eb-c564-4d49-f025-acc08b55101b"
      },
      "source": [
        "plt.figure(figsize=(10,7))\n",
        "\n",
        "train_upsampled['city'].value_counts()[:20].sort_values(ascending=True).plot(kind='barh')\n",
        "plt.title('Value Counts of Cities')\n",
        "plt.xlabel('Frequency')\n",
        "plt.ylabel('City Name');"
      ],
      "execution_count": 15,
      "outputs": [
        {
          "output_type": "display_data",
          "data": {
            "image/png": "[encoded data removed]",
            "text/plain": [
              "<Figure size 720x504 with 1 Axes>"
            ]
          },
          "metadata": {
            "tags": [],
            "needs_background": "light"
          }
        }
      ]
    },
    {
      "cell_type": "markdown",
      "metadata": {
        "id": "jBHBTfSzcl3i"
      },
      "source": [
        "\n",
        "\n",
        "*   상위 20개의 도시 리스트이다. \n",
        "*   도시들이 익명화되어 정확히 어느 도시인지를 알 수 없어 중요하지 않다고 판단되어 이 특성은 빼기로 한다. \n"
      ]
    },
    {
      "cell_type": "markdown",
      "metadata": {
        "id": "gSEoAs90dVx_"
      },
      "source": [
        "**Gender**"
      ]
    },
    {
      "cell_type": "code",
      "metadata": {
        "colab": {
          "base_uri": "https://localhost:8080/"
        },
        "id": "psWrjnU0eLOR",
        "outputId": "2a9e35d0-7230-4f24-ca0e-332bddfe6e5e"
      },
      "source": [
        "train_upsampled['gender'].value_counts()"
      ],
      "execution_count": 16,
      "outputs": [
        {
          "output_type": "execute_result",
          "data": {
            "text/plain": [
              "Male      15550\n",
              "Female     1467\n",
              "Other       231\n",
              "Name: gender, dtype: int64"
            ]
          },
          "metadata": {
            "tags": []
          },
          "execution_count": 16
        }
      ]
    },
    {
      "cell_type": "code",
      "metadata": {
        "colab": {
          "base_uri": "https://localhost:8080/"
        },
        "id": "gFIZSesoiKW9",
        "outputId": "54b05a46-eee6-4bb0-fb26-19072e8349f5"
      },
      "source": [
        "train_upsampled['gender'].isnull().sum()"
      ],
      "execution_count": 17,
      "outputs": [
        {
          "output_type": "execute_result",
          "data": {
            "text/plain": [
              "5778"
            ]
          },
          "metadata": {
            "tags": []
          },
          "execution_count": 17
        }
      ]
    },
    {
      "cell_type": "code",
      "metadata": {
        "id": "tvNUQt3tftDF"
      },
      "source": [
        "train_upsampled['gender'].fillna('Unknown', inplace=True)\n",
        "val_upsampled['gender'].fillna('Unknown', inplace=True)"
      ],
      "execution_count": 51,
      "outputs": []
    },
    {
      "cell_type": "markdown",
      "metadata": {
        "id": "iSE51e7mfgBO"
      },
      "source": [
        "\n",
        "\n",
        "*   결측치는 'Unknown'이라는 값을 주기로 한다.\n",
        "\n"
      ]
    },
    {
      "cell_type": "code",
      "metadata": {
        "colab": {
          "base_uri": "https://localhost:8080/",
          "height": 419
        },
        "id": "Gv3KZYKygshS",
        "outputId": "d78aab23-294e-4a6b-84f5-038fc4f92d4e"
      },
      "source": [
        "train_upsampled[train_upsampled['gender'] == 'Unknown']"
      ],
      "execution_count": 19,
      "outputs": [
        {
          "output_type": "execute_result",
          "data": {
            "text/html": [
              "<div>\n",
              "<style scoped>\n",
              "    .dataframe tbody tr th:only-of-type {\n",
              "        vertical-align: middle;\n",
              "    }\n",
              "\n",
              "    .dataframe tbody tr th {\n",
              "        vertical-align: top;\n",
              "    }\n",
              "\n",
              "    .dataframe thead th {\n",
              "        text-align: right;\n",
              "    }\n",
              "</style>\n",
              "<table border=\"1\" class=\"dataframe\">\n",
              "  <thead>\n",
              "    <tr style=\"text-align: right;\">\n",
              "      <th></th>\n",
              "      <th>enrollee_id</th>\n",
              "      <th>city</th>\n",
              "      <th>city_development_index</th>\n",
              "      <th>gender</th>\n",
              "      <th>relevent_experience</th>\n",
              "      <th>enrolled_university</th>\n",
              "      <th>education_level</th>\n",
              "      <th>major_discipline</th>\n",
              "      <th>experience</th>\n",
              "      <th>company_size</th>\n",
              "      <th>company_type</th>\n",
              "      <th>last_new_job</th>\n",
              "      <th>training_hours</th>\n",
              "      <th>target</th>\n",
              "    </tr>\n",
              "  </thead>\n",
              "  <tbody>\n",
              "    <tr>\n",
              "      <th>2935</th>\n",
              "      <td>189</td>\n",
              "      <td>city_71</td>\n",
              "      <td>0.884</td>\n",
              "      <td>Unknown</td>\n",
              "      <td>Has relevent experience</td>\n",
              "      <td>Part time course</td>\n",
              "      <td>Masters</td>\n",
              "      <td>STEM</td>\n",
              "      <td>13</td>\n",
              "      <td>500-999</td>\n",
              "      <td>Pvt Ltd</td>\n",
              "      <td>1</td>\n",
              "      <td>40</td>\n",
              "      <td>0.0</td>\n",
              "    </tr>\n",
              "    <tr>\n",
              "      <th>17164</th>\n",
              "      <td>9109</td>\n",
              "      <td>city_91</td>\n",
              "      <td>0.691</td>\n",
              "      <td>Unknown</td>\n",
              "      <td>Has relevent experience</td>\n",
              "      <td>no_enrollment</td>\n",
              "      <td>Graduate</td>\n",
              "      <td>Other</td>\n",
              "      <td>6</td>\n",
              "      <td>10/49</td>\n",
              "      <td>Funded Startup</td>\n",
              "      <td>1</td>\n",
              "      <td>78</td>\n",
              "      <td>0.0</td>\n",
              "    </tr>\n",
              "    <tr>\n",
              "      <th>11097</th>\n",
              "      <td>14780</td>\n",
              "      <td>city_40</td>\n",
              "      <td>0.776</td>\n",
              "      <td>Unknown</td>\n",
              "      <td>No relevent experience</td>\n",
              "      <td>no_enrollment</td>\n",
              "      <td>Masters</td>\n",
              "      <td>STEM</td>\n",
              "      <td>16</td>\n",
              "      <td>50-99</td>\n",
              "      <td>Pvt Ltd</td>\n",
              "      <td>never</td>\n",
              "      <td>59</td>\n",
              "      <td>0.0</td>\n",
              "    </tr>\n",
              "    <tr>\n",
              "      <th>10846</th>\n",
              "      <td>5794</td>\n",
              "      <td>city_16</td>\n",
              "      <td>0.910</td>\n",
              "      <td>Unknown</td>\n",
              "      <td>Has relevent experience</td>\n",
              "      <td>no_enrollment</td>\n",
              "      <td>Graduate</td>\n",
              "      <td>STEM</td>\n",
              "      <td>&gt;20</td>\n",
              "      <td>NaN</td>\n",
              "      <td>NaN</td>\n",
              "      <td>1</td>\n",
              "      <td>12</td>\n",
              "      <td>0.0</td>\n",
              "    </tr>\n",
              "    <tr>\n",
              "      <th>14002</th>\n",
              "      <td>28511</td>\n",
              "      <td>city_16</td>\n",
              "      <td>0.910</td>\n",
              "      <td>Unknown</td>\n",
              "      <td>Has relevent experience</td>\n",
              "      <td>no_enrollment</td>\n",
              "      <td>Graduate</td>\n",
              "      <td>STEM</td>\n",
              "      <td>10</td>\n",
              "      <td>10/49</td>\n",
              "      <td>Pvt Ltd</td>\n",
              "      <td>4</td>\n",
              "      <td>12</td>\n",
              "      <td>0.0</td>\n",
              "    </tr>\n",
              "    <tr>\n",
              "      <th>...</th>\n",
              "      <td>...</td>\n",
              "      <td>...</td>\n",
              "      <td>...</td>\n",
              "      <td>...</td>\n",
              "      <td>...</td>\n",
              "      <td>...</td>\n",
              "      <td>...</td>\n",
              "      <td>...</td>\n",
              "      <td>...</td>\n",
              "      <td>...</td>\n",
              "      <td>...</td>\n",
              "      <td>...</td>\n",
              "      <td>...</td>\n",
              "      <td>...</td>\n",
              "    </tr>\n",
              "    <tr>\n",
              "      <th>2406</th>\n",
              "      <td>12043</td>\n",
              "      <td>city_50</td>\n",
              "      <td>0.896</td>\n",
              "      <td>Unknown</td>\n",
              "      <td>No relevent experience</td>\n",
              "      <td>Full time course</td>\n",
              "      <td>Graduate</td>\n",
              "      <td>STEM</td>\n",
              "      <td>3</td>\n",
              "      <td>NaN</td>\n",
              "      <td>NaN</td>\n",
              "      <td>never</td>\n",
              "      <td>35</td>\n",
              "      <td>1.0</td>\n",
              "    </tr>\n",
              "    <tr>\n",
              "      <th>1438</th>\n",
              "      <td>16653</td>\n",
              "      <td>city_70</td>\n",
              "      <td>0.698</td>\n",
              "      <td>Unknown</td>\n",
              "      <td>Has relevent experience</td>\n",
              "      <td>no_enrollment</td>\n",
              "      <td>Graduate</td>\n",
              "      <td>STEM</td>\n",
              "      <td>2</td>\n",
              "      <td>1000-4999</td>\n",
              "      <td>Other</td>\n",
              "      <td>1</td>\n",
              "      <td>140</td>\n",
              "      <td>1.0</td>\n",
              "    </tr>\n",
              "    <tr>\n",
              "      <th>7709</th>\n",
              "      <td>21810</td>\n",
              "      <td>city_21</td>\n",
              "      <td>0.624</td>\n",
              "      <td>Unknown</td>\n",
              "      <td>No relevent experience</td>\n",
              "      <td>Full time course</td>\n",
              "      <td>Graduate</td>\n",
              "      <td>STEM</td>\n",
              "      <td>&lt;1</td>\n",
              "      <td>NaN</td>\n",
              "      <td>NaN</td>\n",
              "      <td>never</td>\n",
              "      <td>50</td>\n",
              "      <td>1.0</td>\n",
              "    </tr>\n",
              "    <tr>\n",
              "      <th>5229</th>\n",
              "      <td>26983</td>\n",
              "      <td>city_103</td>\n",
              "      <td>0.920</td>\n",
              "      <td>Unknown</td>\n",
              "      <td>Has relevent experience</td>\n",
              "      <td>no_enrollment</td>\n",
              "      <td>Graduate</td>\n",
              "      <td>STEM</td>\n",
              "      <td>6</td>\n",
              "      <td>10000+</td>\n",
              "      <td>Pvt Ltd</td>\n",
              "      <td>1</td>\n",
              "      <td>78</td>\n",
              "      <td>1.0</td>\n",
              "    </tr>\n",
              "    <tr>\n",
              "      <th>3156</th>\n",
              "      <td>26789</td>\n",
              "      <td>city_103</td>\n",
              "      <td>0.920</td>\n",
              "      <td>Unknown</td>\n",
              "      <td>Has relevent experience</td>\n",
              "      <td>no_enrollment</td>\n",
              "      <td>Graduate</td>\n",
              "      <td>STEM</td>\n",
              "      <td>3</td>\n",
              "      <td>50-99</td>\n",
              "      <td>Pvt Ltd</td>\n",
              "      <td>1</td>\n",
              "      <td>10</td>\n",
              "      <td>1.0</td>\n",
              "    </tr>\n",
              "  </tbody>\n",
              "</table>\n",
              "<p>5778 rows × 14 columns</p>\n",
              "</div>"
            ],
            "text/plain": [
              "       enrollee_id      city  ...  training_hours target\n",
              "2935           189   city_71  ...              40    0.0\n",
              "17164         9109   city_91  ...              78    0.0\n",
              "11097        14780   city_40  ...              59    0.0\n",
              "10846         5794   city_16  ...              12    0.0\n",
              "14002        28511   city_16  ...              12    0.0\n",
              "...            ...       ...  ...             ...    ...\n",
              "2406         12043   city_50  ...              35    1.0\n",
              "1438         16653   city_70  ...             140    1.0\n",
              "7709         21810   city_21  ...              50    1.0\n",
              "5229         26983  city_103  ...              78    1.0\n",
              "3156         26789  city_103  ...              10    1.0\n",
              "\n",
              "[5778 rows x 14 columns]"
            ]
          },
          "metadata": {
            "tags": []
          },
          "execution_count": 19
        }
      ]
    },
    {
      "cell_type": "markdown",
      "metadata": {
        "id": "7zYGeapXhOsq"
      },
      "source": [
        "\n",
        "\n",
        "*   인사이트를 도출하기 위해 Unknown 값으로 된 컬럼들을 확인한다.\n",
        "*   별다른 특이사항이 발견되지 않는다.\n",
        "\n"
      ]
    },
    {
      "cell_type": "markdown",
      "metadata": {
        "id": "PvDBSCEuho4n"
      },
      "source": [
        "데이터를 시각화 해본다"
      ]
    },
    {
      "cell_type": "code",
      "metadata": {
        "colab": {
          "base_uri": "https://localhost:8080/",
          "height": 458
        },
        "id": "EDmGuPc5hxjV",
        "outputId": "1eb19499-a486-4794-9787-715fec1b1f2d"
      },
      "source": [
        "plt.figure(figsize=(15,7))\n",
        "\n",
        "plt.subplot(121)\n",
        "sns.countplot(data=train_upsampled, x='gender')\n",
        "plt.title('Count of Gender')\n",
        "plt.xlabel('Gender')\n",
        "plt.ylabel('Frequency');\n",
        "\n",
        "plt.subplot(122)\n",
        "sns.barplot(data=train_upsampled, x='gender', y='target')\n",
        "plt.title('Gender Proportion of Job Change')\n",
        "plt.xlabel('Gender')\n",
        "plt.ylabel('Proportion');"
      ],
      "execution_count": 20,
      "outputs": [
        {
          "output_type": "display_data",
          "data": {
            "image/png": "[encoded data removed]",
            "text/plain": [
              "<Figure size 1080x504 with 2 Axes>"
            ]
          },
          "metadata": {
            "tags": [],
            "needs_background": "light"
          }
        }
      ]
    },
    {
      "cell_type": "markdown",
      "metadata": {
        "id": "auM9X0SKiQSK"
      },
      "source": [
        "\n",
        "\n",
        "*   데이터의 수에는 남자가 현저히 많음을 알 수 있다.\n",
        "*   이직을 하는 성별의 비율은 Unknown이 가장 많고 여자와 그외의 성별이 비슷하고 남자가 상대적으로 비율이 작다.\n",
        "\n"
      ]
    },
    {
      "cell_type": "markdown",
      "metadata": {
        "id": "y7yohDgqi4fX"
      },
      "source": [
        "좀 더 자세히 들여다 보자"
      ]
    },
    {
      "cell_type": "markdown",
      "metadata": {
        "id": "85eKP_AljDKq"
      },
      "source": [
        "성별과 타겟의 개수를 비교하는 테이블을 만든다"
      ]
    },
    {
      "cell_type": "code",
      "metadata": {
        "colab": {
          "base_uri": "https://localhost:8080/",
          "height": 204
        },
        "id": "U6093e6RjMEQ",
        "outputId": "3df19ee9-4d92-43d5-b7e4-7bb44e769faa"
      },
      "source": [
        "gender_table = pd.crosstab(train_upsampled['gender'], train_upsampled['target'])\n",
        "gender_table"
      ],
      "execution_count": 21,
      "outputs": [
        {
          "output_type": "execute_result",
          "data": {
            "text/html": [
              "<div>\n",
              "<style scoped>\n",
              "    .dataframe tbody tr th:only-of-type {\n",
              "        vertical-align: middle;\n",
              "    }\n",
              "\n",
              "    .dataframe tbody tr th {\n",
              "        vertical-align: top;\n",
              "    }\n",
              "\n",
              "    .dataframe thead th {\n",
              "        text-align: right;\n",
              "    }\n",
              "</style>\n",
              "<table border=\"1\" class=\"dataframe\">\n",
              "  <thead>\n",
              "    <tr style=\"text-align: right;\">\n",
              "      <th>target</th>\n",
              "      <th>0.0</th>\n",
              "      <th>1.0</th>\n",
              "    </tr>\n",
              "    <tr>\n",
              "      <th>gender</th>\n",
              "      <th></th>\n",
              "      <th></th>\n",
              "    </tr>\n",
              "  </thead>\n",
              "  <tbody>\n",
              "    <tr>\n",
              "      <th>Female</th>\n",
              "      <td>707</td>\n",
              "      <td>760</td>\n",
              "    </tr>\n",
              "    <tr>\n",
              "      <th>Male</th>\n",
              "      <td>8194</td>\n",
              "      <td>7356</td>\n",
              "    </tr>\n",
              "    <tr>\n",
              "      <th>Other</th>\n",
              "      <td>112</td>\n",
              "      <td>119</td>\n",
              "    </tr>\n",
              "    <tr>\n",
              "      <th>Unknown</th>\n",
              "      <td>2500</td>\n",
              "      <td>3278</td>\n",
              "    </tr>\n",
              "  </tbody>\n",
              "</table>\n",
              "</div>"
            ],
            "text/plain": [
              "target    0.0   1.0\n",
              "gender             \n",
              "Female    707   760\n",
              "Male     8194  7356\n",
              "Other     112   119\n",
              "Unknown  2500  3278"
            ]
          },
          "metadata": {
            "tags": []
          },
          "execution_count": 21
        }
      ]
    },
    {
      "cell_type": "markdown",
      "metadata": {
        "id": "8ICIV6O4joPV"
      },
      "source": [
        "\n",
        "\n",
        "*   남자가 여자 보다 열배 넘게 데이터를 차지하고 있다.\n",
        "\n"
      ]
    },
    {
      "cell_type": "markdown",
      "metadata": {
        "id": "oPS5IZMtkHF8"
      },
      "source": [
        "각 성별별로 이직하는 비율을 나타낸 테이블을 만들어본다."
      ]
    },
    {
      "cell_type": "code",
      "metadata": {
        "colab": {
          "base_uri": "https://localhost:8080/",
          "height": 204
        },
        "id": "BOGQOI0AkQLg",
        "outputId": "003ddd60-9241-45f5-dc8b-b238160bcc69"
      },
      "source": [
        "pd.crosstab(train_upsampled['gender'], train_upsampled['target'], normalize='index')"
      ],
      "execution_count": 22,
      "outputs": [
        {
          "output_type": "execute_result",
          "data": {
            "text/html": [
              "<div>\n",
              "<style scoped>\n",
              "    .dataframe tbody tr th:only-of-type {\n",
              "        vertical-align: middle;\n",
              "    }\n",
              "\n",
              "    .dataframe tbody tr th {\n",
              "        vertical-align: top;\n",
              "    }\n",
              "\n",
              "    .dataframe thead th {\n",
              "        text-align: right;\n",
              "    }\n",
              "</style>\n",
              "<table border=\"1\" class=\"dataframe\">\n",
              "  <thead>\n",
              "    <tr style=\"text-align: right;\">\n",
              "      <th>target</th>\n",
              "      <th>0.0</th>\n",
              "      <th>1.0</th>\n",
              "    </tr>\n",
              "    <tr>\n",
              "      <th>gender</th>\n",
              "      <th></th>\n",
              "      <th></th>\n",
              "    </tr>\n",
              "  </thead>\n",
              "  <tbody>\n",
              "    <tr>\n",
              "      <th>Female</th>\n",
              "      <td>0.481936</td>\n",
              "      <td>0.518064</td>\n",
              "    </tr>\n",
              "    <tr>\n",
              "      <th>Male</th>\n",
              "      <td>0.526945</td>\n",
              "      <td>0.473055</td>\n",
              "    </tr>\n",
              "    <tr>\n",
              "      <th>Other</th>\n",
              "      <td>0.484848</td>\n",
              "      <td>0.515152</td>\n",
              "    </tr>\n",
              "    <tr>\n",
              "      <th>Unknown</th>\n",
              "      <td>0.432676</td>\n",
              "      <td>0.567324</td>\n",
              "    </tr>\n",
              "  </tbody>\n",
              "</table>\n",
              "</div>"
            ],
            "text/plain": [
              "target        0.0       1.0\n",
              "gender                     \n",
              "Female   0.481936  0.518064\n",
              "Male     0.526945  0.473055\n",
              "Other    0.484848  0.515152\n",
              "Unknown  0.432676  0.567324"
            ]
          },
          "metadata": {
            "tags": []
          },
          "execution_count": 22
        }
      ]
    },
    {
      "cell_type": "markdown",
      "metadata": {
        "id": "qI-HIvC4mFTX"
      },
      "source": [
        "\n",
        "\n",
        "*   여자가 남자보다 이직하는 비율이 더 많음을 알 수 있다.\n",
        "*   결측(Unknown) 데이터에서 이직하는 비율이 가장 많이 나타났음을 알 수 있다\n",
        "\n"
      ]
    },
    {
      "cell_type": "markdown",
      "metadata": {
        "id": "ql-3PYPgmwHB"
      },
      "source": [
        "성별이 이직 여부를 예측하는 특성으로 사용될지 판가름하기 위해 통계적 유의미함을 알아볼 수 있는 카이 제곱 테스트를 해본다."
      ]
    },
    {
      "cell_type": "code",
      "metadata": {
        "colab": {
          "base_uri": "https://localhost:8080/"
        },
        "id": "abIQXX8ao-bm",
        "outputId": "720d5f25-c777-4e4e-87c7-29c7c51fa3f6"
      },
      "source": [
        "stat, p, dof, expected = chi2_contingency(gender_table)\n",
        "\n",
        "# interpret p-value \n",
        "alpha = 0.05\n",
        "print(\"p value is \" + str(p)) \n",
        "if p <= alpha: \n",
        "    print('Dependent (reject H0)') \n",
        "else: \n",
        "    print('Independent (H0 holds true)') "
      ],
      "execution_count": 23,
      "outputs": [
        {
          "output_type": "stream",
          "text": [
            "p value is 9.546110020821455e-33\n",
            "Dependent (reject H0)\n"
          ],
          "name": "stdout"
        }
      ]
    },
    {
      "cell_type": "markdown",
      "metadata": {
        "id": "JCxvJz7ZpWXO"
      },
      "source": [
        "\n",
        "\n",
        "*   p value 가 0.05 보다 현저히 작으므로 귀무 가설을 기각한다. (성별과 타겟 값 사이의 관계는 독립적이지 않다.(종속적이다))\n",
        "*   성별과 타겟 값 사이에 유의미한 종속 관계가 있음을 의미하므로 이 특성을 모델을 만드는데 사용하기로 한다.\n"
      ]
    },
    {
      "cell_type": "markdown",
      "metadata": {
        "id": "Os87mi28m_Ih"
      },
      "source": [
        "**Relevant Experience**"
      ]
    },
    {
      "cell_type": "code",
      "metadata": {
        "colab": {
          "base_uri": "https://localhost:8080/"
        },
        "id": "QuTri0rHoZKX",
        "outputId": "719bf82a-0a2d-45f3-f113-c9fe0332f8b4"
      },
      "source": [
        "train_upsampled['relevent_experience'].value_counts()"
      ],
      "execution_count": 24,
      "outputs": [
        {
          "output_type": "execute_result",
          "data": {
            "text/plain": [
              "Has relevent experience    15779\n",
              "No relevent experience      7247\n",
              "Name: relevent_experience, dtype: int64"
            ]
          },
          "metadata": {
            "tags": []
          },
          "execution_count": 24
        }
      ]
    },
    {
      "cell_type": "markdown",
      "metadata": {
        "id": "9dkqZRcZpEWR"
      },
      "source": [
        "* 관련 경험이 있는 경우가 없는 경우의 두배를 넘는다. \n",
        "\n"
      ]
    },
    {
      "cell_type": "markdown",
      "metadata": {
        "id": "-iljZl8JpWZb"
      },
      "source": [
        "간단하게 바꾸고 인코딩을 위해서 Has relevant experience 를 1로 바꾸고 No relevant experience를 0으로 바꾼다."
      ]
    },
    {
      "cell_type": "code",
      "metadata": {
        "id": "f10QdTuYprXg"
      },
      "source": [
        "train_upsampled['relevent_experience'] = train_upsampled['relevent_experience'].replace('Has relevent experience', 1)\n",
        "train_upsampled['relevent_experience'] = train_upsampled['relevent_experience'].replace('No relevent experience', 0)\n",
        "val_upsampled['relevent_experience'] = val_upsampled['relevent_experience'].replace('Has relevent experience', 1)\n",
        "val_upsampled['relevent_experience'] = val_upsampled['relevent_experience'].replace('No relevent experience', 0)"
      ],
      "execution_count": 52,
      "outputs": []
    },
    {
      "cell_type": "markdown",
      "metadata": {
        "id": "86jMfSieqT2f"
      },
      "source": [
        "비율과 개수를 시각화 한다."
      ]
    },
    {
      "cell_type": "code",
      "metadata": {
        "colab": {
          "base_uri": "https://localhost:8080/",
          "height": 458
        },
        "id": "fdm6ikN8qaRy",
        "outputId": "f15fca69-e78c-4dfa-aecd-ba62a829858d"
      },
      "source": [
        "plt.figure(figsize=(15,7))\n",
        "\n",
        "plt.subplot(121)\n",
        "sns.countplot(data=train_upsampled, x='relevent_experience')\n",
        "plt.title('Relevant Experience Counts')\n",
        "plt.xlabel('Has Relevant Experience')\n",
        "plt.ylabel('Count');\n",
        "\n",
        "plt.subplot(122)\n",
        "sns.barplot(data=train_upsampled, x='relevent_experience', y='target')\n",
        "plt.title('Relevant Experience Proportion of Job Change')\n",
        "plt.xlabel('Has Relevant Experience')\n",
        "plt.ylabel('Proportion');"
      ],
      "execution_count": 26,
      "outputs": [
        {
          "output_type": "display_data",
          "data": {
            "image/png": "[encoded data removed]",
            "text/plain": [
              "<Figure size 1080x504 with 2 Axes>"
            ]
          },
          "metadata": {
            "tags": [],
            "needs_background": "light"
          }
        }
      ]
    },
    {
      "cell_type": "markdown",
      "metadata": {
        "id": "PI8UP4cNq8by"
      },
      "source": [
        "\n",
        "\n",
        "*   관련 경험이 있는 사람이 없는 사람의 2배 이상이다\n",
        "*   이직 여부는 관련 경험이 없는 사람이 더 많다는 것을 알 수 있다.\n",
        "\n"
      ]
    },
    {
      "cell_type": "markdown",
      "metadata": {
        "id": "3Qep95S_rU4_"
      },
      "source": [
        "이 차이를 분명히 하기 위해 카이 제곱 테스트를 한다"
      ]
    },
    {
      "cell_type": "code",
      "metadata": {
        "colab": {
          "base_uri": "https://localhost:8080/",
          "height": 142
        },
        "id": "Zlhi7ryQrcjs",
        "outputId": "c6ad8977-b0c4-403b-ef9e-e8606ea89808"
      },
      "source": [
        "exp_table = pd.crosstab(train_upsampled['relevent_experience'], train_upsampled['target'])\n",
        "exp_table"
      ],
      "execution_count": 27,
      "outputs": [
        {
          "output_type": "execute_result",
          "data": {
            "text/html": [
              "<div>\n",
              "<style scoped>\n",
              "    .dataframe tbody tr th:only-of-type {\n",
              "        vertical-align: middle;\n",
              "    }\n",
              "\n",
              "    .dataframe tbody tr th {\n",
              "        vertical-align: top;\n",
              "    }\n",
              "\n",
              "    .dataframe thead th {\n",
              "        text-align: right;\n",
              "    }\n",
              "</style>\n",
              "<table border=\"1\" class=\"dataframe\">\n",
              "  <thead>\n",
              "    <tr style=\"text-align: right;\">\n",
              "      <th>target</th>\n",
              "      <th>0.0</th>\n",
              "      <th>1.0</th>\n",
              "    </tr>\n",
              "    <tr>\n",
              "      <th>relevent_experience</th>\n",
              "      <th></th>\n",
              "      <th></th>\n",
              "    </tr>\n",
              "  </thead>\n",
              "  <tbody>\n",
              "    <tr>\n",
              "      <th>0</th>\n",
              "      <td>2839</td>\n",
              "      <td>4408</td>\n",
              "    </tr>\n",
              "    <tr>\n",
              "      <th>1</th>\n",
              "      <td>8674</td>\n",
              "      <td>7105</td>\n",
              "    </tr>\n",
              "  </tbody>\n",
              "</table>\n",
              "</div>"
            ],
            "text/plain": [
              "target                0.0   1.0\n",
              "relevent_experience            \n",
              "0                    2839  4408\n",
              "1                    8674  7105"
            ]
          },
          "metadata": {
            "tags": []
          },
          "execution_count": 27
        }
      ]
    },
    {
      "cell_type": "code",
      "metadata": {
        "colab": {
          "base_uri": "https://localhost:8080/",
          "height": 142
        },
        "id": "QfqoQVDYsAoV",
        "outputId": "3f336bc3-46fc-4625-8cb0-f6d76d8e7db1"
      },
      "source": [
        "pd.crosstab(train_upsampled['relevent_experience'], train_upsampled['target'], normalize = 'index')"
      ],
      "execution_count": 28,
      "outputs": [
        {
          "output_type": "execute_result",
          "data": {
            "text/html": [
              "<div>\n",
              "<style scoped>\n",
              "    .dataframe tbody tr th:only-of-type {\n",
              "        vertical-align: middle;\n",
              "    }\n",
              "\n",
              "    .dataframe tbody tr th {\n",
              "        vertical-align: top;\n",
              "    }\n",
              "\n",
              "    .dataframe thead th {\n",
              "        text-align: right;\n",
              "    }\n",
              "</style>\n",
              "<table border=\"1\" class=\"dataframe\">\n",
              "  <thead>\n",
              "    <tr style=\"text-align: right;\">\n",
              "      <th>target</th>\n",
              "      <th>0.0</th>\n",
              "      <th>1.0</th>\n",
              "    </tr>\n",
              "    <tr>\n",
              "      <th>relevent_experience</th>\n",
              "      <th></th>\n",
              "      <th></th>\n",
              "    </tr>\n",
              "  </thead>\n",
              "  <tbody>\n",
              "    <tr>\n",
              "      <th>0</th>\n",
              "      <td>0.391748</td>\n",
              "      <td>0.608252</td>\n",
              "    </tr>\n",
              "    <tr>\n",
              "      <th>1</th>\n",
              "      <td>0.549718</td>\n",
              "      <td>0.450282</td>\n",
              "    </tr>\n",
              "  </tbody>\n",
              "</table>\n",
              "</div>"
            ],
            "text/plain": [
              "target                    0.0       1.0\n",
              "relevent_experience                    \n",
              "0                    0.391748  0.608252\n",
              "1                    0.549718  0.450282"
            ]
          },
          "metadata": {
            "tags": []
          },
          "execution_count": 28
        }
      ]
    },
    {
      "cell_type": "code",
      "metadata": {
        "colab": {
          "base_uri": "https://localhost:8080/"
        },
        "id": "TKP_6L_ssakG",
        "outputId": "f5f1da2f-176d-4cf1-fec7-973e090de525"
      },
      "source": [
        "stat, p, dof, expected = chi2_contingency(exp_table)\n",
        "\n",
        "# interpret p-value \n",
        "alpha = 0.05\n",
        "print(\"p value is \" + str(p)) \n",
        "if p <= alpha: \n",
        "    print('Dependent (reject H0)') \n",
        "else: \n",
        "    print('Independent (H0 holds true)') "
      ],
      "execution_count": 29,
      "outputs": [
        {
          "output_type": "stream",
          "text": [
            "p value is 1.1196808673160488e-109\n",
            "Dependent (reject H0)\n"
          ],
          "name": "stdout"
        }
      ]
    },
    {
      "cell_type": "markdown",
      "metadata": {
        "id": "lzi1OZUXsr1n"
      },
      "source": [
        "\n",
        "\n",
        "*   p value가 0.05 보다 현저히 작음을 알 수 있다. 따라서 relevent experience도 모델에 추가하기 좋은 특성으로 생각된다.\n",
        "\n"
      ]
    },
    {
      "cell_type": "markdown",
      "metadata": {
        "id": "hNrku3AAtABB"
      },
      "source": [
        "**Enrolled University**"
      ]
    },
    {
      "cell_type": "markdown",
      "metadata": {
        "id": "PsUZ3tzrtPSc"
      },
      "source": [
        "\n",
        "*   Enrolled University는 지원자가 대학에 풀타임으로 등록되어 있는지 아니면 파트 타임으로 등록되어 있는지 아니면 등록되어 있지 않은지 나타낸다"
      ]
    },
    {
      "cell_type": "code",
      "metadata": {
        "colab": {
          "base_uri": "https://localhost:8080/"
        },
        "id": "fxx8--oftrZx",
        "outputId": "e073e8d2-833c-4ef1-bb4c-69db0adf4c17"
      },
      "source": [
        "train_upsampled['enrolled_university'].value_counts()"
      ],
      "execution_count": 30,
      "outputs": [
        {
          "output_type": "execute_result",
          "data": {
            "text/plain": [
              "no_enrollment       15766\n",
              "Full time course     5350\n",
              "Part time course     1397\n",
              "Name: enrolled_university, dtype: int64"
            ]
          },
          "metadata": {
            "tags": []
          },
          "execution_count": 30
        }
      ]
    },
    {
      "cell_type": "markdown",
      "metadata": {
        "id": "mKfW7KkWt5wX"
      },
      "source": [
        "\n",
        "\n",
        "*   대부분의 사람들이 대학에 등록되어 있지 않다\n",
        "\n",
        "\n"
      ]
    },
    {
      "cell_type": "code",
      "metadata": {
        "colab": {
          "base_uri": "https://localhost:8080/"
        },
        "id": "uWjxRrcMt_ok",
        "outputId": "9a84c1ad-901a-4f67-9fd5-7f4aaf0a7a74"
      },
      "source": [
        "train_upsampled['enrolled_university'].isnull().sum()"
      ],
      "execution_count": 31,
      "outputs": [
        {
          "output_type": "execute_result",
          "data": {
            "text/plain": [
              "513"
            ]
          },
          "metadata": {
            "tags": []
          },
          "execution_count": 31
        }
      ]
    },
    {
      "cell_type": "markdown",
      "metadata": {
        "id": "jg3rbUGFuJix"
      },
      "source": [
        "결측치를 'Unknown'으로 채우기로 한다."
      ]
    },
    {
      "cell_type": "code",
      "metadata": {
        "id": "rhTaO_FOuRSk"
      },
      "source": [
        "train_upsampled['enrolled_university'].fillna('Unknown', inplace=True)\n",
        "val_upsampled['enrolled_university'].fillna('Unknown', inplace=True)"
      ],
      "execution_count": 53,
      "outputs": []
    },
    {
      "cell_type": "code",
      "metadata": {
        "colab": {
          "base_uri": "https://localhost:8080/"
        },
        "id": "euJeocfqudBX",
        "outputId": "bd788a77-900f-44ce-ca2c-2d12c8357147"
      },
      "source": [
        "train_upsampled['enrolled_university'].value_counts()"
      ],
      "execution_count": 33,
      "outputs": [
        {
          "output_type": "execute_result",
          "data": {
            "text/plain": [
              "no_enrollment       15766\n",
              "Full time course     5350\n",
              "Part time course     1397\n",
              "Unknown               513\n",
              "Name: enrolled_university, dtype: int64"
            ]
          },
          "metadata": {
            "tags": []
          },
          "execution_count": 33
        }
      ]
    },
    {
      "cell_type": "markdown",
      "metadata": {
        "id": "wlcSikfUunw0"
      },
      "source": [
        "시각화 한다"
      ]
    },
    {
      "cell_type": "code",
      "metadata": {
        "colab": {
          "base_uri": "https://localhost:8080/",
          "height": 459
        },
        "id": "z7fZN674uwrA",
        "outputId": "6ef4a325-d2f4-446d-b1ac-66df01684270"
      },
      "source": [
        "plt.figure(figsize=(15,7))\n",
        "\n",
        "plt.subplot(121)\n",
        "sns.countplot(data=train_upsampled, x='enrolled_university')\n",
        "plt.title('University Course Counts')\n",
        "plt.xlabel('University Enrollment')\n",
        "plt.ylabel('Count');\n",
        "\n",
        "\n",
        "plt.subplot(122)\n",
        "sns.barplot(data=train_upsampled, x='enrolled_university', y='target')\n",
        "plt.title('University Course Proportion of Job Change')\n",
        "plt.xlabel('University Enrollment')\n",
        "plt.ylabel('Proportion');"
      ],
      "execution_count": 34,
      "outputs": [
        {
          "output_type": "display_data",
          "data": {
            "image/png": "[encoded data removed]",
            "text/plain": [
              "<Figure size 1080x504 with 2 Axes>"
            ]
          },
          "metadata": {
            "tags": [],
            "needs_background": "light"
          }
        }
      ]
    },
    {
      "cell_type": "markdown",
      "metadata": {
        "id": "9XRja9eUvEsj"
      },
      "source": [
        "\n",
        "\n",
        "*   대부분의 사람들이 대학에 등록되어 있지 않고 그러한 사람들이 이직 비율이 가장 작았다.\n",
        "*   풀 타임으로 대학에 등록되어 있는 사람들이 이직 비율이 가장 많았고 그 다음이 결측 데이터의 사람들이었다.\n",
        "\n"
      ]
    },
    {
      "cell_type": "markdown",
      "metadata": {
        "id": "_gSgCfwfvou9"
      },
      "source": [
        "카이 제곱 테스트를 한다."
      ]
    },
    {
      "cell_type": "code",
      "metadata": {
        "colab": {
          "base_uri": "https://localhost:8080/",
          "height": 204
        },
        "id": "Js_pRblpv9q9",
        "outputId": "67b2847f-f97a-44e6-c3b6-afb03d47e4ab"
      },
      "source": [
        "enrolled_table = pd.crosstab(train_upsampled['enrolled_university'],train_upsampled['target'])\n",
        "pd.crosstab(train_upsampled['enrolled_university'],train_upsampled['target'], normalize = 'index')"
      ],
      "execution_count": 35,
      "outputs": [
        {
          "output_type": "execute_result",
          "data": {
            "text/html": [
              "<div>\n",
              "<style scoped>\n",
              "    .dataframe tbody tr th:only-of-type {\n",
              "        vertical-align: middle;\n",
              "    }\n",
              "\n",
              "    .dataframe tbody tr th {\n",
              "        vertical-align: top;\n",
              "    }\n",
              "\n",
              "    .dataframe thead th {\n",
              "        text-align: right;\n",
              "    }\n",
              "</style>\n",
              "<table border=\"1\" class=\"dataframe\">\n",
              "  <thead>\n",
              "    <tr style=\"text-align: right;\">\n",
              "      <th>target</th>\n",
              "      <th>0.0</th>\n",
              "      <th>1.0</th>\n",
              "    </tr>\n",
              "    <tr>\n",
              "      <th>enrolled_university</th>\n",
              "      <th></th>\n",
              "      <th></th>\n",
              "    </tr>\n",
              "  </thead>\n",
              "  <tbody>\n",
              "    <tr>\n",
              "      <th>Full time course</th>\n",
              "      <td>0.344673</td>\n",
              "      <td>0.655327</td>\n",
              "    </tr>\n",
              "    <tr>\n",
              "      <th>Part time course</th>\n",
              "      <td>0.518253</td>\n",
              "      <td>0.481747</td>\n",
              "    </tr>\n",
              "    <tr>\n",
              "      <th>Unknown</th>\n",
              "      <td>0.387914</td>\n",
              "      <td>0.612086</td>\n",
              "    </tr>\n",
              "    <tr>\n",
              "      <th>no_enrollment</th>\n",
              "      <td>0.554738</td>\n",
              "      <td>0.445262</td>\n",
              "    </tr>\n",
              "  </tbody>\n",
              "</table>\n",
              "</div>"
            ],
            "text/plain": [
              "target                    0.0       1.0\n",
              "enrolled_university                    \n",
              "Full time course     0.344673  0.655327\n",
              "Part time course     0.518253  0.481747\n",
              "Unknown              0.387914  0.612086\n",
              "no_enrollment        0.554738  0.445262"
            ]
          },
          "metadata": {
            "tags": []
          },
          "execution_count": 35
        }
      ]
    },
    {
      "cell_type": "code",
      "metadata": {
        "colab": {
          "base_uri": "https://localhost:8080/"
        },
        "id": "oJkkPlPowqWH",
        "outputId": "db2d83e7-44b8-4c7e-c622-53894b8e1086"
      },
      "source": [
        "stat, p, dof, expected = chi2_contingency(enrolled_table)\n",
        "\n",
        "# interpret p-value \n",
        "alpha = 0.05\n",
        "print(\"p value is \" + str(p)) \n",
        "if p <= alpha: \n",
        "    print('Dependent (reject H0)') \n",
        "else: \n",
        "    print('Independent (H0 holds true)') "
      ],
      "execution_count": 36,
      "outputs": [
        {
          "output_type": "stream",
          "text": [
            "p value is 1.537606806946799e-158\n",
            "Dependent (reject H0)\n"
          ],
          "name": "stdout"
        }
      ]
    },
    {
      "cell_type": "markdown",
      "metadata": {
        "id": "RbZkJfsAwtZp"
      },
      "source": [
        "\n",
        "\n",
        "*   University Enrollment 도 모델에 포함할 좋은 특성이다.\n"
      ]
    },
    {
      "cell_type": "markdown",
      "metadata": {
        "id": "C7b2deKcw6il"
      },
      "source": [
        "**Education Level**"
      ]
    },
    {
      "cell_type": "markdown",
      "metadata": {
        "id": "Au-zLgjyxCZl"
      },
      "source": [
        "학력은 (Ph.D, Masters, Graduate, HIgh School, Primary School) 값으로 구분된다."
      ]
    },
    {
      "cell_type": "code",
      "metadata": {
        "colab": {
          "base_uri": "https://localhost:8080/"
        },
        "id": "QIM0j3wmxQ1R",
        "outputId": "011d4429-8216-4cd9-b90d-be324d9a0ca9"
      },
      "source": [
        "train_upsampled['education_level'].value_counts()"
      ],
      "execution_count": 37,
      "outputs": [
        {
          "output_type": "execute_result",
          "data": {
            "text/plain": [
              "Graduate          14367\n",
              "Masters            5088\n",
              "High School        2280\n",
              "Phd                 441\n",
              "Primary School      310\n",
              "Name: education_level, dtype: int64"
            ]
          },
          "metadata": {
            "tags": []
          },
          "execution_count": 37
        }
      ]
    },
    {
      "cell_type": "markdown",
      "metadata": {
        "id": "bo86Z6I9xZ_H"
      },
      "source": [
        "\n",
        "\n",
        "*   대부분의 사람들이 대졸(Graduate)이다.\n",
        "\n"
      ]
    },
    {
      "cell_type": "code",
      "metadata": {
        "colab": {
          "base_uri": "https://localhost:8080/"
        },
        "id": "GMS-Tp7dxl-b",
        "outputId": "e8855be6-a882-4368-890f-42e721551626"
      },
      "source": [
        "train_upsampled['education_level'].isnull().sum()"
      ],
      "execution_count": 38,
      "outputs": [
        {
          "output_type": "execute_result",
          "data": {
            "text/plain": [
              "540"
            ]
          },
          "metadata": {
            "tags": []
          },
          "execution_count": 38
        }
      ]
    },
    {
      "cell_type": "markdown",
      "metadata": {
        "id": "8eA1NS-uxtW6"
      },
      "source": [
        "결측치를 'Unknown'으로 대체한다."
      ]
    },
    {
      "cell_type": "code",
      "metadata": {
        "id": "qpInpyzOx2Fz"
      },
      "source": [
        "train_upsampled['education_level'].fillna('Unknown', inplace=True)\n",
        "val_upsampled['education_level'].fillna('Unknown', inplace=True)"
      ],
      "execution_count": 54,
      "outputs": []
    },
    {
      "cell_type": "code",
      "metadata": {
        "colab": {
          "base_uri": "https://localhost:8080/"
        },
        "id": "Ob0FpnoKyB8r",
        "outputId": "caeaa1b3-7ea8-4b9c-d5f9-83d072b39cc6"
      },
      "source": [
        "train_upsampled['education_level'].value_counts()"
      ],
      "execution_count": 40,
      "outputs": [
        {
          "output_type": "execute_result",
          "data": {
            "text/plain": [
              "Graduate          14367\n",
              "Masters            5088\n",
              "High School        2280\n",
              "Unknown             540\n",
              "Phd                 441\n",
              "Primary School      310\n",
              "Name: education_level, dtype: int64"
            ]
          },
          "metadata": {
            "tags": []
          },
          "execution_count": 40
        }
      ]
    },
    {
      "cell_type": "markdown",
      "metadata": {
        "id": "quUOqhVnyApL"
      },
      "source": [
        "시각화 한다."
      ]
    },
    {
      "cell_type": "code",
      "metadata": {
        "colab": {
          "base_uri": "https://localhost:8080/",
          "height": 458
        },
        "id": "PHlAEFENyJKb",
        "outputId": "96effa2a-7ad0-4902-a945-e9502692a11f"
      },
      "source": [
        "plt.figure(figsize=(15,7))\n",
        "\n",
        "plt.subplot(121)\n",
        "sns.countplot(data=train_upsampled, x='education_level')\n",
        "plt.title('Education Level Counts')\n",
        "plt.xlabel('Education Level')\n",
        "plt.ylabel('Count');\n",
        "\n",
        "\n",
        "plt.subplot(122)\n",
        "sns.barplot(data=train_upsampled, x='education_level', y='target')\n",
        "plt.title(' Education level Proportion of Job Change')\n",
        "plt.xlabel('Education Level')\n",
        "plt.ylabel('Proportion');"
      ],
      "execution_count": 41,
      "outputs": [
        {
          "output_type": "display_data",
          "data": {
            "image/png": "[encoded data removed]",
            "text/plain": [
              "<Figure size 1080x504 with 2 Axes>"
            ]
          },
          "metadata": {
            "tags": [],
            "needs_background": "light"
          }
        }
      ]
    },
    {
      "cell_type": "markdown",
      "metadata": {
        "id": "_JiPObrxyfXd"
      },
      "source": [
        "\n",
        "\n",
        "*   대졸자는 다른 학력을 모두 합친 것보다 월등히 많으나 이직 비율에서는 다른 학력에 비해 약간 높은 비율을 보임을 알 수 있다.\n",
        "\n"
      ]
    },
    {
      "cell_type": "code",
      "metadata": {
        "id": "d7EvsVVqy5YF"
      },
      "source": [
        "edu_table = pd.crosstab(train_upsampled['education_level'],train_upsampled['target'])"
      ],
      "execution_count": 42,
      "outputs": []
    },
    {
      "cell_type": "code",
      "metadata": {
        "colab": {
          "base_uri": "https://localhost:8080/",
          "height": 266
        },
        "id": "kvdlyQIQzDOi",
        "outputId": "10be63e0-ab35-4632-f550-47f0ce19f5b7"
      },
      "source": [
        "pd.crosstab(train_upsampled['education_level'],train_upsampled['target'], normalize = 'index')"
      ],
      "execution_count": 43,
      "outputs": [
        {
          "output_type": "execute_result",
          "data": {
            "text/html": [
              "<div>\n",
              "<style scoped>\n",
              "    .dataframe tbody tr th:only-of-type {\n",
              "        vertical-align: middle;\n",
              "    }\n",
              "\n",
              "    .dataframe tbody tr th {\n",
              "        vertical-align: top;\n",
              "    }\n",
              "\n",
              "    .dataframe thead th {\n",
              "        text-align: right;\n",
              "    }\n",
              "</style>\n",
              "<table border=\"1\" class=\"dataframe\">\n",
              "  <thead>\n",
              "    <tr style=\"text-align: right;\">\n",
              "      <th>target</th>\n",
              "      <th>0.0</th>\n",
              "      <th>1.0</th>\n",
              "    </tr>\n",
              "    <tr>\n",
              "      <th>education_level</th>\n",
              "      <th></th>\n",
              "      <th></th>\n",
              "    </tr>\n",
              "  </thead>\n",
              "  <tbody>\n",
              "    <tr>\n",
              "      <th>Graduate</th>\n",
              "      <td>0.463423</td>\n",
              "      <td>0.536577</td>\n",
              "    </tr>\n",
              "    <tr>\n",
              "      <th>High School</th>\n",
              "      <td>0.568860</td>\n",
              "      <td>0.431140</td>\n",
              "    </tr>\n",
              "    <tr>\n",
              "      <th>Masters</th>\n",
              "      <td>0.547170</td>\n",
              "      <td>0.452830</td>\n",
              "    </tr>\n",
              "    <tr>\n",
              "      <th>Phd</th>\n",
              "      <td>0.639456</td>\n",
              "      <td>0.360544</td>\n",
              "    </tr>\n",
              "    <tr>\n",
              "      <th>Primary School</th>\n",
              "      <td>0.661290</td>\n",
              "      <td>0.338710</td>\n",
              "    </tr>\n",
              "    <tr>\n",
              "      <th>Unknown</th>\n",
              "      <td>0.531481</td>\n",
              "      <td>0.468519</td>\n",
              "    </tr>\n",
              "  </tbody>\n",
              "</table>\n",
              "</div>"
            ],
            "text/plain": [
              "target                0.0       1.0\n",
              "education_level                    \n",
              "Graduate         0.463423  0.536577\n",
              "High School      0.568860  0.431140\n",
              "Masters          0.547170  0.452830\n",
              "Phd              0.639456  0.360544\n",
              "Primary School   0.661290  0.338710\n",
              "Unknown          0.531481  0.468519"
            ]
          },
          "metadata": {
            "tags": []
          },
          "execution_count": 43
        }
      ]
    },
    {
      "cell_type": "markdown",
      "metadata": {
        "id": "VY29yHl5zN1A"
      },
      "source": [
        "카이 제곱 테스트"
      ]
    },
    {
      "cell_type": "code",
      "metadata": {
        "colab": {
          "base_uri": "https://localhost:8080/"
        },
        "id": "DvZ9r6JezRv_",
        "outputId": "2732d4a1-9993-4f8c-ea16-ab6b07a7fe8b"
      },
      "source": [
        "stat, p, dof, expected = chi2_contingency(edu_table)\n",
        "\n",
        "# interpret p-value \n",
        "alpha = 0.05\n",
        "print(\"p value is \" + str(p)) \n",
        "if p <= alpha: \n",
        "    print('Dependent (reject H0)') \n",
        "else: \n",
        "    print('Independent (H0 holds true)') "
      ],
      "execution_count": 44,
      "outputs": [
        {
          "output_type": "stream",
          "text": [
            "p value is 1.4021315190662944e-48\n",
            "Dependent (reject H0)\n"
          ],
          "name": "stdout"
        }
      ]
    },
    {
      "cell_type": "markdown",
      "metadata": {
        "id": "g1ofRD1lzXq2"
      },
      "source": [
        "\n",
        "\n",
        "*   Education Level도 모델에 포함한다."
      ]
    },
    {
      "cell_type": "markdown",
      "metadata": {
        "id": "9ah8URME0EnB"
      },
      "source": [
        "**Major Discipline**"
      ]
    },
    {
      "cell_type": "markdown",
      "metadata": {
        "id": "H-HAh3me0kTG"
      },
      "source": [
        "전공계열은 (STEM, Humanities, Other, Business Degree, Arts, No Major)로 구분된다."
      ]
    },
    {
      "cell_type": "code",
      "metadata": {
        "id": "JAu1Kj7H0yZP",
        "outputId": "55a2234d-547f-4d29-8c85-1a62304a01c6",
        "colab": {
          "base_uri": "https://localhost:8080/"
        }
      },
      "source": [
        "train_upsampled['major_discipline'].value_counts()"
      ],
      "execution_count": 45,
      "outputs": [
        {
          "output_type": "execute_result",
          "data": {
            "text/plain": [
              "STEM               17669\n",
              "Humanities           743\n",
              "Other                467\n",
              "Business Degree      387\n",
              "Arts                 316\n",
              "No Major             267\n",
              "Name: major_discipline, dtype: int64"
            ]
          },
          "metadata": {
            "tags": []
          },
          "execution_count": 45
        }
      ]
    },
    {
      "cell_type": "markdown",
      "metadata": {
        "id": "R09_Pvh11ENJ"
      },
      "source": [
        "\n",
        "\n",
        "*   전공은 STEM(과학,기술,공학,수학)이 월등히 많은 수를 차지함을 알 수 있다.\n",
        "\n"
      ]
    },
    {
      "cell_type": "code",
      "metadata": {
        "id": "WmCE04if1TnU",
        "outputId": "8e0ef533-0ea6-4062-ea03-15e4f303413f",
        "colab": {
          "base_uri": "https://localhost:8080/"
        }
      },
      "source": [
        "train_upsampled['major_discipline'].isnull().sum()"
      ],
      "execution_count": 46,
      "outputs": [
        {
          "output_type": "execute_result",
          "data": {
            "text/plain": [
              "3177"
            ]
          },
          "metadata": {
            "tags": []
          },
          "execution_count": 46
        }
      ]
    },
    {
      "cell_type": "markdown",
      "metadata": {
        "id": "JKFzQnWv1X5f"
      },
      "source": [
        "결측 데이터는 'Unknown'으로 채운다."
      ]
    },
    {
      "cell_type": "code",
      "metadata": {
        "id": "MM7hDvSl1dwc"
      },
      "source": [
        "train_upsampled['major_discipline'].fillna('Unknown', inplace=True)\n",
        "val_upsampled['major_discipline'].fillna('Unknown', inplace=True)"
      ],
      "execution_count": 55,
      "outputs": []
    },
    {
      "cell_type": "markdown",
      "metadata": {
        "id": "2X7i_bGv13eR"
      },
      "source": [
        "시각화"
      ]
    },
    {
      "cell_type": "code",
      "metadata": {
        "id": "i7x13_AN159A",
        "outputId": "fea1b058-a6ef-456d-948c-7dc407ef5dfb",
        "colab": {
          "base_uri": "https://localhost:8080/",
          "height": 458
        }
      },
      "source": [
        "plt.figure(figsize=(15,7))\n",
        "\n",
        "plt.subplot(121)\n",
        "sns.countplot(data=train_upsampled, x='major_discipline')\n",
        "plt.title('Counts of Majors')\n",
        "plt.xlabel('Major')\n",
        "plt.ylabel('Count');\n",
        "\n",
        "plt.subplot(122)\n",
        "sns.barplot(data=train_upsampled, x='major_discipline', y='target')\n",
        "plt.title('Proportion of Majors of Job Change')\n",
        "plt.xlabel('Major')\n",
        "plt.ylabel('Frequency');"
      ],
      "execution_count": 48,
      "outputs": [
        {
          "output_type": "display_data",
          "data": {
            "image/png": "[encoded data removed]",
            "text/plain": [
              "<Figure size 1080x504 with 2 Axes>"
            ]
          },
          "metadata": {
            "tags": [],
            "needs_background": "light"
          }
        }
      ]
    },
    {
      "cell_type": "markdown",
      "metadata": {
        "id": "yWC7Tqci3GU7"
      },
      "source": [
        "\n",
        "\n",
        "*   STEM degree가 숫자면에서는 월등히 많음을 알 수 있다.\n",
        "*   이직 비율은 전공 계열들이 비슷비슷 함을 알 수 있다.\n",
        "\n"
      ]
    },
    {
      "cell_type": "code",
      "metadata": {
        "id": "-fvlXTkp3jC6"
      },
      "source": [
        "major_table = pd.crosstab(train_upsampled['major_discipline'],train_upsampled['target'])"
      ],
      "execution_count": 49,
      "outputs": []
    },
    {
      "cell_type": "code",
      "metadata": {
        "id": "SvfslEg838hN",
        "outputId": "f2c7b92e-0adc-4b32-ac8c-5694ad228c87",
        "colab": {
          "base_uri": "https://localhost:8080/",
          "height": 297
        }
      },
      "source": [
        "pd.crosstab(train_upsampled['major_discipline'],train_upsampled['target'], normalize = 'index')"
      ],
      "execution_count": 50,
      "outputs": [
        {
          "output_type": "execute_result",
          "data": {
            "text/html": [
              "<div>\n",
              "<style scoped>\n",
              "    .dataframe tbody tr th:only-of-type {\n",
              "        vertical-align: middle;\n",
              "    }\n",
              "\n",
              "    .dataframe tbody tr th {\n",
              "        vertical-align: top;\n",
              "    }\n",
              "\n",
              "    .dataframe thead th {\n",
              "        text-align: right;\n",
              "    }\n",
              "</style>\n",
              "<table border=\"1\" class=\"dataframe\">\n",
              "  <thead>\n",
              "    <tr style=\"text-align: right;\">\n",
              "      <th>target</th>\n",
              "      <th>0.0</th>\n",
              "      <th>1.0</th>\n",
              "    </tr>\n",
              "    <tr>\n",
              "      <th>major_discipline</th>\n",
              "      <th></th>\n",
              "      <th></th>\n",
              "    </tr>\n",
              "  </thead>\n",
              "  <tbody>\n",
              "    <tr>\n",
              "      <th>Arts</th>\n",
              "      <td>0.544304</td>\n",
              "      <td>0.455696</td>\n",
              "    </tr>\n",
              "    <tr>\n",
              "      <th>Business Degree</th>\n",
              "      <td>0.506460</td>\n",
              "      <td>0.493540</td>\n",
              "    </tr>\n",
              "    <tr>\n",
              "      <th>Humanities</th>\n",
              "      <td>0.559892</td>\n",
              "      <td>0.440108</td>\n",
              "    </tr>\n",
              "    <tr>\n",
              "      <th>No Major</th>\n",
              "      <td>0.509363</td>\n",
              "      <td>0.490637</td>\n",
              "    </tr>\n",
              "    <tr>\n",
              "      <th>Other</th>\n",
              "      <td>0.456103</td>\n",
              "      <td>0.543897</td>\n",
              "    </tr>\n",
              "    <tr>\n",
              "      <th>STEM</th>\n",
              "      <td>0.485257</td>\n",
              "      <td>0.514743</td>\n",
              "    </tr>\n",
              "    <tr>\n",
              "      <th>Unknown</th>\n",
              "      <td>0.568461</td>\n",
              "      <td>0.431539</td>\n",
              "    </tr>\n",
              "  </tbody>\n",
              "</table>\n",
              "</div>"
            ],
            "text/plain": [
              "target                 0.0       1.0\n",
              "major_discipline                    \n",
              "Arts              0.544304  0.455696\n",
              "Business Degree   0.506460  0.493540\n",
              "Humanities        0.559892  0.440108\n",
              "No Major          0.509363  0.490637\n",
              "Other             0.456103  0.543897\n",
              "STEM              0.485257  0.514743\n",
              "Unknown           0.568461  0.431539"
            ]
          },
          "metadata": {
            "tags": []
          },
          "execution_count": 50
        }
      ]
    },
    {
      "cell_type": "markdown",
      "metadata": {
        "id": "vI4hOINa3hOz"
      },
      "source": [
        "카이 제곱 테스트"
      ]
    },
    {
      "cell_type": "code",
      "metadata": {
        "id": "HS5nSakY5ezx",
        "outputId": "ba802fda-87f9-4c2e-da3f-f5c61ab2b36e",
        "colab": {
          "base_uri": "https://localhost:8080/"
        }
      },
      "source": [
        "stat, p, dof, expected = chi2_contingency(major_table)\n",
        "\n",
        "# interpret p-value \n",
        "alpha = 0.05\n",
        "print(\"p value is \" + str(p)) \n",
        "if p <= alpha: \n",
        "    print('Dependent (reject H0)') \n",
        "else: \n",
        "    print('Independent (H0 holds true)') "
      ],
      "execution_count": 56,
      "outputs": [
        {
          "output_type": "stream",
          "text": [
            "p value is 1.2664591955662902e-17\n",
            "Dependent (reject H0)\n"
          ],
          "name": "stdout"
        }
      ]
    },
    {
      "cell_type": "markdown",
      "metadata": {
        "id": "BiDhzdr45kNq"
      },
      "source": [
        "\n",
        "*   Major Discipline 특성도 모델에 포함한다.\n"
      ]
    },
    {
      "cell_type": "markdown",
      "metadata": {
        "id": "zJtJahdJ50w0"
      },
      "source": [
        "**Company Size**"
      ]
    },
    {
      "cell_type": "markdown",
      "metadata": {
        "id": "Agfr-QmA58J-"
      },
      "source": [
        "회사 규모는 (<10, 10/49, 50-99, 100-500, 500-999, 1000-4999, 5000-9999, 10000+) 의 값을 가진다"
      ]
    },
    {
      "cell_type": "code",
      "metadata": {
        "id": "q1KqePDv6NxM",
        "outputId": "ef795cd4-4d81-40f3-dc74-9568a76a5495",
        "colab": {
          "base_uri": "https://localhost:8080/"
        }
      },
      "source": [
        "train_upsampled['company_size'].value_counts()"
      ],
      "execution_count": 57,
      "outputs": [
        {
          "output_type": "execute_result",
          "data": {
            "text/plain": [
              "50-99        3357\n",
              "100-500      2657\n",
              "10000+       2231\n",
              "10/49        1737\n",
              "<10          1395\n",
              "1000-4999    1379\n",
              "500-999       944\n",
              "5000-9999     598\n",
              "Name: company_size, dtype: int64"
            ]
          },
          "metadata": {
            "tags": []
          },
          "execution_count": 57
        }
      ]
    },
    {
      "cell_type": "markdown",
      "metadata": {
        "id": "ewibibC66euC"
      },
      "source": [
        "\n",
        "\n",
        "*   50-99명의 규모가 가장 많다.\n",
        "\n"
      ]
    },
    {
      "cell_type": "code",
      "metadata": {
        "id": "gXK0Ym2i6oOb",
        "outputId": "88e2d94e-3525-43b3-b96a-1808978e5194",
        "colab": {
          "base_uri": "https://localhost:8080/"
        }
      },
      "source": [
        "train_upsampled['company_size'].isnull().sum()"
      ],
      "execution_count": 58,
      "outputs": [
        {
          "output_type": "execute_result",
          "data": {
            "text/plain": [
              "8728"
            ]
          },
          "metadata": {
            "tags": []
          },
          "execution_count": 58
        }
      ]
    },
    {
      "cell_type": "markdown",
      "metadata": {
        "id": "N9GxeBm865rg"
      },
      "source": [
        "결측치를 'Unknown'으로 대체한다."
      ]
    },
    {
      "cell_type": "code",
      "metadata": {
        "id": "DGwL6Kq56_FI"
      },
      "source": [
        "train_upsampled['company_size'].fillna('Unknown', inplace=True)\n",
        "val_upsampled['company_size'].fillna('Unknown', inplace=True)"
      ],
      "execution_count": 59,
      "outputs": []
    },
    {
      "cell_type": "markdown",
      "metadata": {
        "id": "PIHaVi6t7TXa"
      },
      "source": [
        "시각화"
      ]
    },
    {
      "cell_type": "code",
      "metadata": {
        "id": "XFd8_ih47VyY",
        "outputId": "b2254906-f77e-467a-e948-054bd61f91e5",
        "colab": {
          "base_uri": "https://localhost:8080/",
          "height": 458
        }
      },
      "source": [
        "plt.figure(figsize=(15,7))\n",
        "\n",
        "plt.subplot(121)\n",
        "sns.countplot(data=train_upsampled, y='company_size')\n",
        "plt.title('Company Size Counts')\n",
        "plt.xlabel('Count')\n",
        "plt.ylabel('Company Size');\n",
        "\n",
        "plt.subplot(122)\n",
        "sns.barplot(data=train_upsampled, y='company_size', x='target')\n",
        "plt.title('Company Size Proportions of Job Change')\n",
        "plt.xlabel('Proportion')\n",
        "plt.ylabel('Company Size');"
      ],
      "execution_count": 60,
      "outputs": [
        {
          "output_type": "display_data",
          "data": {
            "image/png": "[encoded data removed]",
            "text/plain": [
              "<Figure size 1080x504 with 2 Axes>"
            ]
          },
          "metadata": {
            "tags": [],
            "needs_background": "light"
          }
        }
      ]
    },
    {
      "cell_type": "markdown",
      "metadata": {
        "id": "C9fsq-Ey78EG"
      },
      "source": [
        "\n",
        "\n",
        "*   결측 데이터의 사람들이 가장 많음을 알 수 있다.\n",
        "*   이직 비율도 결측 데이터의 사람들이 가장 많음을 알 수 있다.\n",
        "\n"
      ]
    },
    {
      "cell_type": "code",
      "metadata": {
        "id": "0eTSCggb8RUE",
        "outputId": "2f122649-4fd9-42b9-dc04-f620f97bcf14",
        "colab": {
          "base_uri": "https://localhost:8080/",
          "height": 359
        }
      },
      "source": [
        "comp_size_table = pd.crosstab(train_upsampled['company_size'],train_upsampled['target'])\n",
        "pd.crosstab(train_upsampled['company_size'],train_upsampled['target'], normalize = 'index')"
      ],
      "execution_count": 61,
      "outputs": [
        {
          "output_type": "execute_result",
          "data": {
            "text/html": [
              "<div>\n",
              "<style scoped>\n",
              "    .dataframe tbody tr th:only-of-type {\n",
              "        vertical-align: middle;\n",
              "    }\n",
              "\n",
              "    .dataframe tbody tr th {\n",
              "        vertical-align: top;\n",
              "    }\n",
              "\n",
              "    .dataframe thead th {\n",
              "        text-align: right;\n",
              "    }\n",
              "</style>\n",
              "<table border=\"1\" class=\"dataframe\">\n",
              "  <thead>\n",
              "    <tr style=\"text-align: right;\">\n",
              "      <th>target</th>\n",
              "      <th>0.0</th>\n",
              "      <th>1.0</th>\n",
              "    </tr>\n",
              "    <tr>\n",
              "      <th>company_size</th>\n",
              "      <th></th>\n",
              "      <th></th>\n",
              "    </tr>\n",
              "  </thead>\n",
              "  <tbody>\n",
              "    <tr>\n",
              "      <th>10/49</th>\n",
              "      <td>0.514105</td>\n",
              "      <td>0.485895</td>\n",
              "    </tr>\n",
              "    <tr>\n",
              "      <th>100-500</th>\n",
              "      <td>0.643583</td>\n",
              "      <td>0.356417</td>\n",
              "    </tr>\n",
              "    <tr>\n",
              "      <th>1000-4999</th>\n",
              "      <td>0.651922</td>\n",
              "      <td>0.348078</td>\n",
              "    </tr>\n",
              "    <tr>\n",
              "      <th>10000+</th>\n",
              "      <td>0.594801</td>\n",
              "      <td>0.405199</td>\n",
              "    </tr>\n",
              "    <tr>\n",
              "      <th>50-99</th>\n",
              "      <td>0.609771</td>\n",
              "      <td>0.390229</td>\n",
              "    </tr>\n",
              "    <tr>\n",
              "      <th>500-999</th>\n",
              "      <td>0.620763</td>\n",
              "      <td>0.379237</td>\n",
              "    </tr>\n",
              "    <tr>\n",
              "      <th>5000-9999</th>\n",
              "      <td>0.607023</td>\n",
              "      <td>0.392977</td>\n",
              "    </tr>\n",
              "    <tr>\n",
              "      <th>&lt;10</th>\n",
              "      <td>0.622222</td>\n",
              "      <td>0.377778</td>\n",
              "    </tr>\n",
              "    <tr>\n",
              "      <th>Unknown</th>\n",
              "      <td>0.323098</td>\n",
              "      <td>0.676902</td>\n",
              "    </tr>\n",
              "  </tbody>\n",
              "</table>\n",
              "</div>"
            ],
            "text/plain": [
              "target             0.0       1.0\n",
              "company_size                    \n",
              "10/49         0.514105  0.485895\n",
              "100-500       0.643583  0.356417\n",
              "1000-4999     0.651922  0.348078\n",
              "10000+        0.594801  0.405199\n",
              "50-99         0.609771  0.390229\n",
              "500-999       0.620763  0.379237\n",
              "5000-9999     0.607023  0.392977\n",
              "<10           0.622222  0.377778\n",
              "Unknown       0.323098  0.676902"
            ]
          },
          "metadata": {
            "tags": []
          },
          "execution_count": 61
        }
      ]
    },
    {
      "cell_type": "markdown",
      "metadata": {
        "id": "scl4T6An8knj"
      },
      "source": [
        "카이 제곱 테스트"
      ]
    },
    {
      "cell_type": "code",
      "metadata": {
        "id": "0OKBiZCw8nHx",
        "outputId": "5763a289-e17f-448f-fe1d-26a7938fa9d5",
        "colab": {
          "base_uri": "https://localhost:8080/"
        }
      },
      "source": [
        "stat, p, dof, expected = chi2_contingency(comp_size_table)\n",
        "\n",
        "# interpret p-value \n",
        "alpha = 0.05\n",
        "print(\"p value is \" + str(p)) \n",
        "if p <= alpha: \n",
        "    print('Dependent (reject H0)') \n",
        "else: \n",
        "    print('Independent (H0 holds true)') "
      ],
      "execution_count": 62,
      "outputs": [
        {
          "output_type": "stream",
          "text": [
            "p value is 0.0\n",
            "Dependent (reject H0)\n"
          ],
          "name": "stdout"
        }
      ]
    },
    {
      "cell_type": "markdown",
      "metadata": {
        "id": "-rCR2Hwj8wWn"
      },
      "source": [
        "\n",
        "\n",
        "*   Company Size도 모델에 포함한다.\n",
        "\n"
      ]
    },
    {
      "cell_type": "markdown",
      "metadata": {
        "id": "rIRrEoJE9A9s"
      },
      "source": [
        "**Company Type**"
      ]
    },
    {
      "cell_type": "markdown",
      "metadata": {
        "id": "Y3l2HGUZ9GJO"
      },
      "source": [
        "회사 타입은 (Pvt Ltd, Funded Startup, Public Sector, Early Stage Startup, NGO, Other)의 값을 가진다."
      ]
    },
    {
      "cell_type": "code",
      "metadata": {
        "id": "XeoQIjFR9fuY",
        "outputId": "f4587312-a08a-435a-c343-795f6bf22e2f",
        "colab": {
          "base_uri": "https://localhost:8080/"
        }
      },
      "source": [
        "train_upsampled['company_type'].value_counts()"
      ],
      "execution_count": 63,
      "outputs": [
        {
          "output_type": "execute_result",
          "data": {
            "text/plain": [
              "Pvt Ltd                10695\n",
              "Public Sector           1094\n",
              "Funded Startup           999\n",
              "Early Stage Startup      737\n",
              "NGO                      555\n",
              "Other                    155\n",
              "Name: company_type, dtype: int64"
            ]
          },
          "metadata": {
            "tags": []
          },
          "execution_count": 63
        }
      ]
    },
    {
      "cell_type": "markdown",
      "metadata": {
        "id": "S4-jx5889wUt"
      },
      "source": [
        "\n",
        "\n",
        "*   개인 회사가 가장 많음을 알 수 있다.\n",
        "\n"
      ]
    },
    {
      "cell_type": "code",
      "metadata": {
        "id": "nsvZYF0v-OOh",
        "outputId": "cc01b0cd-dbbf-46ef-8d16-0586a4e5681c",
        "colab": {
          "base_uri": "https://localhost:8080/"
        }
      },
      "source": [
        "train_upsampled['company_type'].isnull().sum()"
      ],
      "execution_count": 64,
      "outputs": [
        {
          "output_type": "execute_result",
          "data": {
            "text/plain": [
              "8791"
            ]
          },
          "metadata": {
            "tags": []
          },
          "execution_count": 64
        }
      ]
    },
    {
      "cell_type": "markdown",
      "metadata": {
        "id": "BqdmjPnz--XK"
      },
      "source": [
        "결측치를 'Unknown'으로 대체한다."
      ]
    },
    {
      "cell_type": "code",
      "metadata": {
        "id": "uvdR_sA-_FO7"
      },
      "source": [
        "train_upsampled['company_type'].fillna('Unknown', inplace=True)\n",
        "val_upsampled['company_type'].fillna('Unknown', inplace=True)"
      ],
      "execution_count": 65,
      "outputs": []
    },
    {
      "cell_type": "markdown",
      "metadata": {
        "id": "Jlbjq2bq_Wp_"
      },
      "source": [
        "시각화"
      ]
    },
    {
      "cell_type": "code",
      "metadata": {
        "id": "DmFP2HGU_ZXk",
        "outputId": "15cd0196-3228-41d7-d7eb-f0f7f183c39b",
        "colab": {
          "base_uri": "https://localhost:8080/",
          "height": 458
        }
      },
      "source": [
        "plt.figure(figsize=(22,7))\n",
        "\n",
        "plt.subplot(121)\n",
        "sns.countplot(data=train_upsampled, y='company_type')\n",
        "plt.title('Types of company Counts')\n",
        "plt.xlabel('Count')\n",
        "plt.ylabel('Company Type');\n",
        "\n",
        "plt.subplot(122)\n",
        "sns.barplot(data=train_upsampled, y='company_type', x='target')\n",
        "plt.title('Types of company proportion of Job Change')\n",
        "plt.xlabel('Proportion')\n",
        "plt.ylabel('Company Type');"
      ],
      "execution_count": 66,
      "outputs": [
        {
          "output_type": "display_data",
          "data": {
            "image/png": "[encoded data removed]",
            "text/plain": [
              "<Figure size 1584x504 with 2 Axes>"
            ]
          },
          "metadata": {
            "tags": [],
            "needs_background": "light"
          }
        }
      ]
    },
    {
      "cell_type": "markdown",
      "metadata": {
        "id": "JrII8d0b_vDa"
      },
      "source": [
        "\n",
        "\n",
        "*   개인회사(Pvt Ltd)가 가장 많은 수를 차지하고 그 다음 결측 데이터의 회사들이 많음을 알 수 있다.\n",
        "*   이직 비율은 결측 데이터의 회사들이 가장 많음을 알 수 있다.\n",
        "\n"
      ]
    },
    {
      "cell_type": "code",
      "metadata": {
        "id": "AUL6iouJAHsd",
        "outputId": "3d971668-714a-4144-90d0-fb3dff6299c3",
        "colab": {
          "base_uri": "https://localhost:8080/",
          "height": 297
        }
      },
      "source": [
        "comp_type_table = pd.crosstab(train_upsampled['company_type'],train_upsampled['target'])\n",
        "pd.crosstab(train_upsampled['company_type'],train_upsampled['target'], normalize = 'index')"
      ],
      "execution_count": 67,
      "outputs": [
        {
          "output_type": "execute_result",
          "data": {
            "text/html": [
              "<div>\n",
              "<style scoped>\n",
              "    .dataframe tbody tr th:only-of-type {\n",
              "        vertical-align: middle;\n",
              "    }\n",
              "\n",
              "    .dataframe tbody tr th {\n",
              "        vertical-align: top;\n",
              "    }\n",
              "\n",
              "    .dataframe thead th {\n",
              "        text-align: right;\n",
              "    }\n",
              "</style>\n",
              "<table border=\"1\" class=\"dataframe\">\n",
              "  <thead>\n",
              "    <tr style=\"text-align: right;\">\n",
              "      <th>target</th>\n",
              "      <th>0.0</th>\n",
              "      <th>1.0</th>\n",
              "    </tr>\n",
              "    <tr>\n",
              "      <th>company_type</th>\n",
              "      <th></th>\n",
              "      <th></th>\n",
              "    </tr>\n",
              "  </thead>\n",
              "  <tbody>\n",
              "    <tr>\n",
              "      <th>Early Stage Startup</th>\n",
              "      <td>0.511533</td>\n",
              "      <td>0.488467</td>\n",
              "    </tr>\n",
              "    <tr>\n",
              "      <th>Funded Startup</th>\n",
              "      <td>0.675676</td>\n",
              "      <td>0.324324</td>\n",
              "    </tr>\n",
              "    <tr>\n",
              "      <th>NGO</th>\n",
              "      <td>0.634234</td>\n",
              "      <td>0.365766</td>\n",
              "    </tr>\n",
              "    <tr>\n",
              "      <th>Other</th>\n",
              "      <td>0.490323</td>\n",
              "      <td>0.509677</td>\n",
              "    </tr>\n",
              "    <tr>\n",
              "      <th>Public Sector</th>\n",
              "      <td>0.543876</td>\n",
              "      <td>0.456124</td>\n",
              "    </tr>\n",
              "    <tr>\n",
              "      <th>Pvt Ltd</th>\n",
              "      <td>0.601122</td>\n",
              "      <td>0.398878</td>\n",
              "    </tr>\n",
              "    <tr>\n",
              "      <th>Unknown</th>\n",
              "      <td>0.342282</td>\n",
              "      <td>0.657718</td>\n",
              "    </tr>\n",
              "  </tbody>\n",
              "</table>\n",
              "</div>"
            ],
            "text/plain": [
              "target                    0.0       1.0\n",
              "company_type                           \n",
              "Early Stage Startup  0.511533  0.488467\n",
              "Funded Startup       0.675676  0.324324\n",
              "NGO                  0.634234  0.365766\n",
              "Other                0.490323  0.509677\n",
              "Public Sector        0.543876  0.456124\n",
              "Pvt Ltd              0.601122  0.398878\n",
              "Unknown              0.342282  0.657718"
            ]
          },
          "metadata": {
            "tags": []
          },
          "execution_count": 67
        }
      ]
    },
    {
      "cell_type": "markdown",
      "metadata": {
        "id": "tWfiv-iuG5K6"
      },
      "source": [
        "카이 제곱 테스트"
      ]
    },
    {
      "cell_type": "code",
      "metadata": {
        "id": "59gHuugQG8jV",
        "outputId": "6903e211-92c7-49df-825d-82bdf02389cd",
        "colab": {
          "base_uri": "https://localhost:8080/"
        }
      },
      "source": [
        "stat, p, dof, expected = chi2_contingency(comp_type_table)\n",
        "\n",
        "# interpret p-value \n",
        "alpha = 0.05\n",
        "print(\"p value is \" + str(p)) \n",
        "if p <= alpha: \n",
        "    print('Dependent (reject H0)') \n",
        "else: \n",
        "    print('Independent (H0 holds true)') "
      ],
      "execution_count": 68,
      "outputs": [
        {
          "output_type": "stream",
          "text": [
            "p value is 0.0\n",
            "Dependent (reject H0)\n"
          ],
          "name": "stdout"
        }
      ]
    },
    {
      "cell_type": "markdown",
      "metadata": {
        "id": "3Tp5qiOMG_Vv"
      },
      "source": [
        "\n",
        "\n",
        "*   Company Type도 모델에 포함한다.\n"
      ]
    },
    {
      "cell_type": "markdown",
      "metadata": {
        "id": "lmS1rfg9HSyn"
      },
      "source": [
        "# **연속형 변수(Continuous Variables)**"
      ]
    },
    {
      "cell_type": "markdown",
      "metadata": {
        "id": "btMyVrNZIYaK"
      },
      "source": [
        "**City Development Index**"
      ]
    },
    {
      "cell_type": "code",
      "metadata": {
        "id": "rpO4rktVIhAK",
        "outputId": "8871318a-9b0c-4e78-d261-2a82244d6645",
        "colab": {
          "base_uri": "https://localhost:8080/"
        }
      },
      "source": [
        "train_upsampled['city_development_index'].describe()"
      ],
      "execution_count": 69,
      "outputs": [
        {
          "output_type": "execute_result",
          "data": {
            "text/plain": [
              "count    23026.000000\n",
              "mean         0.804492\n",
              "std          0.134329\n",
              "min          0.448000\n",
              "25%          0.624000\n",
              "50%          0.890000\n",
              "75%          0.920000\n",
              "max          0.949000\n",
              "Name: city_development_index, dtype: float64"
            ]
          },
          "metadata": {
            "tags": []
          },
          "execution_count": 69
        }
      ]
    },
    {
      "cell_type": "code",
      "metadata": {
        "id": "5PWzhGW2I3UX",
        "outputId": "29845dd6-d8a1-408b-f8e0-fa9344ba2142",
        "colab": {
          "base_uri": "https://localhost:8080/",
          "height": 265
        }
      },
      "source": [
        "plt.hist(data=train_upsampled, x='city_development_index');"
      ],
      "execution_count": 70,
      "outputs": [
        {
          "output_type": "display_data",
          "data": {
            "image/png": "[encoded data removed]",
            "text/plain": [
              "<Figure size 432x288 with 1 Axes>"
            ]
          },
          "metadata": {
            "tags": [],
            "needs_background": "light"
          }
        }
      ]
    },
    {
      "cell_type": "markdown",
      "metadata": {
        "id": "RvQLtjhMJAZA"
      },
      "source": [
        "\n",
        "\n",
        "*   대부분의 도시개발지수가 0.9보다 높다\n",
        "\n"
      ]
    },
    {
      "cell_type": "code",
      "metadata": {
        "id": "2jLqmNttJYyS",
        "outputId": "ab2d5eb3-3590-476c-e5b9-e135990a941d",
        "colab": {
          "base_uri": "https://localhost:8080/",
          "height": 444
        }
      },
      "source": [
        "plt.figure(figsize=(22,7))\n",
        "\n",
        "plt.subplot(121)\n",
        "plt.title('CDI of Non-Job-Changers')\n",
        "plt.hist(data=train_upsampled[train_upsampled['target'] == 0], x='city_development_index')\n",
        "\n",
        "\n",
        "plt.subplot(122)\n",
        "plt.title('CDI of Job-Changers')\n",
        "plt.hist(data=train_upsampled[train_upsampled['target'] == 1], x='city_development_index');"
      ],
      "execution_count": 71,
      "outputs": [
        {
          "output_type": "display_data",
          "data": {
            "image/png": "[encoded data removed]",
            "text/plain": [
              "<Figure size 1584x504 with 2 Axes>"
            ]
          },
          "metadata": {
            "tags": [],
            "needs_background": "light"
          }
        }
      ]
    },
    {
      "cell_type": "markdown",
      "metadata": {
        "id": "ht3G7pIOKNbP"
      },
      "source": [
        "\n",
        "\n",
        "*   이직을 하지 않는 쪽은 도시개발지수가 전체 분포와 비슷하다.\n",
        "*   이직을 하는 쪽은 도시개발지수가 0.6과 0.9 주위에서 많은 수를 기록했다.\n",
        "\n"
      ]
    },
    {
      "cell_type": "code",
      "metadata": {
        "id": "s3AXitFZKq36",
        "outputId": "c7a74aaa-355b-4ca1-8ebf-b63b7d995b07",
        "colab": {
          "base_uri": "https://localhost:8080/",
          "height": 624
        }
      },
      "source": [
        "plt.figure(figsize=(10,10))\n",
        "sns.boxplot(data=train_upsampled, x='target', y='city_development_index')"
      ],
      "execution_count": 72,
      "outputs": [
        {
          "output_type": "execute_result",
          "data": {
            "text/plain": [
              "<matplotlib.axes._subplots.AxesSubplot at 0x7f6b58193310>"
            ]
          },
          "metadata": {
            "tags": []
          },
          "execution_count": 72
        },
        {
          "output_type": "display_data",
          "data": {
            "image/png": "[encoded data removed]",
            "text/plain": [
              "<Figure size 720x720 with 1 Axes>"
            ]
          },
          "metadata": {
            "tags": [],
            "needs_background": "light"
          }
        }
      ]
    },
    {
      "cell_type": "markdown",
      "metadata": {
        "id": "tsZfOwFcQG35"
      },
      "source": [
        "Kruskal Wallis Test"
      ]
    },
    {
      "cell_type": "markdown",
      "metadata": {
        "id": "jfnrxl83QRI7"
      },
      "source": [
        "두 그룹 사이에 통계적으로 유의미한 차이가 있는지 알아보기 위해 연속형 변수(Continuous Variable)에 사용되는 Kruskal Wallis Test를 시행해 본다."
      ]
    },
    {
      "cell_type": "code",
      "metadata": {
        "id": "nKaWtZdSQzTX"
      },
      "source": [
        "no_change_df = train_upsampled[train_upsampled['target'] == 0]\n",
        "change_df =  train_upsampled[train_upsampled['target'] == 1]"
      ],
      "execution_count": 73,
      "outputs": []
    },
    {
      "cell_type": "code",
      "metadata": {
        "id": "2FTKannYRv40",
        "outputId": "1d2f38bf-82aa-4d12-88f4-130b57dc398d",
        "colab": {
          "base_uri": "https://localhost:8080/"
        }
      },
      "source": [
        "stats.kruskal(no_change_df['city_development_index'], change_df['city_development_index'])"
      ],
      "execution_count": 74,
      "outputs": [
        {
          "output_type": "execute_result",
          "data": {
            "text/plain": [
              "KruskalResult(statistic=2378.1398154123535, pvalue=0.0)"
            ]
          },
          "metadata": {
            "tags": []
          },
          "execution_count": 74
        }
      ]
    },
    {
      "cell_type": "markdown",
      "metadata": {
        "id": "qzAi1aR5SKrW"
      },
      "source": [
        "*   p value 가 0으로 매우 작다. 통계적으로 매우 유의미한 특성으로 모델에 포함한다."
      ]
    },
    {
      "cell_type": "markdown",
      "metadata": {
        "id": "l2tGM33YTw99"
      },
      "source": [
        "**Experience**"
      ]
    },
    {
      "cell_type": "markdown",
      "metadata": {
        "id": "PLujgp6tUSWd"
      },
      "source": [
        "경험은 년수를 나타낸 것으로 1 보다 작거나 부터 20보다 큰 값까지 있다."
      ]
    },
    {
      "cell_type": "code",
      "metadata": {
        "id": "l0lR3rlbU31G",
        "outputId": "0dff687a-097e-41b8-876d-be94538cf585",
        "colab": {
          "base_uri": "https://localhost:8080/"
        }
      },
      "source": [
        "train_upsampled['experience'].value_counts()"
      ],
      "execution_count": 75,
      "outputs": [
        {
          "output_type": "execute_result",
          "data": {
            "text/plain": [
              ">20    3457\n",
              "4      1846\n",
              "5      1800\n",
              "3      1795\n",
              "6      1550\n",
              "2      1522\n",
              "7      1292\n",
              "9      1151\n",
              "10     1132\n",
              "8       913\n",
              "1       894\n",
              "11      781\n",
              "<1      736\n",
              "15      730\n",
              "14      687\n",
              "16      551\n",
              "12      531\n",
              "13      465\n",
              "17      360\n",
              "19      303\n",
              "18      279\n",
              "20      180\n",
              "Name: experience, dtype: int64"
            ]
          },
          "metadata": {
            "tags": []
          },
          "execution_count": 75
        }
      ]
    },
    {
      "cell_type": "markdown",
      "metadata": {
        "id": "3DoVbm2nVNmW"
      },
      "source": [
        "'>20'을 21로 <1을 0으로 바꾼다. 이렇게 하여 일관된 데이터 타입을 갖고 모델이 읽어 들일 수 있는 값을 갖게 된다."
      ]
    },
    {
      "cell_type": "code",
      "metadata": {
        "id": "N4L2oRG_WAx0",
        "outputId": "bd1ca45e-4349-4069-a2df-d7cf8b45b0b0",
        "colab": {
          "base_uri": "https://localhost:8080/"
        }
      },
      "source": [
        "train_upsampled['experience'].isnull().sum()"
      ],
      "execution_count": 76,
      "outputs": [
        {
          "output_type": "execute_result",
          "data": {
            "text/plain": [
              "71"
            ]
          },
          "metadata": {
            "tags": []
          },
          "execution_count": 76
        }
      ]
    },
    {
      "cell_type": "markdown",
      "metadata": {
        "id": "Q9dpFhZmVotS"
      },
      "source": [
        "결측치는 데이터에서 랜덤하게 뽑아서 채우도록 한다.\n"
      ]
    },
    {
      "cell_type": "code",
      "metadata": {
        "id": "EIzW9j5hWKwb"
      },
      "source": [
        "np.random.seed(123) #랜덤한 값이 매번 같은 값을 가지도록 랜덤 씨드를 지정해준다.\n",
        "train_upsampled['experience'] = train_upsampled['experience'].replace('>20', 21)\n",
        "train_upsampled['experience'] = train_upsampled['experience'].replace('<1', 0)\n",
        "train_upsampled['experience'] = train_upsampled['experience'].fillna(np.random.choice(train_upsampled['experience']))"
      ],
      "execution_count": 77,
      "outputs": []
    },
    {
      "cell_type": "markdown",
      "metadata": {
        "id": "k6UYmzxfXYW_"
      },
      "source": [
        "수치형 데이터 타입이 되도록 데이터 타임을 float로 바꾼다."
      ]
    },
    {
      "cell_type": "code",
      "metadata": {
        "id": "ciuAC9XHXfIU"
      },
      "source": [
        "train_upsampled['experience'] = train_upsampled['experience'].astype('float64')"
      ],
      "execution_count": 78,
      "outputs": []
    },
    {
      "cell_type": "markdown",
      "metadata": {
        "id": "m40GcNLxX0nD"
      },
      "source": [
        "데이터를 살펴본다"
      ]
    },
    {
      "cell_type": "code",
      "metadata": {
        "id": "PQIOORHXX6Fr",
        "outputId": "29b015ca-3777-418b-e61e-24dcf6f81402",
        "colab": {
          "base_uri": "https://localhost:8080/"
        }
      },
      "source": [
        "train_upsampled['experience'].describe()"
      ],
      "execution_count": 79,
      "outputs": [
        {
          "output_type": "execute_result",
          "data": {
            "text/plain": [
              "count    23026.000000\n",
              "mean         9.415704\n",
              "std          6.692446\n",
              "min          0.000000\n",
              "25%          4.000000\n",
              "50%          8.000000\n",
              "75%         15.000000\n",
              "max         21.000000\n",
              "Name: experience, dtype: float64"
            ]
          },
          "metadata": {
            "tags": []
          },
          "execution_count": 79
        }
      ]
    },
    {
      "cell_type": "code",
      "metadata": {
        "id": "f0OERlDWYgmx",
        "outputId": "2491edd6-3169-4129-f349-d54569b3bf69",
        "colab": {
          "base_uri": "https://localhost:8080/",
          "height": 265
        }
      },
      "source": [
        "plt.xticks(np.arange(0, 22))\n",
        "plt.hist(data=train_upsampled, x='experience');"
      ],
      "execution_count": 82,
      "outputs": [
        {
          "output_type": "display_data",
          "data": {
            "image/png": "[encoded data removed]",
            "text/plain": [
              "<Figure size 432x288 with 1 Axes>"
            ]
          },
          "metadata": {
            "tags": [],
            "needs_background": "light"
          }
        }
      ]
    },
    {
      "cell_type": "markdown",
      "metadata": {
        "id": "LsOSCTHHYzLf"
      },
      "source": [
        "\n",
        "\n",
        "*   20년 이상과 0~6년 사이의 경험이 가장 많음을 알 수 있다.\n",
        "\n"
      ]
    },
    {
      "cell_type": "code",
      "metadata": {
        "id": "u1KbpulLZLTQ",
        "outputId": "af79b7e3-c5c8-48c3-a1e8-db0caeb36b4a",
        "colab": {
          "base_uri": "https://localhost:8080/",
          "height": 444
        }
      },
      "source": [
        "plt.figure(figsize=(22,7))\n",
        "\n",
        "plt.subplot(121)\n",
        "plt.title('Experience of Non-Job-Changers')\n",
        "plt.xticks(np.arange(0, 22))\n",
        "plt.hist(data=train_upsampled[train_upsampled['target'] == 0], x='experience')\n",
        "\n",
        "plt.subplot(122)\n",
        "plt.title('Experience of Job-Changers')\n",
        "plt.xticks(np.arange(0, 22))\n",
        "plt.hist(data=train_upsampled[train_upsampled['target'] == 1], x='experience');"
      ],
      "execution_count": 83,
      "outputs": [
        {
          "output_type": "display_data",
          "data": {
            "image/png": "[encoded data removed]",
            "text/plain": [
              "<Figure size 1584x504 with 2 Axes>"
            ]
          },
          "metadata": {
            "tags": [],
            "needs_background": "light"
          }
        }
      ]
    },
    {
      "cell_type": "markdown",
      "metadata": {
        "id": "WJjI22KeaiPX"
      },
      "source": [
        "\n",
        "\n",
        "*   이직자들 중 0~6년사이의 경험자가 가장 많고 그리고 20년 이상이 많다.\n",
        "*   비이직자들중에서는 20년 이상이 가장 많음을 알 수 있다.\n",
        "\n"
      ]
    },
    {
      "cell_type": "code",
      "metadata": {
        "id": "4LSAZZZmbPM8",
        "outputId": "d47a6c60-31d8-4882-a1d5-39bee63e6f3f",
        "colab": {
          "base_uri": "https://localhost:8080/",
          "height": 624
        }
      },
      "source": [
        "plt.figure(figsize=(10,10))\n",
        "sns.boxplot(data=train_upsampled, x='target', y='experience')"
      ],
      "execution_count": 84,
      "outputs": [
        {
          "output_type": "execute_result",
          "data": {
            "text/plain": [
              "<matplotlib.axes._subplots.AxesSubplot at 0x7f6b583bf050>"
            ]
          },
          "metadata": {
            "tags": []
          },
          "execution_count": 84
        },
        {
          "output_type": "display_data",
          "data": {
            "image/png": "[encoded data removed]",
            "text/plain": [
              "<Figure size 720x720 with 1 Axes>"
            ]
          },
          "metadata": {
            "tags": [],
            "needs_background": "light"
          }
        }
      ]
    },
    {
      "cell_type": "markdown",
      "metadata": {
        "id": "1dLrSkoGba1D"
      },
      "source": [
        "\n",
        "\n",
        "*   경험이 적을 수록 이직할 확률이 높은듯하다.\n",
        "\n"
      ]
    },
    {
      "cell_type": "markdown",
      "metadata": {
        "id": "tQSEOC7KbyLx"
      },
      "source": [
        "Kruskal Wallis Test"
      ]
    },
    {
      "cell_type": "code",
      "metadata": {
        "id": "vQdleZ3Sb312",
        "outputId": "0cafd66e-fc64-46e0-ba75-b8b85bbc7149",
        "colab": {
          "base_uri": "https://localhost:8080/"
        }
      },
      "source": [
        "no_change_df = train_upsampled[train_upsampled['target'] == 0]\n",
        "change_df =  train_upsampled[train_upsampled['target'] == 1]\n",
        "\n",
        "stats.kruskal(no_change_df['experience'], change_df['experience'])"
      ],
      "execution_count": 85,
      "outputs": [
        {
          "output_type": "execute_result",
          "data": {
            "text/plain": [
              "KruskalResult(statistic=996.7544855279108, pvalue=9.11433322223398e-219)"
            ]
          },
          "metadata": {
            "tags": []
          },
          "execution_count": 85
        }
      ]
    },
    {
      "cell_type": "markdown",
      "metadata": {
        "id": "0OR71hwScARt"
      },
      "source": [
        "*   p-value가 매우 낮으므로 통계적으로 유의미한 특성임을 알 수 있다. Experience도 모델에 포함한다."
      ]
    },
    {
      "cell_type": "markdown",
      "metadata": {
        "id": "2QsRJsoZcYQQ"
      },
      "source": [
        "**Last New Job**"
      ]
    },
    {
      "cell_type": "markdown",
      "metadata": {
        "id": "N1sSk6u-cowR"
      },
      "source": [
        "이전 직장과 현재 직장 사이의 년수의 차를 나타낸다."
      ]
    },
    {
      "cell_type": "code",
      "metadata": {
        "id": "dOriUMZdc37B",
        "outputId": "06db9427-8630-42c7-dbd1-468d12589341",
        "colab": {
          "base_uri": "https://localhost:8080/"
        }
      },
      "source": [
        "train_upsampled['last_new_job'].value_counts()"
      ],
      "execution_count": 86,
      "outputs": [
        {
          "output_type": "execute_result",
          "data": {
            "text/plain": [
              "1        9892\n",
              ">4       3589\n",
              "2        3442\n",
              "never    3139\n",
              "4        1210\n",
              "3        1200\n",
              "Name: last_new_job, dtype: int64"
            ]
          },
          "metadata": {
            "tags": []
          },
          "execution_count": 86
        }
      ]
    },
    {
      "cell_type": "code",
      "metadata": {
        "id": "Bd1pHYTk8MFa"
      },
      "source": [
        "train.profile_report()"
      ],
      "execution_count": null,
      "outputs": []
    },
    {
      "cell_type": "code",
      "metadata": {
        "id": "pfIAiphbF9_L"
      },
      "source": [
        "test.profile_report()"
      ],
      "execution_count": null,
      "outputs": []
    },
    {
      "cell_type": "code",
      "metadata": {
        "id": "cB_8nOVzImK0"
      },
      "source": [
        "y_test = np.load('/content/gdrive/MyDrive/Kaggle/DS_Job_Change/jobchange_test_target_values.npy', encoding='bytes')"
      ],
      "execution_count": 6,
      "outputs": []
    },
    {
      "cell_type": "code",
      "metadata": {
        "colab": {
          "base_uri": "https://localhost:8080/"
        },
        "id": "1CmiAbpBK_na",
        "outputId": "f5f4ef1b-0a33-4acb-e7f3-4e56404f3c94"
      },
      "source": [
        "len(y_test)"
      ],
      "execution_count": 7,
      "outputs": [
        {
          "output_type": "execute_result",
          "data": {
            "text/plain": [
              "2129"
            ]
          },
          "metadata": {
            "tags": []
          },
          "execution_count": 7
        }
      ]
    },
    {
      "cell_type": "code",
      "metadata": {
        "id": "0V6l4C6vLgf3"
      },
      "source": [
        "#결측치 처리\n",
        "#불균형 데이터 처리"
      ],
      "execution_count": 8,
      "outputs": []
    },
    {
      "cell_type": "code",
      "metadata": {
        "colab": {
          "base_uri": "https://localhost:8080/"
        },
        "id": "1cLze7QZOWUR",
        "outputId": "6a212ef7-629a-4d3e-b9d0-b697c2cac9a4"
      },
      "source": [
        "train.isnull().sum()"
      ],
      "execution_count": 9,
      "outputs": [
        {
          "output_type": "execute_result",
          "data": {
            "text/plain": [
              "enrollee_id                  0\n",
              "city                         0\n",
              "city_development_index       0\n",
              "gender                    4508\n",
              "relevent_experience          0\n",
              "enrolled_university        386\n",
              "education_level            460\n",
              "major_discipline          2813\n",
              "experience                  65\n",
              "company_size              5938\n",
              "company_type              6140\n",
              "last_new_job               423\n",
              "training_hours               0\n",
              "target                       0\n",
              "dtype: int64"
            ]
          },
          "metadata": {
            "tags": []
          },
          "execution_count": 9
        }
      ]
    },
    {
      "cell_type": "code",
      "metadata": {
        "colab": {
          "base_uri": "https://localhost:8080/"
        },
        "id": "yYmz9wHfOZTD",
        "outputId": "7b842bde-04f7-42a3-ddef-8fd7334c43b6"
      },
      "source": [
        "train.dtypes"
      ],
      "execution_count": 10,
      "outputs": [
        {
          "output_type": "execute_result",
          "data": {
            "text/plain": [
              "enrollee_id                 int64\n",
              "city                       object\n",
              "city_development_index    float64\n",
              "gender                     object\n",
              "relevent_experience        object\n",
              "enrolled_university        object\n",
              "education_level            object\n",
              "major_discipline           object\n",
              "experience                 object\n",
              "company_size               object\n",
              "company_type               object\n",
              "last_new_job               object\n",
              "training_hours              int64\n",
              "target                    float64\n",
              "dtype: object"
            ]
          },
          "metadata": {
            "tags": []
          },
          "execution_count": 10
        }
      ]
    },
    {
      "cell_type": "code",
      "metadata": {
        "id": "Iu8Ewz-Ss27p"
      },
      "source": [
        "train.fillna(\"Unknown\", inplace=True) #결측치를 모두 Unknown 이라는 값으로 대체하였다."
      ],
      "execution_count": 12,
      "outputs": []
    },
    {
      "cell_type": "code",
      "metadata": {
        "colab": {
          "base_uri": "https://localhost:8080/"
        },
        "id": "OM16hbvguG8e",
        "outputId": "b438f361-c696-40d3-90bc-c8c17691f389"
      },
      "source": [
        "train.isnull().sum()"
      ],
      "execution_count": 13,
      "outputs": [
        {
          "output_type": "execute_result",
          "data": {
            "text/plain": [
              "enrollee_id               0\n",
              "city                      0\n",
              "city_development_index    0\n",
              "gender                    0\n",
              "relevent_experience       0\n",
              "enrolled_university       0\n",
              "education_level           0\n",
              "major_discipline          0\n",
              "experience                0\n",
              "company_size              0\n",
              "company_type              0\n",
              "last_new_job              0\n",
              "training_hours            0\n",
              "target                    0\n",
              "dtype: int64"
            ]
          },
          "metadata": {
            "tags": []
          },
          "execution_count": 13
        }
      ]
    },
    {
      "cell_type": "code",
      "metadata": {
        "colab": {
          "base_uri": "https://localhost:8080/"
        },
        "id": "Qd5RReIbCrnS",
        "outputId": "c3d4ecab-54a7-4a3d-b018-5dd0774fbfa6"
      },
      "source": [
        "#city 특성이 high cardinality인데 어짜피 어떤 도시인지 모르므로 중요하지 않다고 생각되어 드랍한다.\n",
        "y_train = train.target\n",
        "X_train = train.drop(['target','city'], axis=1)\n",
        "\n",
        "pipe = make_pipeline(\n",
        "    OrdinalEncoder(), \n",
        "    LogisticRegression()\n",
        ")\n",
        "\n",
        "pipe.fit(X_train, y_train)\n",
        "\n",
        "pred_y_0 = pipe.predict(X_train)\n",
        "print(np.unique(pred_y_0))\n",
        "\n",
        "print(accuracy_score(pred_y_0, y_train))\n",
        "#train 데이터로 로지스틱 리그레션 모델을 돌렸을 때 accuracy 값이 0.767 나왔다."
      ],
      "execution_count": 14,
      "outputs": [
        {
          "output_type": "stream",
          "text": [
            "[0. 1.]\n",
            "0.7671468838083307\n"
          ],
          "name": "stdout"
        },
        {
          "output_type": "stream",
          "text": [
            "/usr/local/lib/python3.7/dist-packages/sklearn/linear_model/_logistic.py:940: ConvergenceWarning: lbfgs failed to converge (status=1):\n",
            "STOP: TOTAL NO. of ITERATIONS REACHED LIMIT.\n",
            "\n",
            "Increase the number of iterations (max_iter) or scale the data as shown in:\n",
            "    https://scikit-learn.org/stable/modules/preprocessing.html\n",
            "Please also refer to the documentation for alternative solver options:\n",
            "    https://scikit-learn.org/stable/modules/linear_model.html#logistic-regression\n",
            "  extra_warning_msg=_LOGISTIC_SOLVER_CONVERGENCE_MSG)\n"
          ],
          "name": "stderr"
        }
      ]
    },
    {
      "cell_type": "code",
      "metadata": {
        "id": "vAuhlTROcwc_"
      },
      "source": [
        "def evaluate(model, X, y):\n",
        "    predictions = model.predict(X)\n",
        "    accuracy = accuracy_score(predictions, y)\n",
        "    tn, fp, fn, tp = confusion_matrix(y, predictions).ravel()\n",
        "    sensitivity = tp / (tp+fn)\n",
        "    specificity = tn / (tn+fp)\n",
        "    auc = roc_auc_score(y, predictions)\n",
        "    \n",
        "    print(\"AUC: \", auc)\n",
        "    print(\"Sensitivity: \", round(sensitivity,2)) #1의 값을 예측한 정도\n",
        "    print(\"Specificity: \", round(specificity,2)) #0의 값을 예측한 정도\n",
        "\n",
        "    return round(accuracy,2)\n"
      ],
      "execution_count": 15,
      "outputs": []
    },
    {
      "cell_type": "code",
      "metadata": {
        "colab": {
          "base_uri": "https://localhost:8080/"
        },
        "id": "F-P7L_2RdOuT",
        "outputId": "0b1245ac-b0f0-4c51-94fd-01cf1e4129d8"
      },
      "source": [
        "evaluate(pipe, X_train, y_train)"
      ],
      "execution_count": 16,
      "outputs": [
        {
          "output_type": "stream",
          "text": [
            "AUC:  0.6033946574048397\n",
            "Sensitivity:  0.28\n",
            "Specificity:  0.93\n"
          ],
          "name": "stdout"
        },
        {
          "output_type": "execute_result",
          "data": {
            "text/plain": [
              "0.77"
            ]
          },
          "metadata": {
            "tags": []
          },
          "execution_count": 16
        }
      ]
    },
    {
      "cell_type": "code",
      "metadata": {
        "colab": {
          "base_uri": "https://localhost:8080/"
        },
        "id": "_a2KJ_GA8W9v",
        "outputId": "ea824916-097f-4993-c2b3-e4ee0f78f9e4"
      },
      "source": [
        "train.target.value_counts(normalize=True)"
      ],
      "execution_count": 19,
      "outputs": [
        {
          "output_type": "execute_result",
          "data": {
            "text/plain": [
              "0.0    0.750652\n",
              "1.0    0.249348\n",
              "Name: target, dtype: float64"
            ]
          },
          "metadata": {
            "tags": []
          },
          "execution_count": 19
        }
      ]
    },
    {
      "cell_type": "code",
      "metadata": {
        "id": "CJ4V5mIZ9y18"
      },
      "source": [
        "df_minority_upsampled.profile_report()"
      ],
      "execution_count": null,
      "outputs": []
    },
    {
      "cell_type": "code",
      "metadata": {
        "id": "R68LkARClBEi"
      },
      "source": [
        "df_upsampled.profile_report()"
      ],
      "execution_count": null,
      "outputs": []
    },
    {
      "cell_type": "code",
      "metadata": {
        "colab": {
          "base_uri": "https://localhost:8080/"
        },
        "id": "Axaw4GKLCBDq",
        "outputId": "a4eb3be8-8450-4c74-c580-aba418bf0888"
      },
      "source": [
        "# Resampel function으로 인해 데이터가 balanced 된것을 확인합니다. \n",
        "df_upsampled.target.value_counts()"
      ],
      "execution_count": 64,
      "outputs": [
        {
          "output_type": "execute_result",
          "data": {
            "text/plain": [
              "1.0    14381\n",
              "0.0    14381\n",
              "Name: target, dtype: int64"
            ]
          },
          "metadata": {
            "tags": []
          },
          "execution_count": 64
        }
      ]
    },
    {
      "cell_type": "code",
      "metadata": {
        "colab": {
          "base_uri": "https://localhost:8080/"
        },
        "id": "3_T6eBiabVNX",
        "outputId": "6d3abe64-8e30-43c1-d319-3a03d33a0b81"
      },
      "source": [
        "y = df_upsampled.target\n",
        "X = df_upsampled.drop(['target','city'], axis=1)\n",
        "pipe_up = make_pipeline(\n",
        "    OrdinalEncoder(), \n",
        "    LogisticRegression()\n",
        ")\n",
        "pipe_up.fit(X, y)\n",
        "\n",
        "pred_y_1 = pipe_up.predict(X)\n",
        "print(np.unique(pred_y_1))\n",
        "print(accuracy_score(y, pred_y_1))"
      ],
      "execution_count": 66,
      "outputs": [
        {
          "output_type": "stream",
          "text": [
            "[0. 1.]\n",
            "0.702141714762534\n"
          ],
          "name": "stdout"
        },
        {
          "output_type": "stream",
          "text": [
            "/usr/local/lib/python3.7/dist-packages/sklearn/linear_model/_logistic.py:940: ConvergenceWarning: lbfgs failed to converge (status=1):\n",
            "STOP: TOTAL NO. of ITERATIONS REACHED LIMIT.\n",
            "\n",
            "Increase the number of iterations (max_iter) or scale the data as shown in:\n",
            "    https://scikit-learn.org/stable/modules/preprocessing.html\n",
            "Please also refer to the documentation for alternative solver options:\n",
            "    https://scikit-learn.org/stable/modules/linear_model.html#logistic-regression\n",
            "  extra_warning_msg=_LOGISTIC_SOLVER_CONVERGENCE_MSG)\n"
          ],
          "name": "stderr"
        }
      ]
    },
    {
      "cell_type": "code",
      "metadata": {
        "colab": {
          "base_uri": "https://localhost:8080/"
        },
        "id": "ir5jY_Tlmbdt",
        "outputId": "a27de9ab-8ee7-4477-fdc3-6c047932df86"
      },
      "source": [
        "evaluate(pipe, X_train, y_train)"
      ],
      "execution_count": 55,
      "outputs": [
        {
          "output_type": "stream",
          "text": [
            "AUC:  0.6033946574048397\n",
            "Sensitivity:  0.28\n",
            "Specificity:  0.93\n"
          ],
          "name": "stdout"
        },
        {
          "output_type": "execute_result",
          "data": {
            "text/plain": [
              "0.77"
            ]
          },
          "metadata": {
            "tags": []
          },
          "execution_count": 55
        }
      ]
    },
    {
      "cell_type": "code",
      "metadata": {
        "colab": {
          "base_uri": "https://localhost:8080/"
        },
        "id": "VAZKqFuAeFUh",
        "outputId": "e1d6fb7f-9d28-44df-c900-0f96f9cd7f72"
      },
      "source": [
        "evaluate(pipe_up, X, y)"
      ],
      "execution_count": 67,
      "outputs": [
        {
          "output_type": "stream",
          "text": [
            "AUC:  0.702141714762534\n",
            "Sensitivity:  0.69\n",
            "Specificity:  0.71\n"
          ],
          "name": "stdout"
        },
        {
          "output_type": "execute_result",
          "data": {
            "text/plain": [
              "0.7"
            ]
          },
          "metadata": {
            "tags": []
          },
          "execution_count": 67
        }
      ]
    },
    {
      "cell_type": "markdown",
      "metadata": {
        "id": "XeoLVduSe6ch"
      },
      "source": [
        "* 데이터 불균형을 해결함으로써 1의값을 예측하는 정도와 0의 값을 예측하는 정도가 비슷하게 맞춰진 것을 알 수 있다.\n",
        "* AUC 값도 0.6에 비해 더 높은 0.7이라는 결과가 나왔다."
      ]
    },
    {
      "cell_type": "code",
      "metadata": {
        "colab": {
          "base_uri": "https://localhost:8080/",
          "height": 419
        },
        "id": "yBZHTOO_pE4l",
        "outputId": "f6639c34-6d60-4dae-a98f-7a2cee6ae466"
      },
      "source": [
        ""
      ],
      "execution_count": 68,
      "outputs": [
        {
          "output_type": "execute_result",
          "data": {
            "text/html": [
              "<div>\n",
              "<style scoped>\n",
              "    .dataframe tbody tr th:only-of-type {\n",
              "        vertical-align: middle;\n",
              "    }\n",
              "\n",
              "    .dataframe tbody tr th {\n",
              "        vertical-align: top;\n",
              "    }\n",
              "\n",
              "    .dataframe thead th {\n",
              "        text-align: right;\n",
              "    }\n",
              "</style>\n",
              "<table border=\"1\" class=\"dataframe\">\n",
              "  <thead>\n",
              "    <tr style=\"text-align: right;\">\n",
              "      <th></th>\n",
              "      <th>enrollee_id</th>\n",
              "      <th>city_development_index</th>\n",
              "      <th>gender</th>\n",
              "      <th>relevent_experience</th>\n",
              "      <th>enrolled_university</th>\n",
              "      <th>education_level</th>\n",
              "      <th>major_discipline</th>\n",
              "      <th>experience</th>\n",
              "      <th>company_size</th>\n",
              "      <th>company_type</th>\n",
              "      <th>last_new_job</th>\n",
              "      <th>training_hours</th>\n",
              "    </tr>\n",
              "  </thead>\n",
              "  <tbody>\n",
              "    <tr>\n",
              "      <th>1</th>\n",
              "      <td>29725</td>\n",
              "      <td>0.776</td>\n",
              "      <td>Male</td>\n",
              "      <td>No relevent experience</td>\n",
              "      <td>no_enrollment</td>\n",
              "      <td>Graduate</td>\n",
              "      <td>STEM</td>\n",
              "      <td>15</td>\n",
              "      <td>50-99</td>\n",
              "      <td>Pvt Ltd</td>\n",
              "      <td>&gt;4</td>\n",
              "      <td>47</td>\n",
              "    </tr>\n",
              "    <tr>\n",
              "      <th>2</th>\n",
              "      <td>11561</td>\n",
              "      <td>0.624</td>\n",
              "      <td>Unknown</td>\n",
              "      <td>No relevent experience</td>\n",
              "      <td>Full time course</td>\n",
              "      <td>Graduate</td>\n",
              "      <td>STEM</td>\n",
              "      <td>5</td>\n",
              "      <td>Unknown</td>\n",
              "      <td>Unknown</td>\n",
              "      <td>never</td>\n",
              "      <td>83</td>\n",
              "    </tr>\n",
              "    <tr>\n",
              "      <th>4</th>\n",
              "      <td>666</td>\n",
              "      <td>0.767</td>\n",
              "      <td>Male</td>\n",
              "      <td>Has relevent experience</td>\n",
              "      <td>no_enrollment</td>\n",
              "      <td>Masters</td>\n",
              "      <td>STEM</td>\n",
              "      <td>&gt;20</td>\n",
              "      <td>50-99</td>\n",
              "      <td>Funded Startup</td>\n",
              "      <td>4</td>\n",
              "      <td>8</td>\n",
              "    </tr>\n",
              "    <tr>\n",
              "      <th>6</th>\n",
              "      <td>28806</td>\n",
              "      <td>0.920</td>\n",
              "      <td>Male</td>\n",
              "      <td>Has relevent experience</td>\n",
              "      <td>no_enrollment</td>\n",
              "      <td>High School</td>\n",
              "      <td>Unknown</td>\n",
              "      <td>5</td>\n",
              "      <td>50-99</td>\n",
              "      <td>Funded Startup</td>\n",
              "      <td>1</td>\n",
              "      <td>24</td>\n",
              "    </tr>\n",
              "    <tr>\n",
              "      <th>9</th>\n",
              "      <td>699</td>\n",
              "      <td>0.920</td>\n",
              "      <td>Unknown</td>\n",
              "      <td>Has relevent experience</td>\n",
              "      <td>no_enrollment</td>\n",
              "      <td>Graduate</td>\n",
              "      <td>STEM</td>\n",
              "      <td>17</td>\n",
              "      <td>10000+</td>\n",
              "      <td>Pvt Ltd</td>\n",
              "      <td>&gt;4</td>\n",
              "      <td>123</td>\n",
              "    </tr>\n",
              "    <tr>\n",
              "      <th>...</th>\n",
              "      <td>...</td>\n",
              "      <td>...</td>\n",
              "      <td>...</td>\n",
              "      <td>...</td>\n",
              "      <td>...</td>\n",
              "      <td>...</td>\n",
              "      <td>...</td>\n",
              "      <td>...</td>\n",
              "      <td>...</td>\n",
              "      <td>...</td>\n",
              "      <td>...</td>\n",
              "      <td>...</td>\n",
              "    </tr>\n",
              "    <tr>\n",
              "      <th>9522</th>\n",
              "      <td>8952</td>\n",
              "      <td>0.624</td>\n",
              "      <td>Male</td>\n",
              "      <td>Has relevent experience</td>\n",
              "      <td>Full time course</td>\n",
              "      <td>Graduate</td>\n",
              "      <td>STEM</td>\n",
              "      <td>4</td>\n",
              "      <td>50-99</td>\n",
              "      <td>Pvt Ltd</td>\n",
              "      <td>1</td>\n",
              "      <td>23</td>\n",
              "    </tr>\n",
              "    <tr>\n",
              "      <th>4315</th>\n",
              "      <td>13109</td>\n",
              "      <td>0.920</td>\n",
              "      <td>Male</td>\n",
              "      <td>Has relevent experience</td>\n",
              "      <td>Full time course</td>\n",
              "      <td>Graduate</td>\n",
              "      <td>STEM</td>\n",
              "      <td>4</td>\n",
              "      <td>10/49</td>\n",
              "      <td>Pvt Ltd</td>\n",
              "      <td>1</td>\n",
              "      <td>40</td>\n",
              "    </tr>\n",
              "    <tr>\n",
              "      <th>7</th>\n",
              "      <td>402</td>\n",
              "      <td>0.762</td>\n",
              "      <td>Male</td>\n",
              "      <td>Has relevent experience</td>\n",
              "      <td>no_enrollment</td>\n",
              "      <td>Graduate</td>\n",
              "      <td>STEM</td>\n",
              "      <td>13</td>\n",
              "      <td>&lt;10</td>\n",
              "      <td>Pvt Ltd</td>\n",
              "      <td>&gt;4</td>\n",
              "      <td>18</td>\n",
              "    </tr>\n",
              "    <tr>\n",
              "      <th>2414</th>\n",
              "      <td>21890</td>\n",
              "      <td>0.624</td>\n",
              "      <td>Male</td>\n",
              "      <td>Has relevent experience</td>\n",
              "      <td>no_enrollment</td>\n",
              "      <td>Graduate</td>\n",
              "      <td>STEM</td>\n",
              "      <td>4</td>\n",
              "      <td>Unknown</td>\n",
              "      <td>Unknown</td>\n",
              "      <td>1</td>\n",
              "      <td>68</td>\n",
              "    </tr>\n",
              "    <tr>\n",
              "      <th>5890</th>\n",
              "      <td>11192</td>\n",
              "      <td>0.550</td>\n",
              "      <td>Male</td>\n",
              "      <td>Has relevent experience</td>\n",
              "      <td>no_enrollment</td>\n",
              "      <td>Graduate</td>\n",
              "      <td>STEM</td>\n",
              "      <td>15</td>\n",
              "      <td>1000-4999</td>\n",
              "      <td>Pvt Ltd</td>\n",
              "      <td>3</td>\n",
              "      <td>165</td>\n",
              "    </tr>\n",
              "  </tbody>\n",
              "</table>\n",
              "<p>28762 rows × 12 columns</p>\n",
              "</div>"
            ],
            "text/plain": [
              "      enrollee_id  city_development_index  ... last_new_job training_hours\n",
              "1           29725                   0.776  ...           >4             47\n",
              "2           11561                   0.624  ...        never             83\n",
              "4             666                   0.767  ...            4              8\n",
              "6           28806                   0.920  ...            1             24\n",
              "9             699                   0.920  ...           >4            123\n",
              "...           ...                     ...  ...          ...            ...\n",
              "9522         8952                   0.624  ...            1             23\n",
              "4315        13109                   0.920  ...            1             40\n",
              "7             402                   0.762  ...           >4             18\n",
              "2414        21890                   0.624  ...            1             68\n",
              "5890        11192                   0.550  ...            3            165\n",
              "\n",
              "[28762 rows x 12 columns]"
            ]
          },
          "metadata": {
            "tags": []
          },
          "execution_count": 68
        }
      ]
    }
  ]
}