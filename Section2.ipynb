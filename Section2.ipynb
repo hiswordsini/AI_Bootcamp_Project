{
  "nbformat": 4,
  "nbformat_minor": 0,
  "metadata": {
    "colab": {
      "name": "Section2.ipynb",
      "provenance": [],
      "authorship_tag": "ABX9TyONrrmuU0ddC0F+rkyQSPoU",
      "include_colab_link": true
    },
    "kernelspec": {
      "name": "python3",
      "display_name": "Python 3"
    },
    "language_info": {
      "name": "python"
    }
  },
  "cells": [
    {
      "cell_type": "markdown",
      "metadata": {
        "id": "view-in-github",
        "colab_type": "text"
      },
      "source": [
        "<a href=\"https://colab.research.google.com/github/hiswordsini/AI_Bootcamp_Project/blob/main/Section2.ipynb\" target=\"_parent\"><img src=\"https://colab.research.google.com/assets/colab-badge.svg\" alt=\"Open In Colab\"/></a>"
      ]
    },
    {
      "cell_type": "code",
      "metadata": {
        "id": "_bIU3NR4FtpZ"
      },
      "source": [
        "from sklearn.linear_model import LinearRegression, LogisticRegression\n",
        "import pandas as pd\n",
        "import pandas_profiling\n",
        "import numpy as np\n",
        "from sklearn.utils import resample\n",
        "from sklearn.preprocessing import LabelEncoder,OrdinalEncoder\n",
        "from sklearn.pipeline import make_pipeline\n",
        "from sklearn.metrics import f1_score, accuracy_score, confusion_matrix, roc_curve, roc_auc_score, auc, classification_report\n",
        "from matplotlib import pyplot as plt\n",
        "import seaborn as sns\n",
        "from scipy import stats\n",
        "from scipy.stats import chi2_contingency\n",
        "from sklearn.model_selection import train_test_split, GridSearchCV"
      ],
      "execution_count": 1,
      "outputs": []
    },
    {
      "cell_type": "code",
      "metadata": {
        "colab": {
          "base_uri": "https://localhost:8080/",
          "height": 1000
        },
        "id": "IrR56W6JC4tK",
        "outputId": "e7175c80-fa8b-43d8-98d2-8e8d655cacca"
      },
      "source": [
        "pip install -U pandas-profiling"
      ],
      "execution_count": 6,
      "outputs": [
        {
          "output_type": "stream",
          "text": [
            "Collecting pandas-profiling\n",
            "\u001b[?25l  Downloading https://files.pythonhosted.org/packages/3b/a3/34519d16e5ebe69bad30c5526deea2c3912634ced7f9b5e6e0bb9dbbd567/pandas_profiling-3.0.0-py2.py3-none-any.whl (248kB)\n",
            "\r\u001b[K     |█▎                              | 10kB 15.9MB/s eta 0:00:01\r\u001b[K     |██▋                             | 20kB 20.6MB/s eta 0:00:01\r\u001b[K     |████                            | 30kB 23.9MB/s eta 0:00:01\r\u001b[K     |█████▎                          | 40kB 19.3MB/s eta 0:00:01\r\u001b[K     |██████▋                         | 51kB 16.6MB/s eta 0:00:01\r\u001b[K     |████████                        | 61kB 9.8MB/s eta 0:00:01\r\u001b[K     |█████████▎                      | 71kB 10.9MB/s eta 0:00:01\r\u001b[K     |██████████▌                     | 81kB 11.7MB/s eta 0:00:01\r\u001b[K     |███████████▉                    | 92kB 12.6MB/s eta 0:00:01\r\u001b[K     |█████████████▏                  | 102kB 13.6MB/s eta 0:00:01\r\u001b[K     |██████████████▌                 | 112kB 13.6MB/s eta 0:00:01\r\u001b[K     |███████████████▉                | 122kB 13.6MB/s eta 0:00:01\r\u001b[K     |█████████████████▏              | 133kB 13.6MB/s eta 0:00:01\r\u001b[K     |██████████████████▌             | 143kB 13.6MB/s eta 0:00:01\r\u001b[K     |███████████████████▉            | 153kB 13.6MB/s eta 0:00:01\r\u001b[K     |█████████████████████           | 163kB 13.6MB/s eta 0:00:01\r\u001b[K     |██████████████████████▍         | 174kB 13.6MB/s eta 0:00:01\r\u001b[K     |███████████████████████▊        | 184kB 13.6MB/s eta 0:00:01\r\u001b[K     |█████████████████████████       | 194kB 13.6MB/s eta 0:00:01\r\u001b[K     |██████████████████████████▍     | 204kB 13.6MB/s eta 0:00:01\r\u001b[K     |███████████████████████████▊    | 215kB 13.6MB/s eta 0:00:01\r\u001b[K     |█████████████████████████████   | 225kB 13.6MB/s eta 0:00:01\r\u001b[K     |██████████████████████████████▎ | 235kB 13.6MB/s eta 0:00:01\r\u001b[K     |███████████████████████████████▋| 245kB 13.6MB/s eta 0:00:01\r\u001b[K     |████████████████████████████████| 256kB 13.6MB/s \n",
            "\u001b[?25hRequirement already satisfied, skipping upgrade: jinja2>=2.11.1 in /usr/local/lib/python3.7/dist-packages (from pandas-profiling) (2.11.3)\n",
            "Collecting PyYAML>=5.0.0\n",
            "\u001b[?25l  Downloading https://files.pythonhosted.org/packages/7a/a5/393c087efdc78091afa2af9f1378762f9821c9c1d7a22c5753fb5ac5f97a/PyYAML-5.4.1-cp37-cp37m-manylinux1_x86_64.whl (636kB)\n",
            "\u001b[K     |████████████████████████████████| 645kB 25.6MB/s \n",
            "\u001b[?25hCollecting pydantic>=1.8.1\n",
            "\u001b[?25l  Downloading https://files.pythonhosted.org/packages/9f/f2/2d5425efe57f6c4e06cbe5e587c1fd16929dcf0eb90bd4d3d1e1c97d1151/pydantic-1.8.2-cp37-cp37m-manylinux2014_x86_64.whl (10.1MB)\n",
            "\u001b[K     |████████████████████████████████| 10.1MB 32.0MB/s \n",
            "\u001b[?25hRequirement already satisfied, skipping upgrade: numpy>=1.16.0 in /usr/local/lib/python3.7/dist-packages (from pandas-profiling) (1.19.5)\n",
            "Collecting tqdm>=4.48.2\n",
            "\u001b[?25l  Downloading https://files.pythonhosted.org/packages/b4/20/9f1e974bb4761128fc0d0a32813eaa92827309b1756c4b892d28adfb4415/tqdm-4.61.1-py2.py3-none-any.whl (75kB)\n",
            "\u001b[K     |████████████████████████████████| 81kB 8.6MB/s \n",
            "\u001b[?25hCollecting requests>=2.24.0\n",
            "\u001b[?25l  Downloading https://files.pythonhosted.org/packages/29/c1/24814557f1d22c56d50280771a17307e6bf87b70727d975fd6b2ce6b014a/requests-2.25.1-py2.py3-none-any.whl (61kB)\n",
            "\u001b[K     |████████████████████████████████| 61kB 7.8MB/s \n",
            "\u001b[?25hCollecting visions[type_image_path]==0.7.1\n",
            "\u001b[?25l  Downloading https://files.pythonhosted.org/packages/80/96/01e4ba22cef96ae5035dbcf0451c2f4f859f8f17393b98406b23f0034279/visions-0.7.1-py3-none-any.whl (102kB)\n",
            "\u001b[K     |████████████████████████████████| 112kB 45.1MB/s \n",
            "\u001b[?25hCollecting phik>=0.11.1\n",
            "\u001b[?25l  Downloading https://files.pythonhosted.org/packages/b7/ce/193e8ddf62d4be643b9b4b20e8e9c63b2f6a20f92778c0410c629f89bdaa/phik-0.11.2.tar.gz (1.1MB)\n",
            "\u001b[K     |████████████████████████████████| 1.1MB 39.5MB/s \n",
            "\u001b[?25hRequirement already satisfied, skipping upgrade: joblib in /usr/local/lib/python3.7/dist-packages (from pandas-profiling) (1.0.1)\n",
            "Requirement already satisfied, skipping upgrade: matplotlib>=3.2.0 in /usr/local/lib/python3.7/dist-packages (from pandas-profiling) (3.2.2)\n",
            "Collecting htmlmin>=0.1.12\n",
            "  Downloading https://files.pythonhosted.org/packages/b3/e7/fcd59e12169de19f0131ff2812077f964c6b960e7c09804d30a7bf2ab461/htmlmin-0.1.12.tar.gz\n",
            "Requirement already satisfied, skipping upgrade: missingno>=0.4.2 in /usr/local/lib/python3.7/dist-packages (from pandas-profiling) (0.4.2)\n",
            "Collecting tangled-up-in-unicode==0.1.0\n",
            "\u001b[?25l  Downloading https://files.pythonhosted.org/packages/93/3e/cb354fb2097fcf2fd5b5a342b10ae2a6e9363ba435b64e3e00c414064bc7/tangled_up_in_unicode-0.1.0-py3-none-any.whl (3.1MB)\n",
            "\u001b[K     |████████████████████████████████| 3.1MB 29.4MB/s \n",
            "\u001b[?25hRequirement already satisfied, skipping upgrade: pandas!=1.0.0,!=1.0.1,!=1.0.2,!=1.1.0,>=0.25.3 in /usr/local/lib/python3.7/dist-packages (from pandas-profiling) (1.1.5)\n",
            "Requirement already satisfied, skipping upgrade: seaborn>=0.10.1 in /usr/local/lib/python3.7/dist-packages (from pandas-profiling) (0.11.1)\n",
            "Requirement already satisfied, skipping upgrade: scipy>=1.4.1 in /usr/local/lib/python3.7/dist-packages (from pandas-profiling) (1.4.1)\n",
            "Requirement already satisfied, skipping upgrade: MarkupSafe>=0.23 in /usr/local/lib/python3.7/dist-packages (from jinja2>=2.11.1->pandas-profiling) (2.0.1)\n",
            "Requirement already satisfied, skipping upgrade: typing-extensions>=3.7.4.3 in /usr/local/lib/python3.7/dist-packages (from pydantic>=1.8.1->pandas-profiling) (3.7.4.3)\n",
            "Requirement already satisfied, skipping upgrade: certifi>=2017.4.17 in /usr/local/lib/python3.7/dist-packages (from requests>=2.24.0->pandas-profiling) (2021.5.30)\n",
            "Requirement already satisfied, skipping upgrade: urllib3<1.27,>=1.21.1 in /usr/local/lib/python3.7/dist-packages (from requests>=2.24.0->pandas-profiling) (1.24.3)\n",
            "Requirement already satisfied, skipping upgrade: idna<3,>=2.5 in /usr/local/lib/python3.7/dist-packages (from requests>=2.24.0->pandas-profiling) (2.10)\n",
            "Requirement already satisfied, skipping upgrade: chardet<5,>=3.0.2 in /usr/local/lib/python3.7/dist-packages (from requests>=2.24.0->pandas-profiling) (3.0.4)\n",
            "Requirement already satisfied, skipping upgrade: bottleneck in /usr/local/lib/python3.7/dist-packages (from visions[type_image_path]==0.7.1->pandas-profiling) (1.3.2)\n",
            "Requirement already satisfied, skipping upgrade: attrs>=19.3.0 in /usr/local/lib/python3.7/dist-packages (from visions[type_image_path]==0.7.1->pandas-profiling) (21.2.0)\n",
            "Requirement already satisfied, skipping upgrade: networkx>=2.4 in /usr/local/lib/python3.7/dist-packages (from visions[type_image_path]==0.7.1->pandas-profiling) (2.5.1)\n",
            "Collecting multimethod==1.4\n",
            "  Downloading https://files.pythonhosted.org/packages/7a/d0/ce5ad0392aa12645b7ad91a5983d6b625b704b021d9cd48c587630c1a9ac/multimethod-1.4-py2.py3-none-any.whl\n",
            "Collecting imagehash; extra == \"type_image_path\"\n",
            "\u001b[?25l  Downloading https://files.pythonhosted.org/packages/8e/18/9dbb772b5ef73a3069c66bb5bf29b9fb4dd57af0d5790c781c3f559bcca6/ImageHash-4.2.0-py2.py3-none-any.whl (295kB)\n",
            "\u001b[K     |████████████████████████████████| 296kB 48.7MB/s \n",
            "\u001b[?25hRequirement already satisfied, skipping upgrade: Pillow; extra == \"type_image_path\" in /usr/local/lib/python3.7/dist-packages (from visions[type_image_path]==0.7.1->pandas-profiling) (7.1.2)\n",
            "Requirement already satisfied, skipping upgrade: kiwisolver>=1.0.1 in /usr/local/lib/python3.7/dist-packages (from matplotlib>=3.2.0->pandas-profiling) (1.3.1)\n",
            "Requirement already satisfied, skipping upgrade: cycler>=0.10 in /usr/local/lib/python3.7/dist-packages (from matplotlib>=3.2.0->pandas-profiling) (0.10.0)\n",
            "Requirement already satisfied, skipping upgrade: python-dateutil>=2.1 in /usr/local/lib/python3.7/dist-packages (from matplotlib>=3.2.0->pandas-profiling) (2.8.1)\n",
            "Requirement already satisfied, skipping upgrade: pyparsing!=2.0.4,!=2.1.2,!=2.1.6,>=2.0.1 in /usr/local/lib/python3.7/dist-packages (from matplotlib>=3.2.0->pandas-profiling) (2.4.7)\n",
            "Requirement already satisfied, skipping upgrade: pytz>=2017.2 in /usr/local/lib/python3.7/dist-packages (from pandas!=1.0.0,!=1.0.1,!=1.0.2,!=1.1.0,>=0.25.3->pandas-profiling) (2018.9)\n",
            "Requirement already satisfied, skipping upgrade: decorator<5,>=4.3 in /usr/local/lib/python3.7/dist-packages (from networkx>=2.4->visions[type_image_path]==0.7.1->pandas-profiling) (4.4.2)\n",
            "Requirement already satisfied, skipping upgrade: PyWavelets in /usr/local/lib/python3.7/dist-packages (from imagehash; extra == \"type_image_path\"->visions[type_image_path]==0.7.1->pandas-profiling) (1.1.1)\n",
            "Requirement already satisfied, skipping upgrade: six in /usr/local/lib/python3.7/dist-packages (from imagehash; extra == \"type_image_path\"->visions[type_image_path]==0.7.1->pandas-profiling) (1.15.0)\n",
            "Building wheels for collected packages: phik, htmlmin\n",
            "  Building wheel for phik (setup.py) ... \u001b[?25l\u001b[?25hdone\n",
            "  Created wheel for phik: filename=phik-0.11.2-cp37-none-any.whl size=1107437 sha256=5d555c5b9dab8ca9c264c1dcf1abf13cf2ee8df748bce66c6298f5f7a8b6699b\n",
            "  Stored in directory: /root/.cache/pip/wheels/c0/a3/b0/f27b1cfe32ea131a3715169132ff6d85653789e80e966c3bf6\n",
            "  Building wheel for htmlmin (setup.py) ... \u001b[?25l\u001b[?25hdone\n",
            "  Created wheel for htmlmin: filename=htmlmin-0.1.12-cp37-none-any.whl size=27099 sha256=8d06f06c905f8761b79f95ed01eef7881f664196cff84f5489dba2d5ebaec1a2\n",
            "  Stored in directory: /root/.cache/pip/wheels/43/07/ac/7c5a9d708d65247ac1f94066cf1db075540b85716c30255459\n",
            "Successfully built phik htmlmin\n",
            "\u001b[31mERROR: google-colab 1.0.0 has requirement requests~=2.23.0, but you'll have requests 2.25.1 which is incompatible.\u001b[0m\n",
            "\u001b[31mERROR: datascience 0.10.6 has requirement folium==0.2.1, but you'll have folium 0.8.3 which is incompatible.\u001b[0m\n",
            "\u001b[31mERROR: phik 0.11.2 has requirement scipy>=1.5.2, but you'll have scipy 1.4.1 which is incompatible.\u001b[0m\n",
            "Installing collected packages: PyYAML, pydantic, tqdm, requests, tangled-up-in-unicode, multimethod, imagehash, visions, phik, htmlmin, pandas-profiling\n",
            "  Found existing installation: PyYAML 3.13\n",
            "    Uninstalling PyYAML-3.13:\n",
            "      Successfully uninstalled PyYAML-3.13\n",
            "  Found existing installation: tqdm 4.41.1\n",
            "    Uninstalling tqdm-4.41.1:\n",
            "      Successfully uninstalled tqdm-4.41.1\n",
            "  Found existing installation: requests 2.23.0\n",
            "    Uninstalling requests-2.23.0:\n",
            "      Successfully uninstalled requests-2.23.0\n",
            "  Found existing installation: pandas-profiling 1.4.1\n",
            "    Uninstalling pandas-profiling-1.4.1:\n",
            "      Successfully uninstalled pandas-profiling-1.4.1\n",
            "Successfully installed PyYAML-5.4.1 htmlmin-0.1.12 imagehash-4.2.0 multimethod-1.4 pandas-profiling-3.0.0 phik-0.11.2 pydantic-1.8.2 requests-2.25.1 tangled-up-in-unicode-0.1.0 tqdm-4.61.1 visions-0.7.1\n"
          ],
          "name": "stdout"
        },
        {
          "output_type": "display_data",
          "data": {
            "application/vnd.colab-display-data+json": {
              "pip_warning": {
                "packages": [
                  "pandas_profiling"
                ]
              }
            }
          },
          "metadata": {
            "tags": []
          }
        }
      ]
    },
    {
      "cell_type": "code",
      "metadata": {
        "id": "dxJGZb_qBHtC",
        "colab": {
          "base_uri": "https://localhost:8080/"
        },
        "outputId": "92012bcf-d566-4dd2-dbc0-7856379cd62e"
      },
      "source": [
        "from google.colab import drive\n",
        "\n",
        "drive.mount('/content/gdrive')"
      ],
      "execution_count": 2,
      "outputs": [
        {
          "output_type": "stream",
          "text": [
            "Drive already mounted at /content/gdrive; to attempt to forcibly remount, call drive.mount(\"/content/gdrive\", force_remount=True).\n"
          ],
          "name": "stdout"
        }
      ]
    },
    {
      "cell_type": "code",
      "metadata": {
        "id": "H75VyHoJthBF"
      },
      "source": [
        "#https://www.kaggle.com/arashnic/hr-analytics-job-change-of-data-scientists\n",
        "#HR Analytics: Job Change of Data Scientists\n",
        "\n",
        "\n",
        "train = pd.read_csv('/content/gdrive/MyDrive/Kaggle/DS_Job_Change/aug_train.csv')\n",
        "test = pd.read_csv('/content/gdrive/MyDrive/Kaggle/DS_Job_Change/aug_test.csv')"
      ],
      "execution_count": 3,
      "outputs": []
    },
    {
      "cell_type": "markdown",
      "metadata": {
        "id": "2mfPl1LKDVna"
      },
      "source": [
        "#**초기 탐색**"
      ]
    },
    {
      "cell_type": "code",
      "metadata": {
        "colab": {
          "base_uri": "https://localhost:8080/"
        },
        "id": "kIMGU16PDiuj",
        "outputId": "126fceed-39e4-4081-9cf8-59b5cc66b09b"
      },
      "source": [
        "train.shape, test.shape"
      ],
      "execution_count": 4,
      "outputs": [
        {
          "output_type": "execute_result",
          "data": {
            "text/plain": [
              "((19158, 14), (2129, 13))"
            ]
          },
          "metadata": {
            "tags": []
          },
          "execution_count": 4
        }
      ]
    },
    {
      "cell_type": "code",
      "metadata": {
        "colab": {
          "base_uri": "https://localhost:8080/"
        },
        "id": "DpjgvFMmDpNL",
        "outputId": "994d4440-7266-44e3-d4ef-cf25df15d9a1"
      },
      "source": [
        "train.columns"
      ],
      "execution_count": 5,
      "outputs": [
        {
          "output_type": "execute_result",
          "data": {
            "text/plain": [
              "Index(['enrollee_id', 'city', 'city_development_index', 'gender',\n",
              "       'relevent_experience', 'enrolled_university', 'education_level',\n",
              "       'major_discipline', 'experience', 'company_size', 'company_type',\n",
              "       'last_new_job', 'training_hours', 'target'],\n",
              "      dtype='object')"
            ]
          },
          "metadata": {
            "tags": []
          },
          "execution_count": 5
        }
      ]
    },
    {
      "cell_type": "code",
      "metadata": {
        "colab": {
          "base_uri": "https://localhost:8080/"
        },
        "id": "P2X0c4ApDw3G",
        "outputId": "29e3d735-5061-42cb-eb06-e15f200f5aef"
      },
      "source": [
        "train.info()"
      ],
      "execution_count": 6,
      "outputs": [
        {
          "output_type": "stream",
          "text": [
            "<class 'pandas.core.frame.DataFrame'>\n",
            "RangeIndex: 19158 entries, 0 to 19157\n",
            "Data columns (total 14 columns):\n",
            " #   Column                  Non-Null Count  Dtype  \n",
            "---  ------                  --------------  -----  \n",
            " 0   enrollee_id             19158 non-null  int64  \n",
            " 1   city                    19158 non-null  object \n",
            " 2   city_development_index  19158 non-null  float64\n",
            " 3   gender                  14650 non-null  object \n",
            " 4   relevent_experience     19158 non-null  object \n",
            " 5   enrolled_university     18772 non-null  object \n",
            " 6   education_level         18698 non-null  object \n",
            " 7   major_discipline        16345 non-null  object \n",
            " 8   experience              19093 non-null  object \n",
            " 9   company_size            13220 non-null  object \n",
            " 10  company_type            13018 non-null  object \n",
            " 11  last_new_job            18735 non-null  object \n",
            " 12  training_hours          19158 non-null  int64  \n",
            " 13  target                  19158 non-null  float64\n",
            "dtypes: float64(2), int64(2), object(10)\n",
            "memory usage: 2.0+ MB\n"
          ],
          "name": "stdout"
        }
      ]
    },
    {
      "cell_type": "markdown",
      "metadata": {
        "id": "BXRW4BrfEmqu"
      },
      "source": [
        "*   ID와 타겟을 제외하고 2가지 특성만 수치형이고 나머지는 모두 범주형 특성이다. 이 중에서 last_new_job와 experience 같은 특성은 수치형으로 변환 할 것이다. 그래서 총 4가지 수치형 특성이 있는 자료가 될 것이다."
      ]
    },
    {
      "cell_type": "code",
      "metadata": {
        "colab": {
          "base_uri": "https://localhost:8080/"
        },
        "id": "ASEwMzofGFPx",
        "outputId": "984d5cf1-2567-4276-881e-376cadde1f6c"
      },
      "source": [
        "train.isnull().sum()"
      ],
      "execution_count": 7,
      "outputs": [
        {
          "output_type": "execute_result",
          "data": {
            "text/plain": [
              "enrollee_id                  0\n",
              "city                         0\n",
              "city_development_index       0\n",
              "gender                    4508\n",
              "relevent_experience          0\n",
              "enrolled_university        386\n",
              "education_level            460\n",
              "major_discipline          2813\n",
              "experience                  65\n",
              "company_size              5938\n",
              "company_type              6140\n",
              "last_new_job               423\n",
              "training_hours               0\n",
              "target                       0\n",
              "dtype: int64"
            ]
          },
          "metadata": {
            "tags": []
          },
          "execution_count": 7
        }
      ]
    },
    {
      "cell_type": "markdown",
      "metadata": {
        "id": "BHDph8HnGgUm"
      },
      "source": [
        "*   절반 이상의 특성들이 결측치를 포함하고 있음을 알 수 있다. 각각의 컬럼을 분석하면서 처리해 나갈 것이다."
      ]
    },
    {
      "cell_type": "code",
      "metadata": {
        "colab": {
          "base_uri": "https://localhost:8080/"
        },
        "id": "m39VJBMx8HAt",
        "outputId": "e87e237a-330e-4286-a613-ef2658f231a0"
      },
      "source": [
        "train.target.value_counts()"
      ],
      "execution_count": 8,
      "outputs": [
        {
          "output_type": "execute_result",
          "data": {
            "text/plain": [
              "0.0    14381\n",
              "1.0     4777\n",
              "Name: target, dtype: int64"
            ]
          },
          "metadata": {
            "tags": []
          },
          "execution_count": 8
        }
      ]
    },
    {
      "cell_type": "code",
      "metadata": {
        "colab": {
          "base_uri": "https://localhost:8080/"
        },
        "id": "vNB062PG8frv",
        "outputId": "783249e3-75fb-4aa2-c3fb-b864fddb47ec"
      },
      "source": [
        "train.target.value_counts(normalize=True)"
      ],
      "execution_count": 9,
      "outputs": [
        {
          "output_type": "execute_result",
          "data": {
            "text/plain": [
              "0.0    0.750652\n",
              "1.0    0.249348\n",
              "Name: target, dtype: float64"
            ]
          },
          "metadata": {
            "tags": []
          },
          "execution_count": 9
        }
      ]
    },
    {
      "cell_type": "markdown",
      "metadata": {
        "id": "-Yg1i6OX8iDk"
      },
      "source": [
        "\n",
        "\n",
        "*   데이터가 불균형임을 알 수 있다.\n",
        "*   데이터 불균형 문제 부터 처리할 것이다.\n",
        "\n"
      ]
    },
    {
      "cell_type": "markdown",
      "metadata": {
        "id": "7yLhIdj98hU1"
      },
      "source": [
        "*   target 0: 직장을 옮기지 않는다와 target 1:직장을 옮긴다 간의 차이가 많은 불균형 데이터 셋이므로 데이터가 적은 target 1의 데이터를 늘리는 업샘플링으로 데이터셋의 균형을 맞춰 볼 것입니다."
      ]
    },
    {
      "cell_type": "markdown",
      "metadata": {
        "id": "gjDOmaFJ-L7D"
      },
      "source": [
        " \n",
        "\n",
        "* 그전에 데이터 Leakage 방지를 위해 훈련세트와 검증 세트로 먼저 데이터를 나눈 후 업샘플링을 할 것입니다. \n"
      ]
    },
    {
      "cell_type": "code",
      "metadata": {
        "colab": {
          "base_uri": "https://localhost:8080/"
        },
        "id": "wTXKR7PCEF73",
        "outputId": "2b589db0-2885-41d1-dce2-de3cbe622a80"
      },
      "source": [
        "train, val = train_test_split(train, test_size=0.2, random_state=2)\n",
        "train.shape, val.shape"
      ],
      "execution_count": 10,
      "outputs": [
        {
          "output_type": "execute_result",
          "data": {
            "text/plain": [
              "((15326, 14), (3832, 14))"
            ]
          },
          "metadata": {
            "tags": []
          },
          "execution_count": 10
        }
      ]
    },
    {
      "cell_type": "markdown",
      "metadata": {
        "id": "aN4La5mOVYI3"
      },
      "source": [
        "훈련 데이터와 검증 데이터에 대해서 업샘플링을 합니다."
      ]
    },
    {
      "cell_type": "code",
      "metadata": {
        "colab": {
          "base_uri": "https://localhost:8080/"
        },
        "id": "Wz8y6emS6J9y",
        "outputId": "ca1cf33e-dc21-4509-d294-2c9d847d9d6a"
      },
      "source": [
        "#타겟 다수와 소수로 훈련과 검증 세트를 나눕니다.\n",
        "train_majority = train[train.target == 0]\n",
        "train_minority = train[train.target == 1]\n",
        "val_majority = val[val.target == 0]\n",
        "val_minority = val[val.target == 1]\n",
        "train_majority.shape, train_minority.shape, val_majority.shape, val_minority.shape"
      ],
      "execution_count": 11,
      "outputs": [
        {
          "output_type": "execute_result",
          "data": {
            "text/plain": [
              "((11513, 14), (3813, 14), (2868, 14), (964, 14))"
            ]
          },
          "metadata": {
            "tags": []
          },
          "execution_count": 11
        }
      ]
    },
    {
      "cell_type": "code",
      "metadata": {
        "colab": {
          "base_uri": "https://localhost:8080/"
        },
        "id": "CY2zyTii7R6z",
        "outputId": "f14581de-17d7-4bca-862d-0a42e282cbb8"
      },
      "source": [
        "# Resample function을 사용하여 minority dataframe의 갯수를 majority dataframe의 데이터 갯수만큼 증가시킵니다.\n",
        "train_minority_upsampled = resample(train_minority, replace=True, n_samples=train_majority.shape[0], random_state=123)\n",
        "val_minority_upsampled = resample(val_minority, replace=True, n_samples=val_majority.shape[0], random_state=123)\n",
        "train_minority_upsampled.shape, val_minority_upsampled.shape"
      ],
      "execution_count": 12,
      "outputs": [
        {
          "output_type": "execute_result",
          "data": {
            "text/plain": [
              "((11513, 14), (2868, 14))"
            ]
          },
          "metadata": {
            "tags": []
          },
          "execution_count": 12
        }
      ]
    },
    {
      "cell_type": "code",
      "metadata": {
        "colab": {
          "base_uri": "https://localhost:8080/"
        },
        "id": "XbCOK4iG_ezD",
        "outputId": "ea5fc41b-528b-49ad-d6b6-5b3d451688e7"
      },
      "source": [
        "# 증가시킨 minority dataframe과 majority dataframe을 다시 합쳐줍니다.\n",
        "train_upsampled = pd.concat([train_majority, train_minority_upsampled])\n",
        "val_upsampled = pd.concat([val_majority, val_minority_upsampled])\n",
        "train_upsampled.shape, val_upsampled.shape"
      ],
      "execution_count": 13,
      "outputs": [
        {
          "output_type": "execute_result",
          "data": {
            "text/plain": [
              "((23026, 14), (5736, 14))"
            ]
          },
          "metadata": {
            "tags": []
          },
          "execution_count": 13
        }
      ]
    },
    {
      "cell_type": "markdown",
      "metadata": {
        "id": "0Bnt7icwHXvg"
      },
      "source": [
        "# **범주형 변수(Categorical Variables)**"
      ]
    },
    {
      "cell_type": "markdown",
      "metadata": {
        "id": "HtqKozWRH1Pd"
      },
      "source": [
        "**City**"
      ]
    },
    {
      "cell_type": "code",
      "metadata": {
        "colab": {
          "base_uri": "https://localhost:8080/"
        },
        "id": "vouOPrG6GFVU",
        "outputId": "a0c6698c-6cb9-4cac-f465-b66afb36a848"
      },
      "source": [
        "train_upsampled['city'].value_counts()"
      ],
      "execution_count": 14,
      "outputs": [
        {
          "output_type": "execute_result",
          "data": {
            "text/plain": [
              "city_103    4889\n",
              "city_21     4657\n",
              "city_16     1508\n",
              "city_114    1294\n",
              "city_160    1026\n",
              "            ... \n",
              "city_129       3\n",
              "city_31        3\n",
              "city_25        2\n",
              "city_121       2\n",
              "city_171       1\n",
              "Name: city, Length: 122, dtype: int64"
            ]
          },
          "metadata": {
            "tags": []
          },
          "execution_count": 14
        }
      ]
    },
    {
      "cell_type": "markdown",
      "metadata": {
        "id": "5SRFr1CoIA4x"
      },
      "source": [
        "*   122개의 서로 다른 도시들이 있다."
      ]
    },
    {
      "cell_type": "code",
      "metadata": {
        "colab": {
          "base_uri": "https://localhost:8080/",
          "height": 458
        },
        "id": "LyLsKu56bta3",
        "outputId": "96c38802-2030-4052-9fab-b6515b3f8b03"
      },
      "source": [
        "plt.figure(figsize=(10,7))\n",
        "\n",
        "train_upsampled['city'].value_counts()[:20].sort_values(ascending=True).plot(kind='barh')\n",
        "plt.title('Value Counts of Cities')\n",
        "plt.xlabel('Frequency')\n",
        "plt.ylabel('City Name');"
      ],
      "execution_count": 15,
      "outputs": [
        {
          "output_type": "display_data",
          "data": {
            "image/png": "[encoded data removed]",
            "text/plain": [
              "<Figure size 720x504 with 1 Axes>"
            ]
          },
          "metadata": {
            "tags": [],
            "needs_background": "light"
          }
        }
      ]
    },
    {
      "cell_type": "markdown",
      "metadata": {
        "id": "jBHBTfSzcl3i"
      },
      "source": [
        "\n",
        "\n",
        "*   상위 20개의 도시 리스트이다. \n",
        "*   도시들이 익명화되어 정확히 어느 도시인지를 알 수 없어 중요하지 않다고 판단되어 이 특성은 빼기로 한다. \n"
      ]
    },
    {
      "cell_type": "markdown",
      "metadata": {
        "id": "gSEoAs90dVx_"
      },
      "source": [
        "**Gender**"
      ]
    },
    {
      "cell_type": "code",
      "metadata": {
        "colab": {
          "base_uri": "https://localhost:8080/"
        },
        "id": "psWrjnU0eLOR",
        "outputId": "7b3b2335-0746-4940-933c-12439f0ee1e9"
      },
      "source": [
        "train_upsampled['gender'].value_counts()"
      ],
      "execution_count": 16,
      "outputs": [
        {
          "output_type": "execute_result",
          "data": {
            "text/plain": [
              "Male      15550\n",
              "Female     1467\n",
              "Other       231\n",
              "Name: gender, dtype: int64"
            ]
          },
          "metadata": {
            "tags": []
          },
          "execution_count": 16
        }
      ]
    },
    {
      "cell_type": "code",
      "metadata": {
        "colab": {
          "base_uri": "https://localhost:8080/"
        },
        "id": "gFIZSesoiKW9",
        "outputId": "f2e506c4-2021-493d-e469-5668df9fbde2"
      },
      "source": [
        "train_upsampled['gender'].isnull().sum()"
      ],
      "execution_count": 17,
      "outputs": [
        {
          "output_type": "execute_result",
          "data": {
            "text/plain": [
              "5778"
            ]
          },
          "metadata": {
            "tags": []
          },
          "execution_count": 17
        }
      ]
    },
    {
      "cell_type": "code",
      "metadata": {
        "id": "tvNUQt3tftDF"
      },
      "source": [
        "train_upsampled['gender'].fillna('Unknown', inplace=True)\n",
        "val_upsampled['gender'].fillna('Unknown', inplace=True)"
      ],
      "execution_count": 18,
      "outputs": []
    },
    {
      "cell_type": "markdown",
      "metadata": {
        "id": "iSE51e7mfgBO"
      },
      "source": [
        "\n",
        "\n",
        "*   결측치는 'Unknown'이라는 값을 주기로 한다.\n",
        "\n"
      ]
    },
    {
      "cell_type": "code",
      "metadata": {
        "colab": {
          "base_uri": "https://localhost:8080/",
          "height": 419
        },
        "id": "Gv3KZYKygshS",
        "outputId": "69a3effd-8fdc-46fc-abd8-e7ed1096fa71"
      },
      "source": [
        "train_upsampled[train_upsampled['gender'] == 'Unknown']"
      ],
      "execution_count": 19,
      "outputs": [
        {
          "output_type": "execute_result",
          "data": {
            "text/html": [
              "<div>\n",
              "<style scoped>\n",
              "    .dataframe tbody tr th:only-of-type {\n",
              "        vertical-align: middle;\n",
              "    }\n",
              "\n",
              "    .dataframe tbody tr th {\n",
              "        vertical-align: top;\n",
              "    }\n",
              "\n",
              "    .dataframe thead th {\n",
              "        text-align: right;\n",
              "    }\n",
              "</style>\n",
              "<table border=\"1\" class=\"dataframe\">\n",
              "  <thead>\n",
              "    <tr style=\"text-align: right;\">\n",
              "      <th></th>\n",
              "      <th>enrollee_id</th>\n",
              "      <th>city</th>\n",
              "      <th>city_development_index</th>\n",
              "      <th>gender</th>\n",
              "      <th>relevent_experience</th>\n",
              "      <th>enrolled_university</th>\n",
              "      <th>education_level</th>\n",
              "      <th>major_discipline</th>\n",
              "      <th>experience</th>\n",
              "      <th>company_size</th>\n",
              "      <th>company_type</th>\n",
              "      <th>last_new_job</th>\n",
              "      <th>training_hours</th>\n",
              "      <th>target</th>\n",
              "    </tr>\n",
              "  </thead>\n",
              "  <tbody>\n",
              "    <tr>\n",
              "      <th>2935</th>\n",
              "      <td>189</td>\n",
              "      <td>city_71</td>\n",
              "      <td>0.884</td>\n",
              "      <td>Unknown</td>\n",
              "      <td>Has relevent experience</td>\n",
              "      <td>Part time course</td>\n",
              "      <td>Masters</td>\n",
              "      <td>STEM</td>\n",
              "      <td>13</td>\n",
              "      <td>500-999</td>\n",
              "      <td>Pvt Ltd</td>\n",
              "      <td>1</td>\n",
              "      <td>40</td>\n",
              "      <td>0.0</td>\n",
              "    </tr>\n",
              "    <tr>\n",
              "      <th>17164</th>\n",
              "      <td>9109</td>\n",
              "      <td>city_91</td>\n",
              "      <td>0.691</td>\n",
              "      <td>Unknown</td>\n",
              "      <td>Has relevent experience</td>\n",
              "      <td>no_enrollment</td>\n",
              "      <td>Graduate</td>\n",
              "      <td>Other</td>\n",
              "      <td>6</td>\n",
              "      <td>10/49</td>\n",
              "      <td>Funded Startup</td>\n",
              "      <td>1</td>\n",
              "      <td>78</td>\n",
              "      <td>0.0</td>\n",
              "    </tr>\n",
              "    <tr>\n",
              "      <th>11097</th>\n",
              "      <td>14780</td>\n",
              "      <td>city_40</td>\n",
              "      <td>0.776</td>\n",
              "      <td>Unknown</td>\n",
              "      <td>No relevent experience</td>\n",
              "      <td>no_enrollment</td>\n",
              "      <td>Masters</td>\n",
              "      <td>STEM</td>\n",
              "      <td>16</td>\n",
              "      <td>50-99</td>\n",
              "      <td>Pvt Ltd</td>\n",
              "      <td>never</td>\n",
              "      <td>59</td>\n",
              "      <td>0.0</td>\n",
              "    </tr>\n",
              "    <tr>\n",
              "      <th>10846</th>\n",
              "      <td>5794</td>\n",
              "      <td>city_16</td>\n",
              "      <td>0.910</td>\n",
              "      <td>Unknown</td>\n",
              "      <td>Has relevent experience</td>\n",
              "      <td>no_enrollment</td>\n",
              "      <td>Graduate</td>\n",
              "      <td>STEM</td>\n",
              "      <td>&gt;20</td>\n",
              "      <td>NaN</td>\n",
              "      <td>NaN</td>\n",
              "      <td>1</td>\n",
              "      <td>12</td>\n",
              "      <td>0.0</td>\n",
              "    </tr>\n",
              "    <tr>\n",
              "      <th>14002</th>\n",
              "      <td>28511</td>\n",
              "      <td>city_16</td>\n",
              "      <td>0.910</td>\n",
              "      <td>Unknown</td>\n",
              "      <td>Has relevent experience</td>\n",
              "      <td>no_enrollment</td>\n",
              "      <td>Graduate</td>\n",
              "      <td>STEM</td>\n",
              "      <td>10</td>\n",
              "      <td>10/49</td>\n",
              "      <td>Pvt Ltd</td>\n",
              "      <td>4</td>\n",
              "      <td>12</td>\n",
              "      <td>0.0</td>\n",
              "    </tr>\n",
              "    <tr>\n",
              "      <th>...</th>\n",
              "      <td>...</td>\n",
              "      <td>...</td>\n",
              "      <td>...</td>\n",
              "      <td>...</td>\n",
              "      <td>...</td>\n",
              "      <td>...</td>\n",
              "      <td>...</td>\n",
              "      <td>...</td>\n",
              "      <td>...</td>\n",
              "      <td>...</td>\n",
              "      <td>...</td>\n",
              "      <td>...</td>\n",
              "      <td>...</td>\n",
              "      <td>...</td>\n",
              "    </tr>\n",
              "    <tr>\n",
              "      <th>2406</th>\n",
              "      <td>12043</td>\n",
              "      <td>city_50</td>\n",
              "      <td>0.896</td>\n",
              "      <td>Unknown</td>\n",
              "      <td>No relevent experience</td>\n",
              "      <td>Full time course</td>\n",
              "      <td>Graduate</td>\n",
              "      <td>STEM</td>\n",
              "      <td>3</td>\n",
              "      <td>NaN</td>\n",
              "      <td>NaN</td>\n",
              "      <td>never</td>\n",
              "      <td>35</td>\n",
              "      <td>1.0</td>\n",
              "    </tr>\n",
              "    <tr>\n",
              "      <th>1438</th>\n",
              "      <td>16653</td>\n",
              "      <td>city_70</td>\n",
              "      <td>0.698</td>\n",
              "      <td>Unknown</td>\n",
              "      <td>Has relevent experience</td>\n",
              "      <td>no_enrollment</td>\n",
              "      <td>Graduate</td>\n",
              "      <td>STEM</td>\n",
              "      <td>2</td>\n",
              "      <td>1000-4999</td>\n",
              "      <td>Other</td>\n",
              "      <td>1</td>\n",
              "      <td>140</td>\n",
              "      <td>1.0</td>\n",
              "    </tr>\n",
              "    <tr>\n",
              "      <th>7709</th>\n",
              "      <td>21810</td>\n",
              "      <td>city_21</td>\n",
              "      <td>0.624</td>\n",
              "      <td>Unknown</td>\n",
              "      <td>No relevent experience</td>\n",
              "      <td>Full time course</td>\n",
              "      <td>Graduate</td>\n",
              "      <td>STEM</td>\n",
              "      <td>&lt;1</td>\n",
              "      <td>NaN</td>\n",
              "      <td>NaN</td>\n",
              "      <td>never</td>\n",
              "      <td>50</td>\n",
              "      <td>1.0</td>\n",
              "    </tr>\n",
              "    <tr>\n",
              "      <th>5229</th>\n",
              "      <td>26983</td>\n",
              "      <td>city_103</td>\n",
              "      <td>0.920</td>\n",
              "      <td>Unknown</td>\n",
              "      <td>Has relevent experience</td>\n",
              "      <td>no_enrollment</td>\n",
              "      <td>Graduate</td>\n",
              "      <td>STEM</td>\n",
              "      <td>6</td>\n",
              "      <td>10000+</td>\n",
              "      <td>Pvt Ltd</td>\n",
              "      <td>1</td>\n",
              "      <td>78</td>\n",
              "      <td>1.0</td>\n",
              "    </tr>\n",
              "    <tr>\n",
              "      <th>3156</th>\n",
              "      <td>26789</td>\n",
              "      <td>city_103</td>\n",
              "      <td>0.920</td>\n",
              "      <td>Unknown</td>\n",
              "      <td>Has relevent experience</td>\n",
              "      <td>no_enrollment</td>\n",
              "      <td>Graduate</td>\n",
              "      <td>STEM</td>\n",
              "      <td>3</td>\n",
              "      <td>50-99</td>\n",
              "      <td>Pvt Ltd</td>\n",
              "      <td>1</td>\n",
              "      <td>10</td>\n",
              "      <td>1.0</td>\n",
              "    </tr>\n",
              "  </tbody>\n",
              "</table>\n",
              "<p>5778 rows × 14 columns</p>\n",
              "</div>"
            ],
            "text/plain": [
              "       enrollee_id      city  ...  training_hours target\n",
              "2935           189   city_71  ...              40    0.0\n",
              "17164         9109   city_91  ...              78    0.0\n",
              "11097        14780   city_40  ...              59    0.0\n",
              "10846         5794   city_16  ...              12    0.0\n",
              "14002        28511   city_16  ...              12    0.0\n",
              "...            ...       ...  ...             ...    ...\n",
              "2406         12043   city_50  ...              35    1.0\n",
              "1438         16653   city_70  ...             140    1.0\n",
              "7709         21810   city_21  ...              50    1.0\n",
              "5229         26983  city_103  ...              78    1.0\n",
              "3156         26789  city_103  ...              10    1.0\n",
              "\n",
              "[5778 rows x 14 columns]"
            ]
          },
          "metadata": {
            "tags": []
          },
          "execution_count": 19
        }
      ]
    },
    {
      "cell_type": "markdown",
      "metadata": {
        "id": "7zYGeapXhOsq"
      },
      "source": [
        "\n",
        "\n",
        "*   인사이트를 도출하기 위해 Unknown 값으로 된 컬럼들을 확인한다.\n",
        "*   별다른 특이사항이 발견되지 않는다.\n",
        "\n"
      ]
    },
    {
      "cell_type": "markdown",
      "metadata": {
        "id": "PvDBSCEuho4n"
      },
      "source": [
        "데이터를 시각화 해본다"
      ]
    },
    {
      "cell_type": "code",
      "metadata": {
        "colab": {
          "base_uri": "https://localhost:8080/",
          "height": 458
        },
        "id": "EDmGuPc5hxjV",
        "outputId": "318f37fb-3df2-4d8d-efa3-d001343ec719"
      },
      "source": [
        "plt.figure(figsize=(15,7))\n",
        "\n",
        "plt.subplot(121)\n",
        "sns.countplot(data=train_upsampled, x='gender')\n",
        "plt.title('Count of Gender')\n",
        "plt.xlabel('Gender')\n",
        "plt.ylabel('Frequency');\n",
        "\n",
        "plt.subplot(122)\n",
        "sns.barplot(data=train_upsampled, x='gender', y='target')\n",
        "plt.title('Gender Proportion of Job Change')\n",
        "plt.xlabel('Gender')\n",
        "plt.ylabel('Proportion');"
      ],
      "execution_count": 20,
      "outputs": [
        {
          "output_type": "display_data",
          "data": {
            "image/png": "[encoded data removed]",
            "text/plain": [
              "<Figure size 1080x504 with 2 Axes>"
            ]
          },
          "metadata": {
            "tags": [],
            "needs_background": "light"
          }
        }
      ]
    },
    {
      "cell_type": "markdown",
      "metadata": {
        "id": "auM9X0SKiQSK"
      },
      "source": [
        "\n",
        "\n",
        "*   데이터의 수에는 남자가 현저히 많음을 알 수 있다.\n",
        "*   이직을 하는 성별의 비율은 Unknown이 가장 많고 여자와 그외의 성별이 비슷하고 남자가 상대적으로 비율이 작다.\n",
        "\n"
      ]
    },
    {
      "cell_type": "markdown",
      "metadata": {
        "id": "y7yohDgqi4fX"
      },
      "source": [
        "좀 더 자세히 들여다 보자"
      ]
    },
    {
      "cell_type": "markdown",
      "metadata": {
        "id": "85eKP_AljDKq"
      },
      "source": [
        "성별과 타겟의 개수를 비교하는 테이블을 만든다"
      ]
    },
    {
      "cell_type": "code",
      "metadata": {
        "colab": {
          "base_uri": "https://localhost:8080/",
          "height": 204
        },
        "id": "U6093e6RjMEQ",
        "outputId": "72858f83-3587-40ec-82df-4e09d400e815"
      },
      "source": [
        "gender_table = pd.crosstab(train_upsampled['gender'], train_upsampled['target'])\n",
        "gender_table"
      ],
      "execution_count": 21,
      "outputs": [
        {
          "output_type": "execute_result",
          "data": {
            "text/html": [
              "<div>\n",
              "<style scoped>\n",
              "    .dataframe tbody tr th:only-of-type {\n",
              "        vertical-align: middle;\n",
              "    }\n",
              "\n",
              "    .dataframe tbody tr th {\n",
              "        vertical-align: top;\n",
              "    }\n",
              "\n",
              "    .dataframe thead th {\n",
              "        text-align: right;\n",
              "    }\n",
              "</style>\n",
              "<table border=\"1\" class=\"dataframe\">\n",
              "  <thead>\n",
              "    <tr style=\"text-align: right;\">\n",
              "      <th>target</th>\n",
              "      <th>0.0</th>\n",
              "      <th>1.0</th>\n",
              "    </tr>\n",
              "    <tr>\n",
              "      <th>gender</th>\n",
              "      <th></th>\n",
              "      <th></th>\n",
              "    </tr>\n",
              "  </thead>\n",
              "  <tbody>\n",
              "    <tr>\n",
              "      <th>Female</th>\n",
              "      <td>707</td>\n",
              "      <td>760</td>\n",
              "    </tr>\n",
              "    <tr>\n",
              "      <th>Male</th>\n",
              "      <td>8194</td>\n",
              "      <td>7356</td>\n",
              "    </tr>\n",
              "    <tr>\n",
              "      <th>Other</th>\n",
              "      <td>112</td>\n",
              "      <td>119</td>\n",
              "    </tr>\n",
              "    <tr>\n",
              "      <th>Unknown</th>\n",
              "      <td>2500</td>\n",
              "      <td>3278</td>\n",
              "    </tr>\n",
              "  </tbody>\n",
              "</table>\n",
              "</div>"
            ],
            "text/plain": [
              "target    0.0   1.0\n",
              "gender             \n",
              "Female    707   760\n",
              "Male     8194  7356\n",
              "Other     112   119\n",
              "Unknown  2500  3278"
            ]
          },
          "metadata": {
            "tags": []
          },
          "execution_count": 21
        }
      ]
    },
    {
      "cell_type": "markdown",
      "metadata": {
        "id": "8ICIV6O4joPV"
      },
      "source": [
        "\n",
        "\n",
        "*   남자가 여자 보다 열배 넘게 데이터를 차지하고 있다.\n",
        "\n"
      ]
    },
    {
      "cell_type": "markdown",
      "metadata": {
        "id": "oPS5IZMtkHF8"
      },
      "source": [
        "각 성별별로 이직하는 비율을 나타낸 테이블을 만들어본다."
      ]
    },
    {
      "cell_type": "code",
      "metadata": {
        "colab": {
          "base_uri": "https://localhost:8080/",
          "height": 204
        },
        "id": "BOGQOI0AkQLg",
        "outputId": "5b3f1d41-c429-4a2e-93f7-a71db132f73b"
      },
      "source": [
        "pd.crosstab(train_upsampled['gender'], train_upsampled['target'], normalize='index')"
      ],
      "execution_count": 22,
      "outputs": [
        {
          "output_type": "execute_result",
          "data": {
            "text/html": [
              "<div>\n",
              "<style scoped>\n",
              "    .dataframe tbody tr th:only-of-type {\n",
              "        vertical-align: middle;\n",
              "    }\n",
              "\n",
              "    .dataframe tbody tr th {\n",
              "        vertical-align: top;\n",
              "    }\n",
              "\n",
              "    .dataframe thead th {\n",
              "        text-align: right;\n",
              "    }\n",
              "</style>\n",
              "<table border=\"1\" class=\"dataframe\">\n",
              "  <thead>\n",
              "    <tr style=\"text-align: right;\">\n",
              "      <th>target</th>\n",
              "      <th>0.0</th>\n",
              "      <th>1.0</th>\n",
              "    </tr>\n",
              "    <tr>\n",
              "      <th>gender</th>\n",
              "      <th></th>\n",
              "      <th></th>\n",
              "    </tr>\n",
              "  </thead>\n",
              "  <tbody>\n",
              "    <tr>\n",
              "      <th>Female</th>\n",
              "      <td>0.481936</td>\n",
              "      <td>0.518064</td>\n",
              "    </tr>\n",
              "    <tr>\n",
              "      <th>Male</th>\n",
              "      <td>0.526945</td>\n",
              "      <td>0.473055</td>\n",
              "    </tr>\n",
              "    <tr>\n",
              "      <th>Other</th>\n",
              "      <td>0.484848</td>\n",
              "      <td>0.515152</td>\n",
              "    </tr>\n",
              "    <tr>\n",
              "      <th>Unknown</th>\n",
              "      <td>0.432676</td>\n",
              "      <td>0.567324</td>\n",
              "    </tr>\n",
              "  </tbody>\n",
              "</table>\n",
              "</div>"
            ],
            "text/plain": [
              "target        0.0       1.0\n",
              "gender                     \n",
              "Female   0.481936  0.518064\n",
              "Male     0.526945  0.473055\n",
              "Other    0.484848  0.515152\n",
              "Unknown  0.432676  0.567324"
            ]
          },
          "metadata": {
            "tags": []
          },
          "execution_count": 22
        }
      ]
    },
    {
      "cell_type": "markdown",
      "metadata": {
        "id": "qI-HIvC4mFTX"
      },
      "source": [
        "\n",
        "\n",
        "*   여자가 남자보다 이직하는 비율이 더 많음을 알 수 있다.\n",
        "*   결측(Unknown) 데이터에서 이직하는 비율이 가장 많이 나타났음을 알 수 있다\n",
        "\n"
      ]
    },
    {
      "cell_type": "markdown",
      "metadata": {
        "id": "ql-3PYPgmwHB"
      },
      "source": [
        "성별이 이직 여부를 예측하는 특성으로 사용될지 판가름하기 위해 통계적 유의미함을 알아볼 수 있는 카이 제곱 테스트를 해본다."
      ]
    },
    {
      "cell_type": "code",
      "metadata": {
        "colab": {
          "base_uri": "https://localhost:8080/"
        },
        "id": "abIQXX8ao-bm",
        "outputId": "d201bf07-9aed-4d61-ed64-ee7ada5e5be7"
      },
      "source": [
        "stat, p, dof, expected = chi2_contingency(gender_table)\n",
        "\n",
        "# interpret p-value \n",
        "alpha = 0.05\n",
        "print(\"p value is \" + str(p)) \n",
        "if p <= alpha: \n",
        "    print('Dependent (reject H0)') \n",
        "else: \n",
        "    print('Independent (H0 holds true)') "
      ],
      "execution_count": 23,
      "outputs": [
        {
          "output_type": "stream",
          "text": [
            "p value is 9.546110020821455e-33\n",
            "Dependent (reject H0)\n"
          ],
          "name": "stdout"
        }
      ]
    },
    {
      "cell_type": "markdown",
      "metadata": {
        "id": "JCxvJz7ZpWXO"
      },
      "source": [
        "\n",
        "\n",
        "*   p value 가 0.05 보다 현저히 작으므로 귀무 가설을 기각한다. (성별과 타겟 값 사이의 관계는 독립적이지 않다.(종속적이다))\n",
        "*   성별과 타겟 값 사이에 유의미한 종속 관계가 있음을 의미하므로 이 특성을 모델을 만드는데 사용하기로 한다.\n"
      ]
    },
    {
      "cell_type": "markdown",
      "metadata": {
        "id": "Os87mi28m_Ih"
      },
      "source": [
        "**Relevant Experience**"
      ]
    },
    {
      "cell_type": "code",
      "metadata": {
        "colab": {
          "base_uri": "https://localhost:8080/"
        },
        "id": "QuTri0rHoZKX",
        "outputId": "64f95c76-3405-4689-acbe-f899b1497bf1"
      },
      "source": [
        "train_upsampled['relevent_experience'].value_counts()"
      ],
      "execution_count": 24,
      "outputs": [
        {
          "output_type": "execute_result",
          "data": {
            "text/plain": [
              "Has relevent experience    15779\n",
              "No relevent experience      7247\n",
              "Name: relevent_experience, dtype: int64"
            ]
          },
          "metadata": {
            "tags": []
          },
          "execution_count": 24
        }
      ]
    },
    {
      "cell_type": "markdown",
      "metadata": {
        "id": "9dkqZRcZpEWR"
      },
      "source": [
        "* 관련 경험이 있는 경우가 없는 경우의 두배를 넘는다. \n",
        "\n"
      ]
    },
    {
      "cell_type": "markdown",
      "metadata": {
        "id": "-iljZl8JpWZb"
      },
      "source": [
        "간단하게 바꾸고 인코딩을 위해서 Has relevant experience 를 1로 바꾸고 No relevant experience를 0으로 바꾼다."
      ]
    },
    {
      "cell_type": "code",
      "metadata": {
        "id": "f10QdTuYprXg"
      },
      "source": [
        "train_upsampled['relevent_experience'] = train_upsampled['relevent_experience'].replace('Has relevent experience', 1)\n",
        "train_upsampled['relevent_experience'] = train_upsampled['relevent_experience'].replace('No relevent experience', 0)\n",
        "val_upsampled['relevent_experience'] = val_upsampled['relevent_experience'].replace('Has relevent experience', 1)\n",
        "val_upsampled['relevent_experience'] = val_upsampled['relevent_experience'].replace('No relevent experience', 0)"
      ],
      "execution_count": 25,
      "outputs": []
    },
    {
      "cell_type": "markdown",
      "metadata": {
        "id": "86jMfSieqT2f"
      },
      "source": [
        "비율과 개수를 시각화 한다."
      ]
    },
    {
      "cell_type": "code",
      "metadata": {
        "colab": {
          "base_uri": "https://localhost:8080/",
          "height": 458
        },
        "id": "fdm6ikN8qaRy",
        "outputId": "5e00ac43-23d9-455d-fad0-838053f9fbf5"
      },
      "source": [
        "plt.figure(figsize=(15,7))\n",
        "\n",
        "plt.subplot(121)\n",
        "sns.countplot(data=train_upsampled, x='relevent_experience')\n",
        "plt.title('Relevant Experience Counts')\n",
        "plt.xlabel('Has Relevant Experience')\n",
        "plt.ylabel('Count');\n",
        "\n",
        "plt.subplot(122)\n",
        "sns.barplot(data=train_upsampled, x='relevent_experience', y='target')\n",
        "plt.title('Relevant Experience Proportion of Job Change')\n",
        "plt.xlabel('Has Relevant Experience')\n",
        "plt.ylabel('Proportion');"
      ],
      "execution_count": 26,
      "outputs": [
        {
          "output_type": "display_data",
          "data": {
            "image/png": "[encoded data removed]",
            "text/plain": [
              "<Figure size 1080x504 with 2 Axes>"
            ]
          },
          "metadata": {
            "tags": [],
            "needs_background": "light"
          }
        }
      ]
    },
    {
      "cell_type": "markdown",
      "metadata": {
        "id": "PI8UP4cNq8by"
      },
      "source": [
        "\n",
        "\n",
        "*   관련 경험이 있는 사람이 없는 사람의 2배 이상이다\n",
        "*   이직 여부는 관련 경험이 없는 사람이 더 많다는 것을 알 수 있다.\n",
        "\n"
      ]
    },
    {
      "cell_type": "markdown",
      "metadata": {
        "id": "3Qep95S_rU4_"
      },
      "source": [
        "이 차이를 분명히 하기 위해 카이 제곱 테스트를 한다"
      ]
    },
    {
      "cell_type": "code",
      "metadata": {
        "colab": {
          "base_uri": "https://localhost:8080/",
          "height": 142
        },
        "id": "Zlhi7ryQrcjs",
        "outputId": "92d198db-ec51-4608-b879-c29abbd03da9"
      },
      "source": [
        "exp_table = pd.crosstab(train_upsampled['relevent_experience'], train_upsampled['target'])\n",
        "exp_table"
      ],
      "execution_count": 27,
      "outputs": [
        {
          "output_type": "execute_result",
          "data": {
            "text/html": [
              "<div>\n",
              "<style scoped>\n",
              "    .dataframe tbody tr th:only-of-type {\n",
              "        vertical-align: middle;\n",
              "    }\n",
              "\n",
              "    .dataframe tbody tr th {\n",
              "        vertical-align: top;\n",
              "    }\n",
              "\n",
              "    .dataframe thead th {\n",
              "        text-align: right;\n",
              "    }\n",
              "</style>\n",
              "<table border=\"1\" class=\"dataframe\">\n",
              "  <thead>\n",
              "    <tr style=\"text-align: right;\">\n",
              "      <th>target</th>\n",
              "      <th>0.0</th>\n",
              "      <th>1.0</th>\n",
              "    </tr>\n",
              "    <tr>\n",
              "      <th>relevent_experience</th>\n",
              "      <th></th>\n",
              "      <th></th>\n",
              "    </tr>\n",
              "  </thead>\n",
              "  <tbody>\n",
              "    <tr>\n",
              "      <th>0</th>\n",
              "      <td>2839</td>\n",
              "      <td>4408</td>\n",
              "    </tr>\n",
              "    <tr>\n",
              "      <th>1</th>\n",
              "      <td>8674</td>\n",
              "      <td>7105</td>\n",
              "    </tr>\n",
              "  </tbody>\n",
              "</table>\n",
              "</div>"
            ],
            "text/plain": [
              "target                0.0   1.0\n",
              "relevent_experience            \n",
              "0                    2839  4408\n",
              "1                    8674  7105"
            ]
          },
          "metadata": {
            "tags": []
          },
          "execution_count": 27
        }
      ]
    },
    {
      "cell_type": "code",
      "metadata": {
        "colab": {
          "base_uri": "https://localhost:8080/",
          "height": 142
        },
        "id": "QfqoQVDYsAoV",
        "outputId": "062e56a3-ab35-4342-8ef6-4b140dea4e91"
      },
      "source": [
        "pd.crosstab(train_upsampled['relevent_experience'], train_upsampled['target'], normalize = 'index')"
      ],
      "execution_count": 28,
      "outputs": [
        {
          "output_type": "execute_result",
          "data": {
            "text/html": [
              "<div>\n",
              "<style scoped>\n",
              "    .dataframe tbody tr th:only-of-type {\n",
              "        vertical-align: middle;\n",
              "    }\n",
              "\n",
              "    .dataframe tbody tr th {\n",
              "        vertical-align: top;\n",
              "    }\n",
              "\n",
              "    .dataframe thead th {\n",
              "        text-align: right;\n",
              "    }\n",
              "</style>\n",
              "<table border=\"1\" class=\"dataframe\">\n",
              "  <thead>\n",
              "    <tr style=\"text-align: right;\">\n",
              "      <th>target</th>\n",
              "      <th>0.0</th>\n",
              "      <th>1.0</th>\n",
              "    </tr>\n",
              "    <tr>\n",
              "      <th>relevent_experience</th>\n",
              "      <th></th>\n",
              "      <th></th>\n",
              "    </tr>\n",
              "  </thead>\n",
              "  <tbody>\n",
              "    <tr>\n",
              "      <th>0</th>\n",
              "      <td>0.391748</td>\n",
              "      <td>0.608252</td>\n",
              "    </tr>\n",
              "    <tr>\n",
              "      <th>1</th>\n",
              "      <td>0.549718</td>\n",
              "      <td>0.450282</td>\n",
              "    </tr>\n",
              "  </tbody>\n",
              "</table>\n",
              "</div>"
            ],
            "text/plain": [
              "target                    0.0       1.0\n",
              "relevent_experience                    \n",
              "0                    0.391748  0.608252\n",
              "1                    0.549718  0.450282"
            ]
          },
          "metadata": {
            "tags": []
          },
          "execution_count": 28
        }
      ]
    },
    {
      "cell_type": "code",
      "metadata": {
        "colab": {
          "base_uri": "https://localhost:8080/"
        },
        "id": "TKP_6L_ssakG",
        "outputId": "1b00232a-620e-4bb0-943c-98cc319487d9"
      },
      "source": [
        "stat, p, dof, expected = chi2_contingency(exp_table)\n",
        "\n",
        "# interpret p-value \n",
        "alpha = 0.05\n",
        "print(\"p value is \" + str(p)) \n",
        "if p <= alpha: \n",
        "    print('Dependent (reject H0)') \n",
        "else: \n",
        "    print('Independent (H0 holds true)') "
      ],
      "execution_count": 29,
      "outputs": [
        {
          "output_type": "stream",
          "text": [
            "p value is 1.1196808673160488e-109\n",
            "Dependent (reject H0)\n"
          ],
          "name": "stdout"
        }
      ]
    },
    {
      "cell_type": "markdown",
      "metadata": {
        "id": "lzi1OZUXsr1n"
      },
      "source": [
        "\n",
        "\n",
        "*   p value가 0.05 보다 현저히 작음을 알 수 있다. 따라서 relevent experience도 모델에 추가하기 좋은 특성으로 생각된다.\n",
        "\n"
      ]
    },
    {
      "cell_type": "markdown",
      "metadata": {
        "id": "hNrku3AAtABB"
      },
      "source": [
        "**Enrolled University**"
      ]
    },
    {
      "cell_type": "markdown",
      "metadata": {
        "id": "PsUZ3tzrtPSc"
      },
      "source": [
        "\n",
        "*   Enrolled University는 지원자가 대학에 풀타임으로 등록되어 있는지 아니면 파트 타임으로 등록되어 있는지 아니면 등록되어 있지 않은지 나타낸다"
      ]
    },
    {
      "cell_type": "code",
      "metadata": {
        "colab": {
          "base_uri": "https://localhost:8080/"
        },
        "id": "fxx8--oftrZx",
        "outputId": "e1da7245-e382-4109-96da-4c7d5c628232"
      },
      "source": [
        "train_upsampled['enrolled_university'].value_counts()"
      ],
      "execution_count": 30,
      "outputs": [
        {
          "output_type": "execute_result",
          "data": {
            "text/plain": [
              "no_enrollment       15766\n",
              "Full time course     5350\n",
              "Part time course     1397\n",
              "Name: enrolled_university, dtype: int64"
            ]
          },
          "metadata": {
            "tags": []
          },
          "execution_count": 30
        }
      ]
    },
    {
      "cell_type": "markdown",
      "metadata": {
        "id": "mKfW7KkWt5wX"
      },
      "source": [
        "\n",
        "\n",
        "*   대부분의 사람들이 대학에 등록되어 있지 않다\n",
        "\n",
        "\n"
      ]
    },
    {
      "cell_type": "code",
      "metadata": {
        "colab": {
          "base_uri": "https://localhost:8080/"
        },
        "id": "uWjxRrcMt_ok",
        "outputId": "c63d780c-e6fe-4709-e6bf-cad8b09c1177"
      },
      "source": [
        "train_upsampled['enrolled_university'].isnull().sum()"
      ],
      "execution_count": 31,
      "outputs": [
        {
          "output_type": "execute_result",
          "data": {
            "text/plain": [
              "513"
            ]
          },
          "metadata": {
            "tags": []
          },
          "execution_count": 31
        }
      ]
    },
    {
      "cell_type": "markdown",
      "metadata": {
        "id": "jg3rbUGFuJix"
      },
      "source": [
        "결측치를 'Unknown'으로 채우기로 한다."
      ]
    },
    {
      "cell_type": "code",
      "metadata": {
        "id": "rhTaO_FOuRSk"
      },
      "source": [
        "train_upsampled['enrolled_university'].fillna('Unknown', inplace=True)\n",
        "val_upsampled['enrolled_university'].fillna('Unknown', inplace=True)"
      ],
      "execution_count": 32,
      "outputs": []
    },
    {
      "cell_type": "code",
      "metadata": {
        "colab": {
          "base_uri": "https://localhost:8080/"
        },
        "id": "euJeocfqudBX",
        "outputId": "ee18d8f7-0f9f-48e8-ac02-11271b546c8b"
      },
      "source": [
        "train_upsampled['enrolled_university'].value_counts()"
      ],
      "execution_count": 33,
      "outputs": [
        {
          "output_type": "execute_result",
          "data": {
            "text/plain": [
              "no_enrollment       15766\n",
              "Full time course     5350\n",
              "Part time course     1397\n",
              "Unknown               513\n",
              "Name: enrolled_university, dtype: int64"
            ]
          },
          "metadata": {
            "tags": []
          },
          "execution_count": 33
        }
      ]
    },
    {
      "cell_type": "markdown",
      "metadata": {
        "id": "wlcSikfUunw0"
      },
      "source": [
        "시각화 한다"
      ]
    },
    {
      "cell_type": "code",
      "metadata": {
        "colab": {
          "base_uri": "https://localhost:8080/",
          "height": 459
        },
        "id": "z7fZN674uwrA",
        "outputId": "117a0687-4e95-4286-89a0-dca34ab7c0ff"
      },
      "source": [
        "plt.figure(figsize=(15,7))\n",
        "\n",
        "plt.subplot(121)\n",
        "sns.countplot(data=train_upsampled, x='enrolled_university')\n",
        "plt.title('University Course Counts')\n",
        "plt.xlabel('University Enrollment')\n",
        "plt.ylabel('Count');\n",
        "\n",
        "\n",
        "plt.subplot(122)\n",
        "sns.barplot(data=train_upsampled, x='enrolled_university', y='target')\n",
        "plt.title('University Course Proportion of Job Change')\n",
        "plt.xlabel('University Enrollment')\n",
        "plt.ylabel('Proportion');"
      ],
      "execution_count": 34,
      "outputs": [
        {
          "output_type": "display_data",
          "data": {
            "image/png": "[encoded data removed]",
            "text/plain": [
              "<Figure size 1080x504 with 2 Axes>"
            ]
          },
          "metadata": {
            "tags": [],
            "needs_background": "light"
          }
        }
      ]
    },
    {
      "cell_type": "markdown",
      "metadata": {
        "id": "9XRja9eUvEsj"
      },
      "source": [
        "\n",
        "\n",
        "*   대부분의 사람들이 대학에 등록되어 있지 않고 그러한 사람들이 이직 비율이 가장 작았다.\n",
        "*   풀 타임으로 대학에 등록되어 있는 사람들이 이직 비율이 가장 많았고 그 다음이 결측 데이터의 사람들이었다.\n",
        "\n"
      ]
    },
    {
      "cell_type": "markdown",
      "metadata": {
        "id": "_gSgCfwfvou9"
      },
      "source": [
        "카이 제곱 테스트를 한다."
      ]
    },
    {
      "cell_type": "code",
      "metadata": {
        "colab": {
          "base_uri": "https://localhost:8080/",
          "height": 204
        },
        "id": "Js_pRblpv9q9",
        "outputId": "5e18b5e4-1c9a-4ff4-bd3f-c022c1a59e7d"
      },
      "source": [
        "enrolled_table = pd.crosstab(train_upsampled['enrolled_university'],train_upsampled['target'])\n",
        "pd.crosstab(train_upsampled['enrolled_university'],train_upsampled['target'], normalize = 'index')"
      ],
      "execution_count": 35,
      "outputs": [
        {
          "output_type": "execute_result",
          "data": {
            "text/html": [
              "<div>\n",
              "<style scoped>\n",
              "    .dataframe tbody tr th:only-of-type {\n",
              "        vertical-align: middle;\n",
              "    }\n",
              "\n",
              "    .dataframe tbody tr th {\n",
              "        vertical-align: top;\n",
              "    }\n",
              "\n",
              "    .dataframe thead th {\n",
              "        text-align: right;\n",
              "    }\n",
              "</style>\n",
              "<table border=\"1\" class=\"dataframe\">\n",
              "  <thead>\n",
              "    <tr style=\"text-align: right;\">\n",
              "      <th>target</th>\n",
              "      <th>0.0</th>\n",
              "      <th>1.0</th>\n",
              "    </tr>\n",
              "    <tr>\n",
              "      <th>enrolled_university</th>\n",
              "      <th></th>\n",
              "      <th></th>\n",
              "    </tr>\n",
              "  </thead>\n",
              "  <tbody>\n",
              "    <tr>\n",
              "      <th>Full time course</th>\n",
              "      <td>0.344673</td>\n",
              "      <td>0.655327</td>\n",
              "    </tr>\n",
              "    <tr>\n",
              "      <th>Part time course</th>\n",
              "      <td>0.518253</td>\n",
              "      <td>0.481747</td>\n",
              "    </tr>\n",
              "    <tr>\n",
              "      <th>Unknown</th>\n",
              "      <td>0.387914</td>\n",
              "      <td>0.612086</td>\n",
              "    </tr>\n",
              "    <tr>\n",
              "      <th>no_enrollment</th>\n",
              "      <td>0.554738</td>\n",
              "      <td>0.445262</td>\n",
              "    </tr>\n",
              "  </tbody>\n",
              "</table>\n",
              "</div>"
            ],
            "text/plain": [
              "target                    0.0       1.0\n",
              "enrolled_university                    \n",
              "Full time course     0.344673  0.655327\n",
              "Part time course     0.518253  0.481747\n",
              "Unknown              0.387914  0.612086\n",
              "no_enrollment        0.554738  0.445262"
            ]
          },
          "metadata": {
            "tags": []
          },
          "execution_count": 35
        }
      ]
    },
    {
      "cell_type": "code",
      "metadata": {
        "colab": {
          "base_uri": "https://localhost:8080/"
        },
        "id": "oJkkPlPowqWH",
        "outputId": "fdc13965-cf50-46f7-9a24-9479aea94dd1"
      },
      "source": [
        "stat, p, dof, expected = chi2_contingency(enrolled_table)\n",
        "\n",
        "# interpret p-value \n",
        "alpha = 0.05\n",
        "print(\"p value is \" + str(p)) \n",
        "if p <= alpha: \n",
        "    print('Dependent (reject H0)') \n",
        "else: \n",
        "    print('Independent (H0 holds true)') "
      ],
      "execution_count": 36,
      "outputs": [
        {
          "output_type": "stream",
          "text": [
            "p value is 1.537606806946799e-158\n",
            "Dependent (reject H0)\n"
          ],
          "name": "stdout"
        }
      ]
    },
    {
      "cell_type": "markdown",
      "metadata": {
        "id": "RbZkJfsAwtZp"
      },
      "source": [
        "\n",
        "\n",
        "*   University Enrollment 도 모델에 포함할 좋은 특성이다.\n"
      ]
    },
    {
      "cell_type": "markdown",
      "metadata": {
        "id": "C7b2deKcw6il"
      },
      "source": [
        "**Education Level**"
      ]
    },
    {
      "cell_type": "markdown",
      "metadata": {
        "id": "Au-zLgjyxCZl"
      },
      "source": [
        "학력은 (Ph.D, Masters, Graduate, HIgh School, Primary School) 값으로 구분된다."
      ]
    },
    {
      "cell_type": "code",
      "metadata": {
        "colab": {
          "base_uri": "https://localhost:8080/"
        },
        "id": "QIM0j3wmxQ1R",
        "outputId": "da9cee10-3349-4dd2-8c98-fca70f495faf"
      },
      "source": [
        "train_upsampled['education_level'].value_counts()"
      ],
      "execution_count": 37,
      "outputs": [
        {
          "output_type": "execute_result",
          "data": {
            "text/plain": [
              "Graduate          14367\n",
              "Masters            5088\n",
              "High School        2280\n",
              "Phd                 441\n",
              "Primary School      310\n",
              "Name: education_level, dtype: int64"
            ]
          },
          "metadata": {
            "tags": []
          },
          "execution_count": 37
        }
      ]
    },
    {
      "cell_type": "markdown",
      "metadata": {
        "id": "bo86Z6I9xZ_H"
      },
      "source": [
        "\n",
        "\n",
        "*   대부분의 사람들이 대졸(Graduate)이다.\n",
        "\n"
      ]
    },
    {
      "cell_type": "code",
      "metadata": {
        "colab": {
          "base_uri": "https://localhost:8080/"
        },
        "id": "GMS-Tp7dxl-b",
        "outputId": "7a0470f9-797c-4be4-9256-4a2a7939d4c0"
      },
      "source": [
        "train_upsampled['education_level'].isnull().sum()"
      ],
      "execution_count": 38,
      "outputs": [
        {
          "output_type": "execute_result",
          "data": {
            "text/plain": [
              "540"
            ]
          },
          "metadata": {
            "tags": []
          },
          "execution_count": 38
        }
      ]
    },
    {
      "cell_type": "markdown",
      "metadata": {
        "id": "8eA1NS-uxtW6"
      },
      "source": [
        "결측치를 'Unknown'으로 대체한다."
      ]
    },
    {
      "cell_type": "code",
      "metadata": {
        "id": "qpInpyzOx2Fz"
      },
      "source": [
        "train_upsampled['education_level'].fillna('Unknown', inplace=True)\n",
        "val_upsampled['education_level'].fillna('Unknown', inplace=True)"
      ],
      "execution_count": 39,
      "outputs": []
    },
    {
      "cell_type": "code",
      "metadata": {
        "colab": {
          "base_uri": "https://localhost:8080/"
        },
        "id": "Ob0FpnoKyB8r",
        "outputId": "d9edd8cf-f609-49a9-c48d-4a17e26a38f9"
      },
      "source": [
        "train_upsampled['education_level'].value_counts()"
      ],
      "execution_count": 40,
      "outputs": [
        {
          "output_type": "execute_result",
          "data": {
            "text/plain": [
              "Graduate          14367\n",
              "Masters            5088\n",
              "High School        2280\n",
              "Unknown             540\n",
              "Phd                 441\n",
              "Primary School      310\n",
              "Name: education_level, dtype: int64"
            ]
          },
          "metadata": {
            "tags": []
          },
          "execution_count": 40
        }
      ]
    },
    {
      "cell_type": "markdown",
      "metadata": {
        "id": "quUOqhVnyApL"
      },
      "source": [
        "시각화 한다."
      ]
    },
    {
      "cell_type": "code",
      "metadata": {
        "colab": {
          "base_uri": "https://localhost:8080/",
          "height": 458
        },
        "id": "PHlAEFENyJKb",
        "outputId": "3c6d4514-0786-40ff-ff91-55f8cb3ac7fc"
      },
      "source": [
        "plt.figure(figsize=(15,7))\n",
        "\n",
        "plt.subplot(121)\n",
        "sns.countplot(data=train_upsampled, x='education_level')\n",
        "plt.title('Education Level Counts')\n",
        "plt.xlabel('Education Level')\n",
        "plt.ylabel('Count');\n",
        "\n",
        "\n",
        "plt.subplot(122)\n",
        "sns.barplot(data=train_upsampled, x='education_level', y='target')\n",
        "plt.title(' Education level Proportion of Job Change')\n",
        "plt.xlabel('Education Level')\n",
        "plt.ylabel('Proportion');"
      ],
      "execution_count": 41,
      "outputs": [
        {
          "output_type": "display_data",
          "data": {
            "image/png": "[encoded data removed]",
            "text/plain": [
              "<Figure size 1080x504 with 2 Axes>"
            ]
          },
          "metadata": {
            "tags": [],
            "needs_background": "light"
          }
        }
      ]
    },
    {
      "cell_type": "markdown",
      "metadata": {
        "id": "_JiPObrxyfXd"
      },
      "source": [
        "\n",
        "\n",
        "*   대졸자는 다른 학력을 모두 합친 것보다 월등히 많으나 이직 비율에서는 다른 학력에 비해 약간 높은 비율을 보임을 알 수 있다.\n",
        "\n"
      ]
    },
    {
      "cell_type": "code",
      "metadata": {
        "id": "d7EvsVVqy5YF"
      },
      "source": [
        "edu_table = pd.crosstab(train_upsampled['education_level'],train_upsampled['target'])"
      ],
      "execution_count": 42,
      "outputs": []
    },
    {
      "cell_type": "code",
      "metadata": {
        "colab": {
          "base_uri": "https://localhost:8080/",
          "height": 266
        },
        "id": "kvdlyQIQzDOi",
        "outputId": "54ada8b6-932a-44a3-9ae5-552aa211b876"
      },
      "source": [
        "pd.crosstab(train_upsampled['education_level'],train_upsampled['target'], normalize = 'index')"
      ],
      "execution_count": 43,
      "outputs": [
        {
          "output_type": "execute_result",
          "data": {
            "text/html": [
              "<div>\n",
              "<style scoped>\n",
              "    .dataframe tbody tr th:only-of-type {\n",
              "        vertical-align: middle;\n",
              "    }\n",
              "\n",
              "    .dataframe tbody tr th {\n",
              "        vertical-align: top;\n",
              "    }\n",
              "\n",
              "    .dataframe thead th {\n",
              "        text-align: right;\n",
              "    }\n",
              "</style>\n",
              "<table border=\"1\" class=\"dataframe\">\n",
              "  <thead>\n",
              "    <tr style=\"text-align: right;\">\n",
              "      <th>target</th>\n",
              "      <th>0.0</th>\n",
              "      <th>1.0</th>\n",
              "    </tr>\n",
              "    <tr>\n",
              "      <th>education_level</th>\n",
              "      <th></th>\n",
              "      <th></th>\n",
              "    </tr>\n",
              "  </thead>\n",
              "  <tbody>\n",
              "    <tr>\n",
              "      <th>Graduate</th>\n",
              "      <td>0.463423</td>\n",
              "      <td>0.536577</td>\n",
              "    </tr>\n",
              "    <tr>\n",
              "      <th>High School</th>\n",
              "      <td>0.568860</td>\n",
              "      <td>0.431140</td>\n",
              "    </tr>\n",
              "    <tr>\n",
              "      <th>Masters</th>\n",
              "      <td>0.547170</td>\n",
              "      <td>0.452830</td>\n",
              "    </tr>\n",
              "    <tr>\n",
              "      <th>Phd</th>\n",
              "      <td>0.639456</td>\n",
              "      <td>0.360544</td>\n",
              "    </tr>\n",
              "    <tr>\n",
              "      <th>Primary School</th>\n",
              "      <td>0.661290</td>\n",
              "      <td>0.338710</td>\n",
              "    </tr>\n",
              "    <tr>\n",
              "      <th>Unknown</th>\n",
              "      <td>0.531481</td>\n",
              "      <td>0.468519</td>\n",
              "    </tr>\n",
              "  </tbody>\n",
              "</table>\n",
              "</div>"
            ],
            "text/plain": [
              "target                0.0       1.0\n",
              "education_level                    \n",
              "Graduate         0.463423  0.536577\n",
              "High School      0.568860  0.431140\n",
              "Masters          0.547170  0.452830\n",
              "Phd              0.639456  0.360544\n",
              "Primary School   0.661290  0.338710\n",
              "Unknown          0.531481  0.468519"
            ]
          },
          "metadata": {
            "tags": []
          },
          "execution_count": 43
        }
      ]
    },
    {
      "cell_type": "markdown",
      "metadata": {
        "id": "VY29yHl5zN1A"
      },
      "source": [
        "카이 제곱 테스트"
      ]
    },
    {
      "cell_type": "code",
      "metadata": {
        "colab": {
          "base_uri": "https://localhost:8080/"
        },
        "id": "DvZ9r6JezRv_",
        "outputId": "f3783c11-ae61-4bd4-92b7-bca38f10649e"
      },
      "source": [
        "stat, p, dof, expected = chi2_contingency(edu_table)\n",
        "\n",
        "# interpret p-value \n",
        "alpha = 0.05\n",
        "print(\"p value is \" + str(p)) \n",
        "if p <= alpha: \n",
        "    print('Dependent (reject H0)') \n",
        "else: \n",
        "    print('Independent (H0 holds true)') "
      ],
      "execution_count": 44,
      "outputs": [
        {
          "output_type": "stream",
          "text": [
            "p value is 1.4021315190662944e-48\n",
            "Dependent (reject H0)\n"
          ],
          "name": "stdout"
        }
      ]
    },
    {
      "cell_type": "markdown",
      "metadata": {
        "id": "g1ofRD1lzXq2"
      },
      "source": [
        "\n",
        "\n",
        "*   Education Level도 모델에 포함한다."
      ]
    },
    {
      "cell_type": "markdown",
      "metadata": {
        "id": "9ah8URME0EnB"
      },
      "source": [
        "**Major Discipline**"
      ]
    },
    {
      "cell_type": "markdown",
      "metadata": {
        "id": "H-HAh3me0kTG"
      },
      "source": [
        "전공계열은 (STEM, Humanities, Other, Business Degree, Arts, No Major)로 구분된다."
      ]
    },
    {
      "cell_type": "code",
      "metadata": {
        "colab": {
          "base_uri": "https://localhost:8080/"
        },
        "id": "JAu1Kj7H0yZP",
        "outputId": "008db1a6-a315-406c-9b32-7d5553bad6bb"
      },
      "source": [
        "train_upsampled['major_discipline'].value_counts()"
      ],
      "execution_count": 45,
      "outputs": [
        {
          "output_type": "execute_result",
          "data": {
            "text/plain": [
              "STEM               17669\n",
              "Humanities           743\n",
              "Other                467\n",
              "Business Degree      387\n",
              "Arts                 316\n",
              "No Major             267\n",
              "Name: major_discipline, dtype: int64"
            ]
          },
          "metadata": {
            "tags": []
          },
          "execution_count": 45
        }
      ]
    },
    {
      "cell_type": "markdown",
      "metadata": {
        "id": "R09_Pvh11ENJ"
      },
      "source": [
        "\n",
        "\n",
        "*   전공은 STEM(과학,기술,공학,수학)이 월등히 많은 수를 차지함을 알 수 있다.\n",
        "\n"
      ]
    },
    {
      "cell_type": "code",
      "metadata": {
        "colab": {
          "base_uri": "https://localhost:8080/"
        },
        "id": "WmCE04if1TnU",
        "outputId": "b4b2bfe9-4fbf-4f7b-8f3b-279764e457f1"
      },
      "source": [
        "train_upsampled['major_discipline'].isnull().sum()"
      ],
      "execution_count": 46,
      "outputs": [
        {
          "output_type": "execute_result",
          "data": {
            "text/plain": [
              "3177"
            ]
          },
          "metadata": {
            "tags": []
          },
          "execution_count": 46
        }
      ]
    },
    {
      "cell_type": "markdown",
      "metadata": {
        "id": "JKFzQnWv1X5f"
      },
      "source": [
        "결측 데이터는 'Unknown'으로 채운다."
      ]
    },
    {
      "cell_type": "code",
      "metadata": {
        "id": "MM7hDvSl1dwc"
      },
      "source": [
        "train_upsampled['major_discipline'].fillna('Unknown', inplace=True)\n",
        "val_upsampled['major_discipline'].fillna('Unknown', inplace=True)"
      ],
      "execution_count": 47,
      "outputs": []
    },
    {
      "cell_type": "markdown",
      "metadata": {
        "id": "2X7i_bGv13eR"
      },
      "source": [
        "시각화"
      ]
    },
    {
      "cell_type": "code",
      "metadata": {
        "colab": {
          "base_uri": "https://localhost:8080/",
          "height": 458
        },
        "id": "i7x13_AN159A",
        "outputId": "fa4bcea7-56f7-4aae-e2f5-9fec5d7acac3"
      },
      "source": [
        "plt.figure(figsize=(15,7))\n",
        "\n",
        "plt.subplot(121)\n",
        "sns.countplot(data=train_upsampled, x='major_discipline')\n",
        "plt.title('Counts of Majors')\n",
        "plt.xlabel('Major')\n",
        "plt.ylabel('Count');\n",
        "\n",
        "plt.subplot(122)\n",
        "sns.barplot(data=train_upsampled, x='major_discipline', y='target')\n",
        "plt.title('Proportion of Majors of Job Change')\n",
        "plt.xlabel('Major')\n",
        "plt.ylabel('Frequency');"
      ],
      "execution_count": 48,
      "outputs": [
        {
          "output_type": "display_data",
          "data": {
            "image/png": "[encoded data removed]",
            "text/plain": [
              "<Figure size 1080x504 with 2 Axes>"
            ]
          },
          "metadata": {
            "tags": [],
            "needs_background": "light"
          }
        }
      ]
    },
    {
      "cell_type": "markdown",
      "metadata": {
        "id": "yWC7Tqci3GU7"
      },
      "source": [
        "\n",
        "\n",
        "*   STEM degree가 숫자면에서는 월등히 많음을 알 수 있다.\n",
        "*   이직 비율은 전공 계열들이 비슷비슷 함을 알 수 있다.\n",
        "\n"
      ]
    },
    {
      "cell_type": "code",
      "metadata": {
        "id": "-fvlXTkp3jC6"
      },
      "source": [
        "major_table = pd.crosstab(train_upsampled['major_discipline'],train_upsampled['target'])"
      ],
      "execution_count": 49,
      "outputs": []
    },
    {
      "cell_type": "code",
      "metadata": {
        "colab": {
          "base_uri": "https://localhost:8080/",
          "height": 297
        },
        "id": "SvfslEg838hN",
        "outputId": "78a21322-d883-421e-d2ea-22a0bf8b2405"
      },
      "source": [
        "pd.crosstab(train_upsampled['major_discipline'],train_upsampled['target'], normalize = 'index')"
      ],
      "execution_count": 50,
      "outputs": [
        {
          "output_type": "execute_result",
          "data": {
            "text/html": [
              "<div>\n",
              "<style scoped>\n",
              "    .dataframe tbody tr th:only-of-type {\n",
              "        vertical-align: middle;\n",
              "    }\n",
              "\n",
              "    .dataframe tbody tr th {\n",
              "        vertical-align: top;\n",
              "    }\n",
              "\n",
              "    .dataframe thead th {\n",
              "        text-align: right;\n",
              "    }\n",
              "</style>\n",
              "<table border=\"1\" class=\"dataframe\">\n",
              "  <thead>\n",
              "    <tr style=\"text-align: right;\">\n",
              "      <th>target</th>\n",
              "      <th>0.0</th>\n",
              "      <th>1.0</th>\n",
              "    </tr>\n",
              "    <tr>\n",
              "      <th>major_discipline</th>\n",
              "      <th></th>\n",
              "      <th></th>\n",
              "    </tr>\n",
              "  </thead>\n",
              "  <tbody>\n",
              "    <tr>\n",
              "      <th>Arts</th>\n",
              "      <td>0.544304</td>\n",
              "      <td>0.455696</td>\n",
              "    </tr>\n",
              "    <tr>\n",
              "      <th>Business Degree</th>\n",
              "      <td>0.506460</td>\n",
              "      <td>0.493540</td>\n",
              "    </tr>\n",
              "    <tr>\n",
              "      <th>Humanities</th>\n",
              "      <td>0.559892</td>\n",
              "      <td>0.440108</td>\n",
              "    </tr>\n",
              "    <tr>\n",
              "      <th>No Major</th>\n",
              "      <td>0.509363</td>\n",
              "      <td>0.490637</td>\n",
              "    </tr>\n",
              "    <tr>\n",
              "      <th>Other</th>\n",
              "      <td>0.456103</td>\n",
              "      <td>0.543897</td>\n",
              "    </tr>\n",
              "    <tr>\n",
              "      <th>STEM</th>\n",
              "      <td>0.485257</td>\n",
              "      <td>0.514743</td>\n",
              "    </tr>\n",
              "    <tr>\n",
              "      <th>Unknown</th>\n",
              "      <td>0.568461</td>\n",
              "      <td>0.431539</td>\n",
              "    </tr>\n",
              "  </tbody>\n",
              "</table>\n",
              "</div>"
            ],
            "text/plain": [
              "target                 0.0       1.0\n",
              "major_discipline                    \n",
              "Arts              0.544304  0.455696\n",
              "Business Degree   0.506460  0.493540\n",
              "Humanities        0.559892  0.440108\n",
              "No Major          0.509363  0.490637\n",
              "Other             0.456103  0.543897\n",
              "STEM              0.485257  0.514743\n",
              "Unknown           0.568461  0.431539"
            ]
          },
          "metadata": {
            "tags": []
          },
          "execution_count": 50
        }
      ]
    },
    {
      "cell_type": "markdown",
      "metadata": {
        "id": "vI4hOINa3hOz"
      },
      "source": [
        "카이 제곱 테스트"
      ]
    },
    {
      "cell_type": "code",
      "metadata": {
        "colab": {
          "base_uri": "https://localhost:8080/"
        },
        "id": "HS5nSakY5ezx",
        "outputId": "1b973317-d25b-4874-ed59-c1595a9a117d"
      },
      "source": [
        "stat, p, dof, expected = chi2_contingency(major_table)\n",
        "\n",
        "# interpret p-value \n",
        "alpha = 0.05\n",
        "print(\"p value is \" + str(p)) \n",
        "if p <= alpha: \n",
        "    print('Dependent (reject H0)') \n",
        "else: \n",
        "    print('Independent (H0 holds true)') "
      ],
      "execution_count": 51,
      "outputs": [
        {
          "output_type": "stream",
          "text": [
            "p value is 1.2664591955662902e-17\n",
            "Dependent (reject H0)\n"
          ],
          "name": "stdout"
        }
      ]
    },
    {
      "cell_type": "markdown",
      "metadata": {
        "id": "BiDhzdr45kNq"
      },
      "source": [
        "\n",
        "*   Major Discipline 특성도 모델에 포함한다.\n"
      ]
    },
    {
      "cell_type": "markdown",
      "metadata": {
        "id": "zJtJahdJ50w0"
      },
      "source": [
        "**Company Size**"
      ]
    },
    {
      "cell_type": "markdown",
      "metadata": {
        "id": "Agfr-QmA58J-"
      },
      "source": [
        "회사 규모는 (<10, 10/49, 50-99, 100-500, 500-999, 1000-4999, 5000-9999, 10000+) 의 값을 가진다"
      ]
    },
    {
      "cell_type": "code",
      "metadata": {
        "colab": {
          "base_uri": "https://localhost:8080/"
        },
        "id": "q1KqePDv6NxM",
        "outputId": "14cb3a12-fcde-4248-d804-9b86143ffb26"
      },
      "source": [
        "train_upsampled['company_size'].value_counts()"
      ],
      "execution_count": 52,
      "outputs": [
        {
          "output_type": "execute_result",
          "data": {
            "text/plain": [
              "50-99        3357\n",
              "100-500      2657\n",
              "10000+       2231\n",
              "10/49        1737\n",
              "<10          1395\n",
              "1000-4999    1379\n",
              "500-999       944\n",
              "5000-9999     598\n",
              "Name: company_size, dtype: int64"
            ]
          },
          "metadata": {
            "tags": []
          },
          "execution_count": 52
        }
      ]
    },
    {
      "cell_type": "markdown",
      "metadata": {
        "id": "ewibibC66euC"
      },
      "source": [
        "\n",
        "\n",
        "*   50-99명의 규모가 가장 많다.\n",
        "\n"
      ]
    },
    {
      "cell_type": "code",
      "metadata": {
        "colab": {
          "base_uri": "https://localhost:8080/"
        },
        "id": "gXK0Ym2i6oOb",
        "outputId": "50bebfb5-d28d-4631-e031-e3044cfa0074"
      },
      "source": [
        "train_upsampled['company_size'].isnull().sum()"
      ],
      "execution_count": 53,
      "outputs": [
        {
          "output_type": "execute_result",
          "data": {
            "text/plain": [
              "8728"
            ]
          },
          "metadata": {
            "tags": []
          },
          "execution_count": 53
        }
      ]
    },
    {
      "cell_type": "markdown",
      "metadata": {
        "id": "N9GxeBm865rg"
      },
      "source": [
        "결측치를 'Unknown'으로 대체한다."
      ]
    },
    {
      "cell_type": "code",
      "metadata": {
        "id": "DGwL6Kq56_FI"
      },
      "source": [
        "train_upsampled['company_size'].fillna('Unknown', inplace=True)\n",
        "val_upsampled['company_size'].fillna('Unknown', inplace=True)"
      ],
      "execution_count": 54,
      "outputs": []
    },
    {
      "cell_type": "markdown",
      "metadata": {
        "id": "PIHaVi6t7TXa"
      },
      "source": [
        "시각화"
      ]
    },
    {
      "cell_type": "code",
      "metadata": {
        "colab": {
          "base_uri": "https://localhost:8080/",
          "height": 458
        },
        "id": "XFd8_ih47VyY",
        "outputId": "97279c27-1f22-4750-b2f3-60733a983aff"
      },
      "source": [
        "plt.figure(figsize=(15,7))\n",
        "\n",
        "plt.subplot(121)\n",
        "sns.countplot(data=train_upsampled, y='company_size')\n",
        "plt.title('Company Size Counts')\n",
        "plt.xlabel('Count')\n",
        "plt.ylabel('Company Size');\n",
        "\n",
        "plt.subplot(122)\n",
        "sns.barplot(data=train_upsampled, y='company_size', x='target')\n",
        "plt.title('Company Size Proportions of Job Change')\n",
        "plt.xlabel('Proportion')\n",
        "plt.ylabel('Company Size');"
      ],
      "execution_count": 55,
      "outputs": [
        {
          "output_type": "display_data",
          "data": {
            "image/png": "[encoded data removed]",
            "text/plain": [
              "<Figure size 1080x504 with 2 Axes>"
            ]
          },
          "metadata": {
            "tags": [],
            "needs_background": "light"
          }
        }
      ]
    },
    {
      "cell_type": "markdown",
      "metadata": {
        "id": "C9fsq-Ey78EG"
      },
      "source": [
        "\n",
        "\n",
        "*   결측 데이터의 사람들이 가장 많음을 알 수 있다.\n",
        "*   이직 비율도 결측 데이터의 사람들이 가장 많음을 알 수 있다.\n",
        "\n"
      ]
    },
    {
      "cell_type": "code",
      "metadata": {
        "colab": {
          "base_uri": "https://localhost:8080/",
          "height": 359
        },
        "id": "0eTSCggb8RUE",
        "outputId": "287aad6a-81bd-4afb-e781-930dc30b969f"
      },
      "source": [
        "comp_size_table = pd.crosstab(train_upsampled['company_size'],train_upsampled['target'])\n",
        "pd.crosstab(train_upsampled['company_size'],train_upsampled['target'], normalize = 'index')"
      ],
      "execution_count": 56,
      "outputs": [
        {
          "output_type": "execute_result",
          "data": {
            "text/html": [
              "<div>\n",
              "<style scoped>\n",
              "    .dataframe tbody tr th:only-of-type {\n",
              "        vertical-align: middle;\n",
              "    }\n",
              "\n",
              "    .dataframe tbody tr th {\n",
              "        vertical-align: top;\n",
              "    }\n",
              "\n",
              "    .dataframe thead th {\n",
              "        text-align: right;\n",
              "    }\n",
              "</style>\n",
              "<table border=\"1\" class=\"dataframe\">\n",
              "  <thead>\n",
              "    <tr style=\"text-align: right;\">\n",
              "      <th>target</th>\n",
              "      <th>0.0</th>\n",
              "      <th>1.0</th>\n",
              "    </tr>\n",
              "    <tr>\n",
              "      <th>company_size</th>\n",
              "      <th></th>\n",
              "      <th></th>\n",
              "    </tr>\n",
              "  </thead>\n",
              "  <tbody>\n",
              "    <tr>\n",
              "      <th>10/49</th>\n",
              "      <td>0.514105</td>\n",
              "      <td>0.485895</td>\n",
              "    </tr>\n",
              "    <tr>\n",
              "      <th>100-500</th>\n",
              "      <td>0.643583</td>\n",
              "      <td>0.356417</td>\n",
              "    </tr>\n",
              "    <tr>\n",
              "      <th>1000-4999</th>\n",
              "      <td>0.651922</td>\n",
              "      <td>0.348078</td>\n",
              "    </tr>\n",
              "    <tr>\n",
              "      <th>10000+</th>\n",
              "      <td>0.594801</td>\n",
              "      <td>0.405199</td>\n",
              "    </tr>\n",
              "    <tr>\n",
              "      <th>50-99</th>\n",
              "      <td>0.609771</td>\n",
              "      <td>0.390229</td>\n",
              "    </tr>\n",
              "    <tr>\n",
              "      <th>500-999</th>\n",
              "      <td>0.620763</td>\n",
              "      <td>0.379237</td>\n",
              "    </tr>\n",
              "    <tr>\n",
              "      <th>5000-9999</th>\n",
              "      <td>0.607023</td>\n",
              "      <td>0.392977</td>\n",
              "    </tr>\n",
              "    <tr>\n",
              "      <th>&lt;10</th>\n",
              "      <td>0.622222</td>\n",
              "      <td>0.377778</td>\n",
              "    </tr>\n",
              "    <tr>\n",
              "      <th>Unknown</th>\n",
              "      <td>0.323098</td>\n",
              "      <td>0.676902</td>\n",
              "    </tr>\n",
              "  </tbody>\n",
              "</table>\n",
              "</div>"
            ],
            "text/plain": [
              "target             0.0       1.0\n",
              "company_size                    \n",
              "10/49         0.514105  0.485895\n",
              "100-500       0.643583  0.356417\n",
              "1000-4999     0.651922  0.348078\n",
              "10000+        0.594801  0.405199\n",
              "50-99         0.609771  0.390229\n",
              "500-999       0.620763  0.379237\n",
              "5000-9999     0.607023  0.392977\n",
              "<10           0.622222  0.377778\n",
              "Unknown       0.323098  0.676902"
            ]
          },
          "metadata": {
            "tags": []
          },
          "execution_count": 56
        }
      ]
    },
    {
      "cell_type": "markdown",
      "metadata": {
        "id": "scl4T6An8knj"
      },
      "source": [
        "카이 제곱 테스트"
      ]
    },
    {
      "cell_type": "code",
      "metadata": {
        "colab": {
          "base_uri": "https://localhost:8080/"
        },
        "id": "0OKBiZCw8nHx",
        "outputId": "12279562-3af8-44ce-8491-702d6cbc6fe9"
      },
      "source": [
        "stat, p, dof, expected = chi2_contingency(comp_size_table)\n",
        "\n",
        "# interpret p-value \n",
        "alpha = 0.05\n",
        "print(\"p value is \" + str(p)) \n",
        "if p <= alpha: \n",
        "    print('Dependent (reject H0)') \n",
        "else: \n",
        "    print('Independent (H0 holds true)') "
      ],
      "execution_count": 57,
      "outputs": [
        {
          "output_type": "stream",
          "text": [
            "p value is 0.0\n",
            "Dependent (reject H0)\n"
          ],
          "name": "stdout"
        }
      ]
    },
    {
      "cell_type": "markdown",
      "metadata": {
        "id": "-rCR2Hwj8wWn"
      },
      "source": [
        "\n",
        "\n",
        "*   Company Size도 모델에 포함한다.\n",
        "\n"
      ]
    },
    {
      "cell_type": "markdown",
      "metadata": {
        "id": "rIRrEoJE9A9s"
      },
      "source": [
        "**Company Type**"
      ]
    },
    {
      "cell_type": "markdown",
      "metadata": {
        "id": "Y3l2HGUZ9GJO"
      },
      "source": [
        "회사 타입은 (Pvt Ltd, Funded Startup, Public Sector, Early Stage Startup, NGO, Other)의 값을 가진다."
      ]
    },
    {
      "cell_type": "code",
      "metadata": {
        "colab": {
          "base_uri": "https://localhost:8080/"
        },
        "id": "XeoQIjFR9fuY",
        "outputId": "3a743c61-7858-4d47-c7c7-78f64cab404c"
      },
      "source": [
        "train_upsampled['company_type'].value_counts()"
      ],
      "execution_count": 58,
      "outputs": [
        {
          "output_type": "execute_result",
          "data": {
            "text/plain": [
              "Pvt Ltd                10695\n",
              "Public Sector           1094\n",
              "Funded Startup           999\n",
              "Early Stage Startup      737\n",
              "NGO                      555\n",
              "Other                    155\n",
              "Name: company_type, dtype: int64"
            ]
          },
          "metadata": {
            "tags": []
          },
          "execution_count": 58
        }
      ]
    },
    {
      "cell_type": "markdown",
      "metadata": {
        "id": "S4-jx5889wUt"
      },
      "source": [
        "\n",
        "\n",
        "*   개인 회사가 가장 많음을 알 수 있다.\n",
        "\n"
      ]
    },
    {
      "cell_type": "code",
      "metadata": {
        "colab": {
          "base_uri": "https://localhost:8080/"
        },
        "id": "nsvZYF0v-OOh",
        "outputId": "95d01053-5b59-46eb-bd55-d749a6b20564"
      },
      "source": [
        "train_upsampled['company_type'].isnull().sum()"
      ],
      "execution_count": 59,
      "outputs": [
        {
          "output_type": "execute_result",
          "data": {
            "text/plain": [
              "8791"
            ]
          },
          "metadata": {
            "tags": []
          },
          "execution_count": 59
        }
      ]
    },
    {
      "cell_type": "markdown",
      "metadata": {
        "id": "BqdmjPnz--XK"
      },
      "source": [
        "결측치를 'Unknown'으로 대체한다."
      ]
    },
    {
      "cell_type": "code",
      "metadata": {
        "id": "uvdR_sA-_FO7"
      },
      "source": [
        "train_upsampled['company_type'].fillna('Unknown', inplace=True)\n",
        "val_upsampled['company_type'].fillna('Unknown', inplace=True)"
      ],
      "execution_count": 60,
      "outputs": []
    },
    {
      "cell_type": "markdown",
      "metadata": {
        "id": "Jlbjq2bq_Wp_"
      },
      "source": [
        "시각화"
      ]
    },
    {
      "cell_type": "code",
      "metadata": {
        "colab": {
          "base_uri": "https://localhost:8080/",
          "height": 458
        },
        "id": "DmFP2HGU_ZXk",
        "outputId": "e0d69c65-eb14-41f5-cee8-6b590d0e4eb9"
      },
      "source": [
        "plt.figure(figsize=(22,7))\n",
        "\n",
        "plt.subplot(121)\n",
        "sns.countplot(data=train_upsampled, y='company_type')\n",
        "plt.title('Types of company Counts')\n",
        "plt.xlabel('Count')\n",
        "plt.ylabel('Company Type');\n",
        "\n",
        "plt.subplot(122)\n",
        "sns.barplot(data=train_upsampled, y='company_type', x='target')\n",
        "plt.title('Types of company proportion of Job Change')\n",
        "plt.xlabel('Proportion')\n",
        "plt.ylabel('Company Type');"
      ],
      "execution_count": 61,
      "outputs": [
        {
          "output_type": "display_data",
          "data": {
            "image/png": "[encoded data removed]",
            "text/plain": [
              "<Figure size 1584x504 with 2 Axes>"
            ]
          },
          "metadata": {
            "tags": [],
            "needs_background": "light"
          }
        }
      ]
    },
    {
      "cell_type": "markdown",
      "metadata": {
        "id": "JrII8d0b_vDa"
      },
      "source": [
        "\n",
        "\n",
        "*   개인회사(Pvt Ltd)가 가장 많은 수를 차지하고 그 다음 결측 데이터의 회사들이 많음을 알 수 있다.\n",
        "*   이직 비율은 결측 데이터의 회사들이 가장 많음을 알 수 있다.\n",
        "\n"
      ]
    },
    {
      "cell_type": "code",
      "metadata": {
        "colab": {
          "base_uri": "https://localhost:8080/",
          "height": 297
        },
        "id": "AUL6iouJAHsd",
        "outputId": "d896853c-188d-42c8-e7b7-b4825c25a3f5"
      },
      "source": [
        "comp_type_table = pd.crosstab(train_upsampled['company_type'],train_upsampled['target'])\n",
        "pd.crosstab(train_upsampled['company_type'],train_upsampled['target'], normalize = 'index')"
      ],
      "execution_count": 62,
      "outputs": [
        {
          "output_type": "execute_result",
          "data": {
            "text/html": [
              "<div>\n",
              "<style scoped>\n",
              "    .dataframe tbody tr th:only-of-type {\n",
              "        vertical-align: middle;\n",
              "    }\n",
              "\n",
              "    .dataframe tbody tr th {\n",
              "        vertical-align: top;\n",
              "    }\n",
              "\n",
              "    .dataframe thead th {\n",
              "        text-align: right;\n",
              "    }\n",
              "</style>\n",
              "<table border=\"1\" class=\"dataframe\">\n",
              "  <thead>\n",
              "    <tr style=\"text-align: right;\">\n",
              "      <th>target</th>\n",
              "      <th>0.0</th>\n",
              "      <th>1.0</th>\n",
              "    </tr>\n",
              "    <tr>\n",
              "      <th>company_type</th>\n",
              "      <th></th>\n",
              "      <th></th>\n",
              "    </tr>\n",
              "  </thead>\n",
              "  <tbody>\n",
              "    <tr>\n",
              "      <th>Early Stage Startup</th>\n",
              "      <td>0.511533</td>\n",
              "      <td>0.488467</td>\n",
              "    </tr>\n",
              "    <tr>\n",
              "      <th>Funded Startup</th>\n",
              "      <td>0.675676</td>\n",
              "      <td>0.324324</td>\n",
              "    </tr>\n",
              "    <tr>\n",
              "      <th>NGO</th>\n",
              "      <td>0.634234</td>\n",
              "      <td>0.365766</td>\n",
              "    </tr>\n",
              "    <tr>\n",
              "      <th>Other</th>\n",
              "      <td>0.490323</td>\n",
              "      <td>0.509677</td>\n",
              "    </tr>\n",
              "    <tr>\n",
              "      <th>Public Sector</th>\n",
              "      <td>0.543876</td>\n",
              "      <td>0.456124</td>\n",
              "    </tr>\n",
              "    <tr>\n",
              "      <th>Pvt Ltd</th>\n",
              "      <td>0.601122</td>\n",
              "      <td>0.398878</td>\n",
              "    </tr>\n",
              "    <tr>\n",
              "      <th>Unknown</th>\n",
              "      <td>0.342282</td>\n",
              "      <td>0.657718</td>\n",
              "    </tr>\n",
              "  </tbody>\n",
              "</table>\n",
              "</div>"
            ],
            "text/plain": [
              "target                    0.0       1.0\n",
              "company_type                           \n",
              "Early Stage Startup  0.511533  0.488467\n",
              "Funded Startup       0.675676  0.324324\n",
              "NGO                  0.634234  0.365766\n",
              "Other                0.490323  0.509677\n",
              "Public Sector        0.543876  0.456124\n",
              "Pvt Ltd              0.601122  0.398878\n",
              "Unknown              0.342282  0.657718"
            ]
          },
          "metadata": {
            "tags": []
          },
          "execution_count": 62
        }
      ]
    },
    {
      "cell_type": "markdown",
      "metadata": {
        "id": "tWfiv-iuG5K6"
      },
      "source": [
        "카이 제곱 테스트"
      ]
    },
    {
      "cell_type": "code",
      "metadata": {
        "colab": {
          "base_uri": "https://localhost:8080/"
        },
        "id": "59gHuugQG8jV",
        "outputId": "60231773-a636-4ca7-cb9a-a9492332c065"
      },
      "source": [
        "stat, p, dof, expected = chi2_contingency(comp_type_table)\n",
        "\n",
        "# interpret p-value \n",
        "alpha = 0.05\n",
        "print(\"p value is \" + str(p)) \n",
        "if p <= alpha: \n",
        "    print('Dependent (reject H0)') \n",
        "else: \n",
        "    print('Independent (H0 holds true)') "
      ],
      "execution_count": 63,
      "outputs": [
        {
          "output_type": "stream",
          "text": [
            "p value is 0.0\n",
            "Dependent (reject H0)\n"
          ],
          "name": "stdout"
        }
      ]
    },
    {
      "cell_type": "markdown",
      "metadata": {
        "id": "3Tp5qiOMG_Vv"
      },
      "source": [
        "\n",
        "\n",
        "*   Company Type도 모델에 포함한다.\n"
      ]
    },
    {
      "cell_type": "markdown",
      "metadata": {
        "id": "lmS1rfg9HSyn"
      },
      "source": [
        "# **연속형 변수(Continuous Variables)**"
      ]
    },
    {
      "cell_type": "markdown",
      "metadata": {
        "id": "btMyVrNZIYaK"
      },
      "source": [
        "**City Development Index**"
      ]
    },
    {
      "cell_type": "code",
      "metadata": {
        "colab": {
          "base_uri": "https://localhost:8080/"
        },
        "id": "rpO4rktVIhAK",
        "outputId": "771e3eb3-641c-4aa4-f091-5315ffc7ae66"
      },
      "source": [
        "train_upsampled['city_development_index'].describe()"
      ],
      "execution_count": 64,
      "outputs": [
        {
          "output_type": "execute_result",
          "data": {
            "text/plain": [
              "count    23026.000000\n",
              "mean         0.804492\n",
              "std          0.134329\n",
              "min          0.448000\n",
              "25%          0.624000\n",
              "50%          0.890000\n",
              "75%          0.920000\n",
              "max          0.949000\n",
              "Name: city_development_index, dtype: float64"
            ]
          },
          "metadata": {
            "tags": []
          },
          "execution_count": 64
        }
      ]
    },
    {
      "cell_type": "code",
      "metadata": {
        "colab": {
          "base_uri": "https://localhost:8080/",
          "height": 265
        },
        "id": "5PWzhGW2I3UX",
        "outputId": "aa26b5ae-e033-4f08-dbf2-fd83babdf897"
      },
      "source": [
        "plt.hist(data=train_upsampled, x='city_development_index');"
      ],
      "execution_count": 65,
      "outputs": [
        {
          "output_type": "display_data",
          "data": {
            "image/png": "[encoded data removed]",
            "text/plain": [
              "<Figure size 432x288 with 1 Axes>"
            ]
          },
          "metadata": {
            "tags": [],
            "needs_background": "light"
          }
        }
      ]
    },
    {
      "cell_type": "markdown",
      "metadata": {
        "id": "RvQLtjhMJAZA"
      },
      "source": [
        "\n",
        "\n",
        "*   대부분의 도시개발지수가 0.9보다 높다\n",
        "\n"
      ]
    },
    {
      "cell_type": "code",
      "metadata": {
        "colab": {
          "base_uri": "https://localhost:8080/",
          "height": 444
        },
        "id": "2jLqmNttJYyS",
        "outputId": "ce010f36-dc4b-4000-ab56-8db6531ad4e5"
      },
      "source": [
        "plt.figure(figsize=(22,7))\n",
        "\n",
        "plt.subplot(121)\n",
        "plt.title('CDI of Non-Job-Changers')\n",
        "plt.hist(data=train_upsampled[train_upsampled['target'] == 0], x='city_development_index')\n",
        "\n",
        "\n",
        "plt.subplot(122)\n",
        "plt.title('CDI of Job-Changers')\n",
        "plt.hist(data=train_upsampled[train_upsampled['target'] == 1], x='city_development_index');"
      ],
      "execution_count": 66,
      "outputs": [
        {
          "output_type": "display_data",
          "data": {
            "image/png": "[encoded data removed]",
            "text/plain": [
              "<Figure size 1584x504 with 2 Axes>"
            ]
          },
          "metadata": {
            "tags": [],
            "needs_background": "light"
          }
        }
      ]
    },
    {
      "cell_type": "markdown",
      "metadata": {
        "id": "ht3G7pIOKNbP"
      },
      "source": [
        "\n",
        "\n",
        "*   이직을 하지 않는 쪽은 도시개발지수가 전체 분포와 비슷하다.\n",
        "*   이직을 하는 쪽은 도시개발지수가 0.6과 0.9 주위에서 많은 수를 기록했다.\n",
        "\n"
      ]
    },
    {
      "cell_type": "code",
      "metadata": {
        "colab": {
          "base_uri": "https://localhost:8080/",
          "height": 624
        },
        "id": "s3AXitFZKq36",
        "outputId": "affefffe-61cb-4db4-a542-d87b981306d6"
      },
      "source": [
        "plt.figure(figsize=(10,10))\n",
        "sns.boxplot(data=train_upsampled, x='target', y='city_development_index')"
      ],
      "execution_count": 67,
      "outputs": [
        {
          "output_type": "execute_result",
          "data": {
            "text/plain": [
              "<matplotlib.axes._subplots.AxesSubplot at 0x7f30dddd84d0>"
            ]
          },
          "metadata": {
            "tags": []
          },
          "execution_count": 67
        },
        {
          "output_type": "display_data",
          "data": {
            "image/png": "[encoded data removed]",
            "text/plain": [
              "<Figure size 720x720 with 1 Axes>"
            ]
          },
          "metadata": {
            "tags": [],
            "needs_background": "light"
          }
        }
      ]
    },
    {
      "cell_type": "markdown",
      "metadata": {
        "id": "tsZfOwFcQG35"
      },
      "source": [
        "Kruskal Wallis Test"
      ]
    },
    {
      "cell_type": "markdown",
      "metadata": {
        "id": "jfnrxl83QRI7"
      },
      "source": [
        "두 그룹 사이에 통계적으로 유의미한 차이가 있는지 알아보기 위해 연속형 변수(Continuous Variable)에 사용되는 Kruskal Wallis Test를 시행해 본다."
      ]
    },
    {
      "cell_type": "code",
      "metadata": {
        "id": "nKaWtZdSQzTX"
      },
      "source": [
        "no_change_df = train_upsampled[train_upsampled['target'] == 0]\n",
        "change_df =  train_upsampled[train_upsampled['target'] == 1]"
      ],
      "execution_count": 68,
      "outputs": []
    },
    {
      "cell_type": "code",
      "metadata": {
        "colab": {
          "base_uri": "https://localhost:8080/"
        },
        "id": "2FTKannYRv40",
        "outputId": "edbe1394-d48b-4847-b4ef-7368d108ed88"
      },
      "source": [
        "stats.kruskal(no_change_df['city_development_index'], change_df['city_development_index'])"
      ],
      "execution_count": 69,
      "outputs": [
        {
          "output_type": "execute_result",
          "data": {
            "text/plain": [
              "KruskalResult(statistic=2378.1398154123535, pvalue=0.0)"
            ]
          },
          "metadata": {
            "tags": []
          },
          "execution_count": 69
        }
      ]
    },
    {
      "cell_type": "markdown",
      "metadata": {
        "id": "qzAi1aR5SKrW"
      },
      "source": [
        "*   p value 가 0으로 매우 작다. 통계적으로 매우 유의미한 특성으로 모델에 포함한다."
      ]
    },
    {
      "cell_type": "markdown",
      "metadata": {
        "id": "l2tGM33YTw99"
      },
      "source": [
        "**Experience**"
      ]
    },
    {
      "cell_type": "markdown",
      "metadata": {
        "id": "PLujgp6tUSWd"
      },
      "source": [
        "경험은 년수를 나타낸 것으로 1 보다 작거나 부터 20보다 큰 값까지 있다."
      ]
    },
    {
      "cell_type": "code",
      "metadata": {
        "colab": {
          "base_uri": "https://localhost:8080/"
        },
        "id": "l0lR3rlbU31G",
        "outputId": "8cd55918-76c3-4c9c-b1bc-6fb64809c591"
      },
      "source": [
        "train_upsampled['experience'].value_counts()"
      ],
      "execution_count": 70,
      "outputs": [
        {
          "output_type": "execute_result",
          "data": {
            "text/plain": [
              ">20    3457\n",
              "4      1846\n",
              "5      1800\n",
              "3      1795\n",
              "6      1550\n",
              "2      1522\n",
              "7      1292\n",
              "9      1151\n",
              "10     1132\n",
              "8       913\n",
              "1       894\n",
              "11      781\n",
              "<1      736\n",
              "15      730\n",
              "14      687\n",
              "16      551\n",
              "12      531\n",
              "13      465\n",
              "17      360\n",
              "19      303\n",
              "18      279\n",
              "20      180\n",
              "Name: experience, dtype: int64"
            ]
          },
          "metadata": {
            "tags": []
          },
          "execution_count": 70
        }
      ]
    },
    {
      "cell_type": "markdown",
      "metadata": {
        "id": "3DoVbm2nVNmW"
      },
      "source": [
        "'>20'을 21로 <1을 0으로 바꾼다. 이렇게 하여 일관된 데이터 타입을 갖고 모델이 읽어 들일 수 있는 값을 갖게 된다."
      ]
    },
    {
      "cell_type": "code",
      "metadata": {
        "colab": {
          "base_uri": "https://localhost:8080/"
        },
        "id": "N4L2oRG_WAx0",
        "outputId": "d35ac5f1-1a19-4a3e-fc60-5355eaf597e2"
      },
      "source": [
        "train_upsampled['experience'].isnull().sum()"
      ],
      "execution_count": 71,
      "outputs": [
        {
          "output_type": "execute_result",
          "data": {
            "text/plain": [
              "71"
            ]
          },
          "metadata": {
            "tags": []
          },
          "execution_count": 71
        }
      ]
    },
    {
      "cell_type": "markdown",
      "metadata": {
        "id": "Q9dpFhZmVotS"
      },
      "source": [
        "결측치는 데이터에서 랜덤하게 뽑아서 채우도록 한다.\n"
      ]
    },
    {
      "cell_type": "code",
      "metadata": {
        "id": "EIzW9j5hWKwb"
      },
      "source": [
        "np.random.seed(123) #랜덤한 값이 매번 같은 값을 가지도록 랜덤 씨드를 지정해준다.\n",
        "train_upsampled['experience'] = train_upsampled['experience'].replace('>20', 21)\n",
        "train_upsampled['experience'] = train_upsampled['experience'].replace('<1', 0)\n",
        "train_upsampled['experience'] = train_upsampled['experience'].fillna(np.random.choice(train_upsampled['experience']))\n",
        "val_upsampled['experience'] = val_upsampled['experience'].replace('>20', 21)\n",
        "val_upsampled['experience'] = val_upsampled['experience'].replace('<1', 0)\n",
        "val_upsampled['experience'] = val_upsampled['experience'].fillna(np.random.choice(val_upsampled['experience']))"
      ],
      "execution_count": 76,
      "outputs": []
    },
    {
      "cell_type": "markdown",
      "metadata": {
        "id": "k6UYmzxfXYW_"
      },
      "source": [
        "수치형 데이터 타입이 되도록 데이터 타임을 float로 바꾼다."
      ]
    },
    {
      "cell_type": "code",
      "metadata": {
        "id": "ciuAC9XHXfIU"
      },
      "source": [
        "train_upsampled['experience'] = train_upsampled['experience'].astype('float64')\n",
        "val_upsampled['experience'] = val_upsampled['experience'].astype('float64')"
      ],
      "execution_count": 77,
      "outputs": []
    },
    {
      "cell_type": "markdown",
      "metadata": {
        "id": "m40GcNLxX0nD"
      },
      "source": [
        "데이터를 살펴본다"
      ]
    },
    {
      "cell_type": "code",
      "metadata": {
        "colab": {
          "base_uri": "https://localhost:8080/"
        },
        "id": "PQIOORHXX6Fr",
        "outputId": "bafa6bfc-9419-44b0-d641-23cbaf445c57"
      },
      "source": [
        "train_upsampled['experience'].describe()"
      ],
      "execution_count": 74,
      "outputs": [
        {
          "output_type": "execute_result",
          "data": {
            "text/plain": [
              "count    23026.000000\n",
              "mean         9.415704\n",
              "std          6.692446\n",
              "min          0.000000\n",
              "25%          4.000000\n",
              "50%          8.000000\n",
              "75%         15.000000\n",
              "max         21.000000\n",
              "Name: experience, dtype: float64"
            ]
          },
          "metadata": {
            "tags": []
          },
          "execution_count": 74
        }
      ]
    },
    {
      "cell_type": "code",
      "metadata": {
        "colab": {
          "base_uri": "https://localhost:8080/",
          "height": 265
        },
        "id": "f0OERlDWYgmx",
        "outputId": "b0bd814c-4908-4c03-8f4d-4d112675e232"
      },
      "source": [
        "plt.xticks(np.arange(0, 22))\n",
        "plt.hist(data=train_upsampled, x='experience');"
      ],
      "execution_count": 78,
      "outputs": [
        {
          "output_type": "display_data",
          "data": {
            "image/png": "[encoded data removed]",
            "text/plain": [
              "<Figure size 432x288 with 1 Axes>"
            ]
          },
          "metadata": {
            "tags": [],
            "needs_background": "light"
          }
        }
      ]
    },
    {
      "cell_type": "markdown",
      "metadata": {
        "id": "LsOSCTHHYzLf"
      },
      "source": [
        "\n",
        "\n",
        "*   20년 이상과 0~6년 사이의 경험이 가장 많음을 알 수 있다.\n",
        "\n"
      ]
    },
    {
      "cell_type": "code",
      "metadata": {
        "colab": {
          "base_uri": "https://localhost:8080/",
          "height": 444
        },
        "id": "u1KbpulLZLTQ",
        "outputId": "cb0769e1-e33a-4723-f511-057d0f1c3777"
      },
      "source": [
        "plt.figure(figsize=(22,7))\n",
        "\n",
        "plt.subplot(121)\n",
        "plt.title('Experience of Non-Job-Changers')\n",
        "plt.xticks(np.arange(0, 22))\n",
        "plt.hist(data=train_upsampled[train_upsampled['target'] == 0], x='experience')\n",
        "\n",
        "plt.subplot(122)\n",
        "plt.title('Experience of Job-Changers')\n",
        "plt.xticks(np.arange(0, 22))\n",
        "plt.hist(data=train_upsampled[train_upsampled['target'] == 1], x='experience');"
      ],
      "execution_count": 79,
      "outputs": [
        {
          "output_type": "display_data",
          "data": {
            "image/png": "[encoded data removed]",
            "text/plain": [
              "<Figure size 1584x504 with 2 Axes>"
            ]
          },
          "metadata": {
            "tags": [],
            "needs_background": "light"
          }
        }
      ]
    },
    {
      "cell_type": "markdown",
      "metadata": {
        "id": "WJjI22KeaiPX"
      },
      "source": [
        "\n",
        "\n",
        "*   이직자들 중 0~6년사이의 경험자가 가장 많고 그리고 20년 이상이 많다.\n",
        "*   비이직자들중에서는 20년 이상이 가장 많음을 알 수 있다.\n",
        "\n"
      ]
    },
    {
      "cell_type": "code",
      "metadata": {
        "colab": {
          "base_uri": "https://localhost:8080/",
          "height": 624
        },
        "id": "4LSAZZZmbPM8",
        "outputId": "90f6b320-a1a9-49d6-b009-34485d2f2f1b"
      },
      "source": [
        "plt.figure(figsize=(10,10))\n",
        "sns.boxplot(data=train_upsampled, x='target', y='experience')"
      ],
      "execution_count": 80,
      "outputs": [
        {
          "output_type": "execute_result",
          "data": {
            "text/plain": [
              "<matplotlib.axes._subplots.AxesSubplot at 0x7f30dd9b9750>"
            ]
          },
          "metadata": {
            "tags": []
          },
          "execution_count": 80
        },
        {
          "output_type": "display_data",
          "data": {
            "image/png": "[encoded data removed]",
            "text/plain": [
              "<Figure size 720x720 with 1 Axes>"
            ]
          },
          "metadata": {
            "tags": [],
            "needs_background": "light"
          }
        }
      ]
    },
    {
      "cell_type": "markdown",
      "metadata": {
        "id": "1dLrSkoGba1D"
      },
      "source": [
        "\n",
        "\n",
        "*   경험이 적을 수록 이직할 확률이 높은듯하다.\n",
        "\n"
      ]
    },
    {
      "cell_type": "markdown",
      "metadata": {
        "id": "tQSEOC7KbyLx"
      },
      "source": [
        "Kruskal Wallis Test"
      ]
    },
    {
      "cell_type": "code",
      "metadata": {
        "colab": {
          "base_uri": "https://localhost:8080/"
        },
        "id": "vQdleZ3Sb312",
        "outputId": "3fb0d8ec-3700-49fc-b555-7a0d5beeca4d"
      },
      "source": [
        "no_change_df = train_upsampled[train_upsampled['target'] == 0]\n",
        "change_df =  train_upsampled[train_upsampled['target'] == 1]\n",
        "\n",
        "stats.kruskal(no_change_df['experience'], change_df['experience'])"
      ],
      "execution_count": 81,
      "outputs": [
        {
          "output_type": "execute_result",
          "data": {
            "text/plain": [
              "KruskalResult(statistic=996.7544855279108, pvalue=9.11433322223398e-219)"
            ]
          },
          "metadata": {
            "tags": []
          },
          "execution_count": 81
        }
      ]
    },
    {
      "cell_type": "markdown",
      "metadata": {
        "id": "0OR71hwScARt"
      },
      "source": [
        "*   p-value가 매우 낮으므로 통계적으로 유의미한 특성임을 알 수 있다. Experience도 모델에 포함한다."
      ]
    },
    {
      "cell_type": "markdown",
      "metadata": {
        "id": "2QsRJsoZcYQQ"
      },
      "source": [
        "**Last New Job**"
      ]
    },
    {
      "cell_type": "markdown",
      "metadata": {
        "id": "N1sSk6u-cowR"
      },
      "source": [
        "이전 직장과 현재 직장 사이의 년수의 차를 나타낸다."
      ]
    },
    {
      "cell_type": "code",
      "metadata": {
        "colab": {
          "base_uri": "https://localhost:8080/"
        },
        "id": "dOriUMZdc37B",
        "outputId": "477db548-5429-4945-d37c-cbfc63a22dce"
      },
      "source": [
        "train_upsampled['last_new_job'].value_counts()"
      ],
      "execution_count": 82,
      "outputs": [
        {
          "output_type": "execute_result",
          "data": {
            "text/plain": [
              "1        9892\n",
              ">4       3589\n",
              "2        3442\n",
              "never    3139\n",
              "4        1210\n",
              "3        1200\n",
              "Name: last_new_job, dtype: int64"
            ]
          },
          "metadata": {
            "tags": []
          },
          "execution_count": 82
        }
      ]
    },
    {
      "cell_type": "markdown",
      "metadata": {
        "id": "xu0ZTAJJdT-c"
      },
      "source": [
        "\n",
        "\n",
        "*   never을 0으로 >4 를 5로 바꾼다.\n",
        "*   결측치는 데이터에서 랜덤하게 뽑아내어 채운다.\n",
        "*   수치형 데이터가 되도록 데이터 타입을 float으로 바꾼다.\n",
        "\n",
        "\n"
      ]
    },
    {
      "cell_type": "code",
      "metadata": {
        "id": "Oc1rrlY3d6MN"
      },
      "source": [
        "train_upsampled['last_new_job'] = train_upsampled['last_new_job'].replace('>4', 5)\n",
        "train_upsampled['last_new_job'] = train_upsampled['last_new_job'].replace('never', 0)\n",
        "train_upsampled['last_new_job'] = train_upsampled['last_new_job'].fillna(np.random.choice(train_upsampled['last_new_job']))\n",
        "train_upsampled['last_new_job'] = train_upsampled['last_new_job'].astype('float64')\n",
        "val_upsampled['last_new_job'] = val_upsampled['last_new_job'].replace('>4', 5)\n",
        "val_upsampled['last_new_job'] = val_upsampled['last_new_job'].replace('never', 0)\n",
        "val_upsampled['last_new_job'] = val_upsampled['last_new_job'].fillna(np.random.choice(val_upsampled['last_new_job']))\n",
        "val_upsampled['last_new_job'] = val_upsampled['last_new_job'].astype('float64')"
      ],
      "execution_count": 83,
      "outputs": []
    },
    {
      "cell_type": "markdown",
      "metadata": {
        "id": "Qqsq8wageN41"
      },
      "source": [
        "데이터 클린 후 시각화한다."
      ]
    },
    {
      "cell_type": "code",
      "metadata": {
        "id": "VfYwYpryeTE5",
        "outputId": "4de8f07f-685d-4a57-cebe-1f916a198de3",
        "colab": {
          "base_uri": "https://localhost:8080/",
          "height": 265
        }
      },
      "source": [
        "plt.hist(data=train_upsampled, x='last_new_job');"
      ],
      "execution_count": 84,
      "outputs": [
        {
          "output_type": "display_data",
          "data": {
            "image/png": "[encoded data removed]",
            "text/plain": [
              "<Figure size 432x288 with 1 Axes>"
            ]
          },
          "metadata": {
            "tags": [],
            "needs_background": "light"
          }
        }
      ]
    },
    {
      "cell_type": "markdown",
      "metadata": {
        "id": "qnpC19WjeZrG"
      },
      "source": [
        "\n",
        "\n",
        "*   대부분의 데이터가 전 직장 사이의 간격이 1년이다.\n",
        "\n"
      ]
    },
    {
      "cell_type": "code",
      "metadata": {
        "id": "Dc6-ADbDeoSp",
        "outputId": "89abf116-b664-443c-a714-04b27e3f4868",
        "colab": {
          "base_uri": "https://localhost:8080/",
          "height": 444
        }
      },
      "source": [
        "plt.figure(figsize=(22,7))\n",
        "\n",
        "plt.subplot(121)\n",
        "plt.title(\"Last New Job of Non-Job-Changers\")\n",
        "plt.hist(data=train_upsampled[train_upsampled['target'] == 0], x='last_new_job')\n",
        "\n",
        "plt.subplot(122)\n",
        "plt.title(\"Last New Job of Job-Changers\")\n",
        "plt.hist(data=train_upsampled[train_upsampled['target'] == 1], x='last_new_job');"
      ],
      "execution_count": 85,
      "outputs": [
        {
          "output_type": "display_data",
          "data": {
            "image/png": "[encoded data removed]",
            "text/plain": [
              "<Figure size 1584x504 with 2 Axes>"
            ]
          },
          "metadata": {
            "tags": [],
            "needs_background": "light"
          }
        }
      ]
    },
    {
      "cell_type": "markdown",
      "metadata": {
        "id": "karTM0OafShf"
      },
      "source": [
        "\n",
        "\n",
        "*   이직자와 비이직자들의 분포가 비슷하다.\n",
        "\n"
      ]
    },
    {
      "cell_type": "code",
      "metadata": {
        "id": "9BuWl3sYffp2",
        "outputId": "e825e670-ea28-4459-a241-efd57eb99335",
        "colab": {
          "base_uri": "https://localhost:8080/",
          "height": 606
        }
      },
      "source": [
        "plt.figure(figsize=(10,10))\n",
        "sns.boxplot(data=train_upsampled, x='target', y='last_new_job');"
      ],
      "execution_count": 86,
      "outputs": [
        {
          "output_type": "display_data",
          "data": {
            "image/png": "[encoded data removed]",
            "text/plain": [
              "<Figure size 720x720 with 1 Axes>"
            ]
          },
          "metadata": {
            "tags": [],
            "needs_background": "light"
          }
        }
      ]
    },
    {
      "cell_type": "markdown",
      "metadata": {
        "id": "cNBkO8rdfwdU"
      },
      "source": [
        "\n",
        "\n",
        "*   이직자들은 주로 지난 직장과의 년수차가 적은 듯하다. 오랜 년수차를 가진 사람일수록 직장을 바꾸려 하지 않으려 하는 것일 수 있다.\n",
        "\n"
      ]
    },
    {
      "cell_type": "markdown",
      "metadata": {
        "id": "XMb1xBBkgJMl"
      },
      "source": [
        "Kruskal Wallis Test\n",
        "\n"
      ]
    },
    {
      "cell_type": "code",
      "metadata": {
        "id": "KlG2lhuzgPmF",
        "outputId": "ad295707-4361-428b-a556-d00b5ae2f9d4",
        "colab": {
          "base_uri": "https://localhost:8080/"
        }
      },
      "source": [
        "no_change_df = train_upsampled[train_upsampled['target'] == 0]\n",
        "change_df =  train_upsampled[train_upsampled['target'] == 1]\n",
        "\n",
        "stats.kruskal(no_change_df['last_new_job'], change_df['last_new_job'])"
      ],
      "execution_count": 87,
      "outputs": [
        {
          "output_type": "execute_result",
          "data": {
            "text/plain": [
              "KruskalResult(statistic=226.47713712156207, pvalue=3.496596559147369e-51)"
            ]
          },
          "metadata": {
            "tags": []
          },
          "execution_count": 87
        }
      ]
    },
    {
      "cell_type": "markdown",
      "metadata": {
        "id": "W81s42YOjxqZ"
      },
      "source": [
        "\n",
        "\n",
        "*   p value가 0.05 보다 현저히 작다. 통계적으로 유의미하므로 이 특성도 모델에서 사용한다.\n",
        "\n"
      ]
    },
    {
      "cell_type": "markdown",
      "metadata": {
        "id": "u4AnPqphkUM5"
      },
      "source": [
        "**training_hours**"
      ]
    },
    {
      "cell_type": "markdown",
      "metadata": {
        "id": "eiq5hv_qkciE"
      },
      "source": [
        "직원의 현재 포지션을 위한 훈련 시간을 나타낸다."
      ]
    },
    {
      "cell_type": "code",
      "metadata": {
        "id": "-s-_V9dCkuEH",
        "outputId": "cf547e64-02c3-46f8-c908-03fa965fb254",
        "colab": {
          "base_uri": "https://localhost:8080/"
        }
      },
      "source": [
        "train_upsampled['training_hours'].describe()"
      ],
      "execution_count": 88,
      "outputs": [
        {
          "output_type": "execute_result",
          "data": {
            "text/plain": [
              "count    23026.000000\n",
              "mean        64.697342\n",
              "std         59.515442\n",
              "min          1.000000\n",
              "25%         23.000000\n",
              "50%         47.000000\n",
              "75%         88.000000\n",
              "max        336.000000\n",
              "Name: training_hours, dtype: float64"
            ]
          },
          "metadata": {
            "tags": []
          },
          "execution_count": 88
        }
      ]
    },
    {
      "cell_type": "code",
      "metadata": {
        "id": "fCHKMN-yk6el",
        "outputId": "1b8019ed-046f-4bce-a0ad-a66589525733",
        "colab": {
          "base_uri": "https://localhost:8080/",
          "height": 265
        }
      },
      "source": [
        "plt.xticks(np.arange(0,350,20))\n",
        "plt.hist(data=train_upsampled, x='training_hours');"
      ],
      "execution_count": 92,
      "outputs": [
        {
          "output_type": "display_data",
          "data": {
            "image/png": "[encoded data removed]",
            "text/plain": [
              "<Figure size 432x288 with 1 Axes>"
            ]
          },
          "metadata": {
            "tags": [],
            "needs_background": "light"
          }
        }
      ]
    },
    {
      "cell_type": "markdown",
      "metadata": {
        "id": "bUp4GT81lvlq"
      },
      "source": [
        "\n",
        "\n",
        "*   중위 값이 47이고 대부분의 값이 0~60시간 사이에 있다.\n",
        "\n"
      ]
    },
    {
      "cell_type": "code",
      "metadata": {
        "id": "emf0TsIhl82M",
        "outputId": "10d1b061-9de2-4769-fb4a-567ce6101ae1",
        "colab": {
          "base_uri": "https://localhost:8080/",
          "height": 444
        }
      },
      "source": [
        "plt.figure(figsize=(22,7))\n",
        "\n",
        "plt.subplot(121)\n",
        "plt.title('Training Hours of Non-Job-Changers')\n",
        "plt.hist(data=train_upsampled[train_upsampled['target'] == 0], x='training_hours')\n",
        "\n",
        "plt.subplot(122)\n",
        "plt.title('Training Hours of Job-Changers')\n",
        "plt.hist(data=train_upsampled[train_upsampled['target'] == 1], x='training_hours');"
      ],
      "execution_count": 93,
      "outputs": [
        {
          "output_type": "display_data",
          "data": {
            "image/png": "[encoded data removed]",
            "text/plain": [
              "<Figure size 1584x504 with 2 Axes>"
            ]
          },
          "metadata": {
            "tags": [],
            "needs_background": "light"
          }
        }
      ]
    },
    {
      "cell_type": "markdown",
      "metadata": {
        "id": "-jh945qcma-5"
      },
      "source": [
        "\n",
        "\n",
        "*   이직자와 비이직자 사이에 분포의 차이가 거의 없어 보인다.\n",
        "\n"
      ]
    },
    {
      "cell_type": "code",
      "metadata": {
        "id": "QDPDcxTUmlH_",
        "outputId": "dd498e7e-93d1-4033-f2e9-9e59ad5ccbaa",
        "colab": {
          "base_uri": "https://localhost:8080/",
          "height": 624
        }
      },
      "source": [
        "plt.figure(figsize=(10,10))\n",
        "sns.boxplot(data=train_upsampled, x='target', y='training_hours')"
      ],
      "execution_count": 94,
      "outputs": [
        {
          "output_type": "execute_result",
          "data": {
            "text/plain": [
              "<matplotlib.axes._subplots.AxesSubplot at 0x7f30dd952690>"
            ]
          },
          "metadata": {
            "tags": []
          },
          "execution_count": 94
        },
        {
          "output_type": "display_data",
          "data": {
            "image/png": "[encoded data removed]",
            "text/plain": [
              "<Figure size 720x720 with 1 Axes>"
            ]
          },
          "metadata": {
            "tags": [],
            "needs_background": "light"
          }
        }
      ]
    },
    {
      "cell_type": "markdown",
      "metadata": {
        "id": "UcXvLdSZmqvN"
      },
      "source": [
        "\n",
        "\n",
        "*   박스 플롯도 분포가 비슷하다.\n",
        "\n"
      ]
    },
    {
      "cell_type": "markdown",
      "metadata": {
        "id": "-_6VcybOmz2L"
      },
      "source": [
        "Kruskal Wallis Test"
      ]
    },
    {
      "cell_type": "code",
      "metadata": {
        "id": "yJCkN22Ym3od",
        "outputId": "251b3c96-063c-4d39-8e17-4ea286ac6cfc",
        "colab": {
          "base_uri": "https://localhost:8080/"
        }
      },
      "source": [
        "no_change_df = train_upsampled[train_upsampled['target'] == 0]\n",
        "change_df =  train_upsampled[train_upsampled['target'] == 1]\n",
        "\n",
        "stats.kruskal(no_change_df['training_hours'], change_df['training_hours'])"
      ],
      "execution_count": 95,
      "outputs": [
        {
          "output_type": "execute_result",
          "data": {
            "text/plain": [
              "KruskalResult(statistic=6.667459350421786, pvalue=0.009818906248216762)"
            ]
          },
          "metadata": {
            "tags": []
          },
          "execution_count": 95
        }
      ]
    },
    {
      "cell_type": "markdown",
      "metadata": {
        "id": "JudvLJuQnHd8"
      },
      "source": [
        "*   p value가 여태까지 특성 중 가장 크나 그래도 0.05 보다 작으므로 통계적으로 유의미하다고 본다. 이 특성도 모델에 사용한다. "
      ]
    },
    {
      "cell_type": "code",
      "metadata": {
        "id": "Bd1pHYTk8MFa"
      },
      "source": [
        "train.profile_report()"
      ],
      "execution_count": null,
      "outputs": []
    },
    {
      "cell_type": "code",
      "metadata": {
        "id": "pfIAiphbF9_L"
      },
      "source": [
        "test.profile_report()"
      ],
      "execution_count": null,
      "outputs": []
    },
    {
      "cell_type": "code",
      "metadata": {
        "id": "cB_8nOVzImK0"
      },
      "source": [
        "y_test = np.load('/content/gdrive/MyDrive/Kaggle/DS_Job_Change/jobchange_test_target_values.npy', encoding='bytes')"
      ],
      "execution_count": 6,
      "outputs": []
    },
    {
      "cell_type": "code",
      "metadata": {
        "colab": {
          "base_uri": "https://localhost:8080/"
        },
        "id": "1CmiAbpBK_na",
        "outputId": "f5f4ef1b-0a33-4acb-e7f3-4e56404f3c94"
      },
      "source": [
        "len(y_test)"
      ],
      "execution_count": 7,
      "outputs": [
        {
          "output_type": "execute_result",
          "data": {
            "text/plain": [
              "2129"
            ]
          },
          "metadata": {
            "tags": []
          },
          "execution_count": 7
        }
      ]
    },
    {
      "cell_type": "code",
      "metadata": {
        "id": "0V6l4C6vLgf3"
      },
      "source": [
        "#결측치 처리\n",
        "#불균형 데이터 처리"
      ],
      "execution_count": 8,
      "outputs": []
    },
    {
      "cell_type": "code",
      "metadata": {
        "colab": {
          "base_uri": "https://localhost:8080/"
        },
        "id": "1cLze7QZOWUR",
        "outputId": "6a212ef7-629a-4d3e-b9d0-b697c2cac9a4"
      },
      "source": [
        "train.isnull().sum()"
      ],
      "execution_count": 9,
      "outputs": [
        {
          "output_type": "execute_result",
          "data": {
            "text/plain": [
              "enrollee_id                  0\n",
              "city                         0\n",
              "city_development_index       0\n",
              "gender                    4508\n",
              "relevent_experience          0\n",
              "enrolled_university        386\n",
              "education_level            460\n",
              "major_discipline          2813\n",
              "experience                  65\n",
              "company_size              5938\n",
              "company_type              6140\n",
              "last_new_job               423\n",
              "training_hours               0\n",
              "target                       0\n",
              "dtype: int64"
            ]
          },
          "metadata": {
            "tags": []
          },
          "execution_count": 9
        }
      ]
    },
    {
      "cell_type": "code",
      "metadata": {
        "colab": {
          "base_uri": "https://localhost:8080/"
        },
        "id": "yYmz9wHfOZTD",
        "outputId": "7b842bde-04f7-42a3-ddef-8fd7334c43b6"
      },
      "source": [
        "train.dtypes"
      ],
      "execution_count": 10,
      "outputs": [
        {
          "output_type": "execute_result",
          "data": {
            "text/plain": [
              "enrollee_id                 int64\n",
              "city                       object\n",
              "city_development_index    float64\n",
              "gender                     object\n",
              "relevent_experience        object\n",
              "enrolled_university        object\n",
              "education_level            object\n",
              "major_discipline           object\n",
              "experience                 object\n",
              "company_size               object\n",
              "company_type               object\n",
              "last_new_job               object\n",
              "training_hours              int64\n",
              "target                    float64\n",
              "dtype: object"
            ]
          },
          "metadata": {
            "tags": []
          },
          "execution_count": 10
        }
      ]
    },
    {
      "cell_type": "code",
      "metadata": {
        "id": "Iu8Ewz-Ss27p"
      },
      "source": [
        "train.fillna(\"Unknown\", inplace=True) #결측치를 모두 Unknown 이라는 값으로 대체하였다."
      ],
      "execution_count": 12,
      "outputs": []
    },
    {
      "cell_type": "code",
      "metadata": {
        "colab": {
          "base_uri": "https://localhost:8080/"
        },
        "id": "OM16hbvguG8e",
        "outputId": "b438f361-c696-40d3-90bc-c8c17691f389"
      },
      "source": [
        "train.isnull().sum()"
      ],
      "execution_count": 13,
      "outputs": [
        {
          "output_type": "execute_result",
          "data": {
            "text/plain": [
              "enrollee_id               0\n",
              "city                      0\n",
              "city_development_index    0\n",
              "gender                    0\n",
              "relevent_experience       0\n",
              "enrolled_university       0\n",
              "education_level           0\n",
              "major_discipline          0\n",
              "experience                0\n",
              "company_size              0\n",
              "company_type              0\n",
              "last_new_job              0\n",
              "training_hours            0\n",
              "target                    0\n",
              "dtype: int64"
            ]
          },
          "metadata": {
            "tags": []
          },
          "execution_count": 13
        }
      ]
    },
    {
      "cell_type": "code",
      "metadata": {
        "colab": {
          "base_uri": "https://localhost:8080/"
        },
        "id": "Qd5RReIbCrnS",
        "outputId": "c3d4ecab-54a7-4a3d-b018-5dd0774fbfa6"
      },
      "source": [
        "#city 특성이 high cardinality인데 어짜피 어떤 도시인지 모르므로 중요하지 않다고 생각되어 드랍한다.\n",
        "y_train = train.target\n",
        "X_train = train.drop(['target','city'], axis=1)\n",
        "\n",
        "pipe = make_pipeline(\n",
        "    OrdinalEncoder(), \n",
        "    LogisticRegression()\n",
        ")\n",
        "\n",
        "pipe.fit(X_train, y_train)\n",
        "\n",
        "pred_y_0 = pipe.predict(X_train)\n",
        "print(np.unique(pred_y_0))\n",
        "\n",
        "print(accuracy_score(pred_y_0, y_train))\n",
        "#train 데이터로 로지스틱 리그레션 모델을 돌렸을 때 accuracy 값이 0.767 나왔다."
      ],
      "execution_count": 14,
      "outputs": [
        {
          "output_type": "stream",
          "text": [
            "[0. 1.]\n",
            "0.7671468838083307\n"
          ],
          "name": "stdout"
        },
        {
          "output_type": "stream",
          "text": [
            "/usr/local/lib/python3.7/dist-packages/sklearn/linear_model/_logistic.py:940: ConvergenceWarning: lbfgs failed to converge (status=1):\n",
            "STOP: TOTAL NO. of ITERATIONS REACHED LIMIT.\n",
            "\n",
            "Increase the number of iterations (max_iter) or scale the data as shown in:\n",
            "    https://scikit-learn.org/stable/modules/preprocessing.html\n",
            "Please also refer to the documentation for alternative solver options:\n",
            "    https://scikit-learn.org/stable/modules/linear_model.html#logistic-regression\n",
            "  extra_warning_msg=_LOGISTIC_SOLVER_CONVERGENCE_MSG)\n"
          ],
          "name": "stderr"
        }
      ]
    },
    {
      "cell_type": "code",
      "metadata": {
        "id": "vAuhlTROcwc_"
      },
      "source": [
        "def evaluate(model, X, y):\n",
        "    predictions = model.predict(X)\n",
        "    accuracy = accuracy_score(predictions, y)\n",
        "    tn, fp, fn, tp = confusion_matrix(y, predictions).ravel()\n",
        "    sensitivity = tp / (tp+fn)\n",
        "    specificity = tn / (tn+fp)\n",
        "    auc = roc_auc_score(y, predictions)\n",
        "    \n",
        "    print(\"AUC: \", auc)\n",
        "    print(\"Sensitivity: \", round(sensitivity,2)) #1의 값을 예측한 정도\n",
        "    print(\"Specificity: \", round(specificity,2)) #0의 값을 예측한 정도\n",
        "\n",
        "    return round(accuracy,2)\n"
      ],
      "execution_count": 15,
      "outputs": []
    },
    {
      "cell_type": "code",
      "metadata": {
        "colab": {
          "base_uri": "https://localhost:8080/"
        },
        "id": "F-P7L_2RdOuT",
        "outputId": "0b1245ac-b0f0-4c51-94fd-01cf1e4129d8"
      },
      "source": [
        "evaluate(pipe, X_train, y_train)"
      ],
      "execution_count": 16,
      "outputs": [
        {
          "output_type": "stream",
          "text": [
            "AUC:  0.6033946574048397\n",
            "Sensitivity:  0.28\n",
            "Specificity:  0.93\n"
          ],
          "name": "stdout"
        },
        {
          "output_type": "execute_result",
          "data": {
            "text/plain": [
              "0.77"
            ]
          },
          "metadata": {
            "tags": []
          },
          "execution_count": 16
        }
      ]
    },
    {
      "cell_type": "code",
      "metadata": {
        "colab": {
          "base_uri": "https://localhost:8080/"
        },
        "id": "_a2KJ_GA8W9v",
        "outputId": "ea824916-097f-4993-c2b3-e4ee0f78f9e4"
      },
      "source": [
        "train.target.value_counts(normalize=True)"
      ],
      "execution_count": 19,
      "outputs": [
        {
          "output_type": "execute_result",
          "data": {
            "text/plain": [
              "0.0    0.750652\n",
              "1.0    0.249348\n",
              "Name: target, dtype: float64"
            ]
          },
          "metadata": {
            "tags": []
          },
          "execution_count": 19
        }
      ]
    },
    {
      "cell_type": "code",
      "metadata": {
        "id": "CJ4V5mIZ9y18"
      },
      "source": [
        "df_minority_upsampled.profile_report()"
      ],
      "execution_count": null,
      "outputs": []
    },
    {
      "cell_type": "code",
      "metadata": {
        "id": "R68LkARClBEi"
      },
      "source": [
        "df_upsampled.profile_report()"
      ],
      "execution_count": null,
      "outputs": []
    },
    {
      "cell_type": "code",
      "metadata": {
        "colab": {
          "base_uri": "https://localhost:8080/"
        },
        "id": "Axaw4GKLCBDq",
        "outputId": "a4eb3be8-8450-4c74-c580-aba418bf0888"
      },
      "source": [
        "# Resampel function으로 인해 데이터가 balanced 된것을 확인합니다. \n",
        "df_upsampled.target.value_counts()"
      ],
      "execution_count": 64,
      "outputs": [
        {
          "output_type": "execute_result",
          "data": {
            "text/plain": [
              "1.0    14381\n",
              "0.0    14381\n",
              "Name: target, dtype: int64"
            ]
          },
          "metadata": {
            "tags": []
          },
          "execution_count": 64
        }
      ]
    },
    {
      "cell_type": "code",
      "metadata": {
        "colab": {
          "base_uri": "https://localhost:8080/"
        },
        "id": "3_T6eBiabVNX",
        "outputId": "6d3abe64-8e30-43c1-d319-3a03d33a0b81"
      },
      "source": [
        "y = df_upsampled.target\n",
        "X = df_upsampled.drop(['target','city'], axis=1)\n",
        "pipe_up = make_pipeline(\n",
        "    OrdinalEncoder(), \n",
        "    LogisticRegression()\n",
        ")\n",
        "pipe_up.fit(X, y)\n",
        "\n",
        "pred_y_1 = pipe_up.predict(X)\n",
        "print(np.unique(pred_y_1))\n",
        "print(accuracy_score(y, pred_y_1))"
      ],
      "execution_count": 66,
      "outputs": [
        {
          "output_type": "stream",
          "text": [
            "[0. 1.]\n",
            "0.702141714762534\n"
          ],
          "name": "stdout"
        },
        {
          "output_type": "stream",
          "text": [
            "/usr/local/lib/python3.7/dist-packages/sklearn/linear_model/_logistic.py:940: ConvergenceWarning: lbfgs failed to converge (status=1):\n",
            "STOP: TOTAL NO. of ITERATIONS REACHED LIMIT.\n",
            "\n",
            "Increase the number of iterations (max_iter) or scale the data as shown in:\n",
            "    https://scikit-learn.org/stable/modules/preprocessing.html\n",
            "Please also refer to the documentation for alternative solver options:\n",
            "    https://scikit-learn.org/stable/modules/linear_model.html#logistic-regression\n",
            "  extra_warning_msg=_LOGISTIC_SOLVER_CONVERGENCE_MSG)\n"
          ],
          "name": "stderr"
        }
      ]
    },
    {
      "cell_type": "code",
      "metadata": {
        "colab": {
          "base_uri": "https://localhost:8080/"
        },
        "id": "ir5jY_Tlmbdt",
        "outputId": "a27de9ab-8ee7-4477-fdc3-6c047932df86"
      },
      "source": [
        "evaluate(pipe, X_train, y_train)"
      ],
      "execution_count": 55,
      "outputs": [
        {
          "output_type": "stream",
          "text": [
            "AUC:  0.6033946574048397\n",
            "Sensitivity:  0.28\n",
            "Specificity:  0.93\n"
          ],
          "name": "stdout"
        },
        {
          "output_type": "execute_result",
          "data": {
            "text/plain": [
              "0.77"
            ]
          },
          "metadata": {
            "tags": []
          },
          "execution_count": 55
        }
      ]
    },
    {
      "cell_type": "code",
      "metadata": {
        "colab": {
          "base_uri": "https://localhost:8080/"
        },
        "id": "VAZKqFuAeFUh",
        "outputId": "e1d6fb7f-9d28-44df-c900-0f96f9cd7f72"
      },
      "source": [
        "evaluate(pipe_up, X, y)"
      ],
      "execution_count": 67,
      "outputs": [
        {
          "output_type": "stream",
          "text": [
            "AUC:  0.702141714762534\n",
            "Sensitivity:  0.69\n",
            "Specificity:  0.71\n"
          ],
          "name": "stdout"
        },
        {
          "output_type": "execute_result",
          "data": {
            "text/plain": [
              "0.7"
            ]
          },
          "metadata": {
            "tags": []
          },
          "execution_count": 67
        }
      ]
    },
    {
      "cell_type": "markdown",
      "metadata": {
        "id": "XeoLVduSe6ch"
      },
      "source": [
        "* 데이터 불균형을 해결함으로써 1의값을 예측하는 정도와 0의 값을 예측하는 정도가 비슷하게 맞춰진 것을 알 수 있다.\n",
        "* AUC 값도 0.6에 비해 더 높은 0.7이라는 결과가 나왔다."
      ]
    },
    {
      "cell_type": "code",
      "metadata": {
        "colab": {
          "base_uri": "https://localhost:8080/",
          "height": 419
        },
        "id": "yBZHTOO_pE4l",
        "outputId": "f6639c34-6d60-4dae-a98f-7a2cee6ae466"
      },
      "source": [
        ""
      ],
      "execution_count": 68,
      "outputs": [
        {
          "output_type": "execute_result",
          "data": {
            "text/html": [
              "<div>\n",
              "<style scoped>\n",
              "    .dataframe tbody tr th:only-of-type {\n",
              "        vertical-align: middle;\n",
              "    }\n",
              "\n",
              "    .dataframe tbody tr th {\n",
              "        vertical-align: top;\n",
              "    }\n",
              "\n",
              "    .dataframe thead th {\n",
              "        text-align: right;\n",
              "    }\n",
              "</style>\n",
              "<table border=\"1\" class=\"dataframe\">\n",
              "  <thead>\n",
              "    <tr style=\"text-align: right;\">\n",
              "      <th></th>\n",
              "      <th>enrollee_id</th>\n",
              "      <th>city_development_index</th>\n",
              "      <th>gender</th>\n",
              "      <th>relevent_experience</th>\n",
              "      <th>enrolled_university</th>\n",
              "      <th>education_level</th>\n",
              "      <th>major_discipline</th>\n",
              "      <th>experience</th>\n",
              "      <th>company_size</th>\n",
              "      <th>company_type</th>\n",
              "      <th>last_new_job</th>\n",
              "      <th>training_hours</th>\n",
              "    </tr>\n",
              "  </thead>\n",
              "  <tbody>\n",
              "    <tr>\n",
              "      <th>1</th>\n",
              "      <td>29725</td>\n",
              "      <td>0.776</td>\n",
              "      <td>Male</td>\n",
              "      <td>No relevent experience</td>\n",
              "      <td>no_enrollment</td>\n",
              "      <td>Graduate</td>\n",
              "      <td>STEM</td>\n",
              "      <td>15</td>\n",
              "      <td>50-99</td>\n",
              "      <td>Pvt Ltd</td>\n",
              "      <td>&gt;4</td>\n",
              "      <td>47</td>\n",
              "    </tr>\n",
              "    <tr>\n",
              "      <th>2</th>\n",
              "      <td>11561</td>\n",
              "      <td>0.624</td>\n",
              "      <td>Unknown</td>\n",
              "      <td>No relevent experience</td>\n",
              "      <td>Full time course</td>\n",
              "      <td>Graduate</td>\n",
              "      <td>STEM</td>\n",
              "      <td>5</td>\n",
              "      <td>Unknown</td>\n",
              "      <td>Unknown</td>\n",
              "      <td>never</td>\n",
              "      <td>83</td>\n",
              "    </tr>\n",
              "    <tr>\n",
              "      <th>4</th>\n",
              "      <td>666</td>\n",
              "      <td>0.767</td>\n",
              "      <td>Male</td>\n",
              "      <td>Has relevent experience</td>\n",
              "      <td>no_enrollment</td>\n",
              "      <td>Masters</td>\n",
              "      <td>STEM</td>\n",
              "      <td>&gt;20</td>\n",
              "      <td>50-99</td>\n",
              "      <td>Funded Startup</td>\n",
              "      <td>4</td>\n",
              "      <td>8</td>\n",
              "    </tr>\n",
              "    <tr>\n",
              "      <th>6</th>\n",
              "      <td>28806</td>\n",
              "      <td>0.920</td>\n",
              "      <td>Male</td>\n",
              "      <td>Has relevent experience</td>\n",
              "      <td>no_enrollment</td>\n",
              "      <td>High School</td>\n",
              "      <td>Unknown</td>\n",
              "      <td>5</td>\n",
              "      <td>50-99</td>\n",
              "      <td>Funded Startup</td>\n",
              "      <td>1</td>\n",
              "      <td>24</td>\n",
              "    </tr>\n",
              "    <tr>\n",
              "      <th>9</th>\n",
              "      <td>699</td>\n",
              "      <td>0.920</td>\n",
              "      <td>Unknown</td>\n",
              "      <td>Has relevent experience</td>\n",
              "      <td>no_enrollment</td>\n",
              "      <td>Graduate</td>\n",
              "      <td>STEM</td>\n",
              "      <td>17</td>\n",
              "      <td>10000+</td>\n",
              "      <td>Pvt Ltd</td>\n",
              "      <td>&gt;4</td>\n",
              "      <td>123</td>\n",
              "    </tr>\n",
              "    <tr>\n",
              "      <th>...</th>\n",
              "      <td>...</td>\n",
              "      <td>...</td>\n",
              "      <td>...</td>\n",
              "      <td>...</td>\n",
              "      <td>...</td>\n",
              "      <td>...</td>\n",
              "      <td>...</td>\n",
              "      <td>...</td>\n",
              "      <td>...</td>\n",
              "      <td>...</td>\n",
              "      <td>...</td>\n",
              "      <td>...</td>\n",
              "    </tr>\n",
              "    <tr>\n",
              "      <th>9522</th>\n",
              "      <td>8952</td>\n",
              "      <td>0.624</td>\n",
              "      <td>Male</td>\n",
              "      <td>Has relevent experience</td>\n",
              "      <td>Full time course</td>\n",
              "      <td>Graduate</td>\n",
              "      <td>STEM</td>\n",
              "      <td>4</td>\n",
              "      <td>50-99</td>\n",
              "      <td>Pvt Ltd</td>\n",
              "      <td>1</td>\n",
              "      <td>23</td>\n",
              "    </tr>\n",
              "    <tr>\n",
              "      <th>4315</th>\n",
              "      <td>13109</td>\n",
              "      <td>0.920</td>\n",
              "      <td>Male</td>\n",
              "      <td>Has relevent experience</td>\n",
              "      <td>Full time course</td>\n",
              "      <td>Graduate</td>\n",
              "      <td>STEM</td>\n",
              "      <td>4</td>\n",
              "      <td>10/49</td>\n",
              "      <td>Pvt Ltd</td>\n",
              "      <td>1</td>\n",
              "      <td>40</td>\n",
              "    </tr>\n",
              "    <tr>\n",
              "      <th>7</th>\n",
              "      <td>402</td>\n",
              "      <td>0.762</td>\n",
              "      <td>Male</td>\n",
              "      <td>Has relevent experience</td>\n",
              "      <td>no_enrollment</td>\n",
              "      <td>Graduate</td>\n",
              "      <td>STEM</td>\n",
              "      <td>13</td>\n",
              "      <td>&lt;10</td>\n",
              "      <td>Pvt Ltd</td>\n",
              "      <td>&gt;4</td>\n",
              "      <td>18</td>\n",
              "    </tr>\n",
              "    <tr>\n",
              "      <th>2414</th>\n",
              "      <td>21890</td>\n",
              "      <td>0.624</td>\n",
              "      <td>Male</td>\n",
              "      <td>Has relevent experience</td>\n",
              "      <td>no_enrollment</td>\n",
              "      <td>Graduate</td>\n",
              "      <td>STEM</td>\n",
              "      <td>4</td>\n",
              "      <td>Unknown</td>\n",
              "      <td>Unknown</td>\n",
              "      <td>1</td>\n",
              "      <td>68</td>\n",
              "    </tr>\n",
              "    <tr>\n",
              "      <th>5890</th>\n",
              "      <td>11192</td>\n",
              "      <td>0.550</td>\n",
              "      <td>Male</td>\n",
              "      <td>Has relevent experience</td>\n",
              "      <td>no_enrollment</td>\n",
              "      <td>Graduate</td>\n",
              "      <td>STEM</td>\n",
              "      <td>15</td>\n",
              "      <td>1000-4999</td>\n",
              "      <td>Pvt Ltd</td>\n",
              "      <td>3</td>\n",
              "      <td>165</td>\n",
              "    </tr>\n",
              "  </tbody>\n",
              "</table>\n",
              "<p>28762 rows × 12 columns</p>\n",
              "</div>"
            ],
            "text/plain": [
              "      enrollee_id  city_development_index  ... last_new_job training_hours\n",
              "1           29725                   0.776  ...           >4             47\n",
              "2           11561                   0.624  ...        never             83\n",
              "4             666                   0.767  ...            4              8\n",
              "6           28806                   0.920  ...            1             24\n",
              "9             699                   0.920  ...           >4            123\n",
              "...           ...                     ...  ...          ...            ...\n",
              "9522         8952                   0.624  ...            1             23\n",
              "4315        13109                   0.920  ...            1             40\n",
              "7             402                   0.762  ...           >4             18\n",
              "2414        21890                   0.624  ...            1             68\n",
              "5890        11192                   0.550  ...            3            165\n",
              "\n",
              "[28762 rows x 12 columns]"
            ]
          },
          "metadata": {
            "tags": []
          },
          "execution_count": 68
        }
      ]
    }
  ]
}